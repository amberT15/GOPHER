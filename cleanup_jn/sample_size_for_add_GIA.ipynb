{
 "cells": [
  {
   "cell_type": "code",
   "execution_count": 2,
   "metadata": {},
   "outputs": [],
   "source": [
    "%load_ext autoreload\n",
    "%autoreload 2\n",
    "import sys\n",
    "sys.path.append(\"../\")\n",
    "import tensorflow as tf\n",
    "import h5py, os, yaml\n",
    "import umap.umap_ as umap\n",
    "import numpy as np\n",
    "import matplotlib.pyplot as plt\n",
    "import re\n",
    "import seaborn as sns\n",
    "from scipy import stats\n",
    "from scipy.stats import pearsonr\n",
    "from tqdm import tqdm\n",
    "import glob\n",
    "import pandas as pd\n",
    "import subprocess\n",
    "import itertools\n",
    "import tfr_evaluate, util\n",
    "import explain\n",
    "import embed\n",
    "import metrics\n",
    "import quant_GIA\n",
    "from test_to_bw_fast import read_model, get_config\n"
   ]
  },
  {
   "cell_type": "code",
   "execution_count": 5,
   "metadata": {},
   "outputs": [],
   "source": [
    "background_model = 'dinuc'"
   ]
  },
  {
   "cell_type": "code",
   "execution_count": 8,
   "metadata": {},
   "outputs": [
    {
     "name": "stdout",
     "output_type": "stream",
     "text": [
      "WARNING:tensorflow:No training configuration found in save file: the model was *not* compiled. Compile it manually.\n"
     ]
    }
   ],
   "source": [
    "out_dir = util.make_dir('sample_size')\n",
    "testset, targets = tfr_evaluate.collect_whole_testset(coords=True)\n",
    "run_path = '../paper_runs/new_models/32_res/run-20211023_095131-w6okxt01/files/best_model.h5'\n",
    "model = tf.keras.models.load_model(run_path)"
   ]
  },
  {
   "cell_type": "code",
   "execution_count": 9,
   "metadata": {},
   "outputs": [],
   "source": [
    "run_name = [p for p in run_path.split('/') if 'run-' in p][0]\n",
    "gia_add_dir = util.make_dir(os.path.join(out_dir, run_name))\n",
    "C, X, Y = util.convert_tfr_to_np(testset, 3)\n",
    "\n",
    "if background_model == 'dinuc':\n",
    "    X_set = quant_GIA.select_set('all_threshold', C, X, Y)"
   ]
  },
  {
   "cell_type": "code",
   "execution_count": 13,
   "metadata": {},
   "outputs": [],
   "source": [
    "cell_line = 'PC-3'\n",
    "flank_scores = pd.read_csv('add_GIA_interaction/run-20211023_095131-w6okxt01/PC-3_..GATAA../dinuc/flanks.csv')\n",
    "best_gata = flank_scores[flank_scores['cell line'] == cell_line].sort_values('mean difference').iloc[-1,0]\n",
    "flank_scores = pd.read_csv('add_GIA_interaction/run-20211023_095131-w6okxt01/PC-3_..TGA.TCA../dinuc/flanks.csv')\n",
    "best_ap1 = flank_scores[flank_scores['cell line'] == cell_line].sort_values('mean difference').iloc[-1,0]"
   ]
  },
  {
   "cell_type": "code",
   "execution_count": 18,
   "metadata": {},
   "outputs": [
    {
     "data": {
      "text/plain": [
       "1014"
      ]
     },
     "execution_count": 18,
     "metadata": {},
     "output_type": "execute_result"
    }
   ],
   "source": [
    "dist = pd.read_csv('add_GIA_interaction/run-20211023_095131-w6okxt01/PC-3_..GATAA.._and_..TGA.TCA../1024_distance.csv')\n",
    "best_dist = int(dist.sort_values('mean difference').iloc[-1,0].split('_')[1])\n",
    "best_dist"
   ]
  },
  {
   "cell_type": "code",
   "execution_count": 20,
   "metadata": {},
   "outputs": [],
   "source": [
    "optimized_motifs = [[best_gata, 1024], [best_ap1, best_dist]]"
   ]
  },
  {
   "cell_type": "code",
   "execution_count": 26,
   "metadata": {},
   "outputs": [
    {
     "name": "stderr",
     "output_type": "stream",
     "text": [
      "100%|██████████| 4/4 [03:10<00:00, 47.59s/it]\n"
     ]
    }
   ],
   "source": [
    "all_N_dfs = []\n",
    "\n",
    "Ns = [100, 1000, 5000, 10000]\n",
    "for N in tqdm(Ns):\n",
    "    gi = quant_GIA.GlobalImportance(model, targets)\n",
    "    gi.set_null_model(background_model, base_sequence=X_set, num_sample=N)\n",
    "\n",
    "    motifs_to_test = [ [(optimized_motifs[0][0], optimized_motifs[0][1])],\n",
    "                            [(optimized_motifs[1][0], optimized_motifs[1][1])],\n",
    "                            [(optimized_motifs[0][0], optimized_motifs[0][1]), (optimized_motifs[1][0], optimized_motifs[1][1])] ]\n",
    "    interaction_test_dfs = []\n",
    "    for motif_to_test in motifs_to_test:\n",
    "        pattern_label = ' & '.join(['{} at {}'.format(m, str(p)) for m,p in motif_to_test])\n",
    "        diff = gi.embed_predict_quant_effect(motif_to_test).mean(axis=1)\n",
    "        df = pd.DataFrame({\n",
    "                            'mean difference':np.array(diff).flatten(),\n",
    "                            'cell line': np.tile(targets, diff.shape[0])})\n",
    "        df['motif'] = pattern_label\n",
    "        df['N'] = N\n",
    "        interaction_test_dfs.append(df)\n",
    "    \n",
    "    all_N_dfs.append(pd.concat(interaction_test_dfs))\n",
    "    "
   ]
  },
  {
   "cell_type": "code",
   "execution_count": 31,
   "metadata": {},
   "outputs": [
    {
     "data": {
      "text/plain": [
       "(array([0, 1, 2]),\n",
       " [Text(0, 0, 'AAGATAAAC at 1024'),\n",
       "  Text(1, 0, 'GATGACTCATA at 1014'),\n",
       "  Text(2, 0, 'AAGATAAAC at 1024 & GATGACTCATA at 1014')])"
      ]
     },
     "execution_count": 31,
     "metadata": {},
     "output_type": "execute_result"
    },
    {
     "data": {
      "image/png": "[encoded data removed]",
      "text/plain": [
       "<Figure size 432x288 with 1 Axes>"
      ]
     },
     "metadata": {
      "needs_background": "light"
     },
     "output_type": "display_data"
    }
   ],
   "source": [
    "df = pd.concat(all_N_dfs)\n",
    "sns.boxplot(data=df[df['cell line']==cell_line], x='motif', \n",
    "            y='mean difference', hue='N')\n",
    "plt.xticks(rotation=50)"
   ]
  },
  {
   "cell_type": "code",
   "execution_count": null,
   "metadata": {},
   "outputs": [],
   "source": []
  }
 ],
 "metadata": {
  "kernelspec": {
   "display_name": "Python 3",
   "language": "python",
   "name": "python3"
  },
  "language_info": {
   "codemirror_mode": {
    "name": "ipython",
    "version": 3
   },
   "file_extension": ".py",
   "mimetype": "text/x-python",
   "name": "python",
   "nbconvert_exporter": "python",
   "pygments_lexer": "ipython3",
   "version": "3.7.0b3"
  }
 },
 "nbformat": 4,
 "nbformat_minor": 4
}

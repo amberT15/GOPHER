{
 "cells": [
  {
   "cell_type": "markdown",
   "metadata": {},
   "source": [
    "### This notebook visualizes a csv result of tfr_evaluate.py"
   ]
  },
  {
   "cell_type": "code",
   "execution_count": 4,
   "metadata": {},
   "outputs": [],
   "source": [
    "import numpy as np\n",
    "import pandas as pd\n",
    "import os\n",
    "import scipy.stats \n",
    "import h5py\n",
    "import loss\n",
    "from tensorflow.python.keras import backend as K\n",
    "from modelzoo import *\n",
    "import seaborn as sns\n",
    "import matplotlib.pyplot as plt\n",
    "from sklearn.linear_model import LinearRegression\n",
    "import plotly.graph_objects as go\n",
    "import tfr_evaluate\n",
    "import glob"
   ]
  },
  {
   "cell_type": "code",
   "execution_count": 44,
   "metadata": {},
   "outputs": [],
   "source": [
    "performance_results = pd.read_csv('/mnt/31dac31c-c4e2-4704-97bd-0788af37c5eb/model_evaluations/32_res.csv')\n",
    "eval_type = 'whole'\n",
    "pred_type = 'raw'\n",
    "\n",
    "raw_perf = performance_results[(performance_results['pred type']==pred_type)]\n",
    "\n"
   ]
  },
  {
   "cell_type": "code",
   "execution_count": 51,
   "metadata": {},
   "outputs": [],
   "source": [
    "res_dense_32 = raw_perf[raw_perf['run_dir']=='paper_runs/new_models/32_res/run-20211023_095131-w6okxt01'][['targets', 'pr_corr', 'eval type']]"
   ]
  },
  {
   "cell_type": "code",
   "execution_count": 61,
   "metadata": {},
   "outputs": [
    {
     "data": {
      "text/html": [
       "<div>\n",
       "<style scoped>\n",
       "    .dataframe tbody tr th:only-of-type {\n",
       "        vertical-align: middle;\n",
       "    }\n",
       "\n",
       "    .dataframe tbody tr th {\n",
       "        vertical-align: top;\n",
       "    }\n",
       "\n",
       "    .dataframe thead th {\n",
       "        text-align: right;\n",
       "    }\n",
       "</style>\n",
       "<table border=\"1\" class=\"dataframe\">\n",
       "  <thead>\n",
       "    <tr style=\"text-align: right;\">\n",
       "      <th></th>\n",
       "      <th>targets</th>\n",
       "      <th>pr_corr_whole</th>\n",
       "      <th>eval type_whole</th>\n",
       "      <th>pr_corr_idr</th>\n",
       "      <th>eval type_idr</th>\n",
       "    </tr>\n",
       "  </thead>\n",
       "  <tbody>\n",
       "    <tr>\n",
       "      <th>4</th>\n",
       "      <td>HG03575</td>\n",
       "      <td>0.520921</td>\n",
       "      <td>whole</td>\n",
       "      <td>0.840606</td>\n",
       "      <td>idr</td>\n",
       "    </tr>\n",
       "    <tr>\n",
       "      <th>6</th>\n",
       "      <td>DND-41</td>\n",
       "      <td>0.616018</td>\n",
       "      <td>whole</td>\n",
       "      <td>0.862164</td>\n",
       "      <td>idr</td>\n",
       "    </tr>\n",
       "    <tr>\n",
       "      <th>13</th>\n",
       "      <td>PC-3</td>\n",
       "      <td>0.629678</td>\n",
       "      <td>whole</td>\n",
       "      <td>0.843054</td>\n",
       "      <td>idr</td>\n",
       "    </tr>\n",
       "    <tr>\n",
       "      <th>12</th>\n",
       "      <td>Panc1</td>\n",
       "      <td>0.636258</td>\n",
       "      <td>whole</td>\n",
       "      <td>0.848076</td>\n",
       "      <td>idr</td>\n",
       "    </tr>\n",
       "    <tr>\n",
       "      <th>0</th>\n",
       "      <td>GM21381</td>\n",
       "      <td>0.650973</td>\n",
       "      <td>whole</td>\n",
       "      <td>0.854604</td>\n",
       "      <td>idr</td>\n",
       "    </tr>\n",
       "    <tr>\n",
       "      <th>10</th>\n",
       "      <td>IMR-90</td>\n",
       "      <td>0.655147</td>\n",
       "      <td>whole</td>\n",
       "      <td>0.852992</td>\n",
       "      <td>idr</td>\n",
       "    </tr>\n",
       "    <tr>\n",
       "      <th>11</th>\n",
       "      <td>NCI-H929</td>\n",
       "      <td>0.667417</td>\n",
       "      <td>whole</td>\n",
       "      <td>0.821787</td>\n",
       "      <td>idr</td>\n",
       "    </tr>\n",
       "    <tr>\n",
       "      <th>14</th>\n",
       "      <td>MCF</td>\n",
       "      <td>0.670849</td>\n",
       "      <td>whole</td>\n",
       "      <td>0.846820</td>\n",
       "      <td>idr</td>\n",
       "    </tr>\n",
       "    <tr>\n",
       "      <th>9</th>\n",
       "      <td>HCT116</td>\n",
       "      <td>0.687823</td>\n",
       "      <td>whole</td>\n",
       "      <td>0.869730</td>\n",
       "      <td>idr</td>\n",
       "    </tr>\n",
       "    <tr>\n",
       "      <th>7</th>\n",
       "      <td>GM12878</td>\n",
       "      <td>0.688220</td>\n",
       "      <td>whole</td>\n",
       "      <td>0.844328</td>\n",
       "      <td>idr</td>\n",
       "    </tr>\n",
       "    <tr>\n",
       "      <th>3</th>\n",
       "      <td>RWPE2</td>\n",
       "      <td>0.691132</td>\n",
       "      <td>whole</td>\n",
       "      <td>0.856533</td>\n",
       "      <td>idr</td>\n",
       "    </tr>\n",
       "    <tr>\n",
       "      <th>5</th>\n",
       "      <td>K562</td>\n",
       "      <td>0.693856</td>\n",
       "      <td>whole</td>\n",
       "      <td>0.811821</td>\n",
       "      <td>idr</td>\n",
       "    </tr>\n",
       "    <tr>\n",
       "      <th>2</th>\n",
       "      <td>HepG2</td>\n",
       "      <td>0.703015</td>\n",
       "      <td>whole</td>\n",
       "      <td>0.814824</td>\n",
       "      <td>idr</td>\n",
       "    </tr>\n",
       "    <tr>\n",
       "      <th>8</th>\n",
       "      <td>A549</td>\n",
       "      <td>0.732147</td>\n",
       "      <td>whole</td>\n",
       "      <td>0.835182</td>\n",
       "      <td>idr</td>\n",
       "    </tr>\n",
       "    <tr>\n",
       "      <th>1</th>\n",
       "      <td>GM23338</td>\n",
       "      <td>0.734687</td>\n",
       "      <td>whole</td>\n",
       "      <td>0.865344</td>\n",
       "      <td>idr</td>\n",
       "    </tr>\n",
       "  </tbody>\n",
       "</table>\n",
       "</div>"
      ],
      "text/plain": [
       "     targets  pr_corr_whole eval type_whole  pr_corr_idr eval type_idr\n",
       "4    HG03575       0.520921           whole     0.840606           idr\n",
       "6     DND-41       0.616018           whole     0.862164           idr\n",
       "13      PC-3       0.629678           whole     0.843054           idr\n",
       "12     Panc1       0.636258           whole     0.848076           idr\n",
       "0    GM21381       0.650973           whole     0.854604           idr\n",
       "10    IMR-90       0.655147           whole     0.852992           idr\n",
       "11  NCI-H929       0.667417           whole     0.821787           idr\n",
       "14       MCF       0.670849           whole     0.846820           idr\n",
       "9     HCT116       0.687823           whole     0.869730           idr\n",
       "7    GM12878       0.688220           whole     0.844328           idr\n",
       "3      RWPE2       0.691132           whole     0.856533           idr\n",
       "5       K562       0.693856           whole     0.811821           idr\n",
       "2      HepG2       0.703015           whole     0.814824           idr\n",
       "8       A549       0.732147           whole     0.835182           idr\n",
       "1    GM23338       0.734687           whole     0.865344           idr"
      ]
     },
     "execution_count": 61,
     "metadata": {},
     "output_type": "execute_result"
    }
   ],
   "source": [
    "res_dense_32[res_dense_32['eval type']=='whole'].merge(res_dense_32[res_dense_32['eval type']=='idr'],\n",
    "                                                      on='targets', suffixes=['_whole', '_idr']).sort_values('pr_corr_whole')"
   ]
  },
  {
   "cell_type": "code",
   "execution_count": 33,
   "metadata": {},
   "outputs": [],
   "source": [
    "# performance_results = pd.read_csv('/mnt/31dac31c-c4e2-4704-97bd-0788af37c5eb/model_evaluations/augmentation_48.csv')\n",
    "# eval_type = 'whole'\n",
    "# pred_type = 'raw'\n",
    "# labels = ['BPNet base resolution', 'BPNet 128 resolution']\n",
    "# for b, bin_size_filter in enumerate([1, 128]):\n",
    "#     raw_whole_perf = performance_results[(performance_results['eval type']==eval_type)&\n",
    "#                                         (performance_results['pred type']==pred_type)&\n",
    "#                                         (performance_results['bin_size']==bin_size_filter)]\n",
    "\n",
    "\n",
    "#     descriptions = raw_whole_perf.iloc[:,7:]\n",
    "#     avg_perf = raw_whole_perf.groupby('run_dir').mean().reset_index()\n",
    "#     avg_perf_complete = avg_perf.merge(descriptions, how='left', left_on='run_dir',right_on='run_dir').drop_duplicates(subset='run_dir')\n",
    "#     avg_perf_complete['dataset'] = ['peak centered' if 'peak' in d else 'random chop' for d in avg_perf_complete.data_dir]\n",
    "#     df = avg_perf_complete[['model_fn', 'pr_corr', 'mse', 'crop', 'rev_comp_x','bin_size_x', 'dataset']].sort_values('model_fn')\n",
    "# #     print(df.sort_values('pr_corr'))\n",
    "\n",
    "#     table_entries[labels[b]] = df.iloc[np.argmax(df['pr_corr']),:]['pr_corr']\n"
   ]
  },
  {
   "cell_type": "code",
   "execution_count": 18,
   "metadata": {},
   "outputs": [],
   "source": [
    "table_entries = {'base resolution':{}, '32 bin resolution':{}}\n",
    "performance_results = pd.read_csv('/mnt/31dac31c-c4e2-4704-97bd-0788af37c5eb/model_evaluations/binloss_basenji.csv')\n",
    "eval_type = 'whole'\n",
    "pred_type = 'raw'\n",
    "keys = ['base resolution', '32 bin resolution']\n",
    "for b, bin_size_filter in enumerate([1, 32]):\n",
    "    raw_whole_perf = performance_results[(performance_results['eval type']==eval_type)&\n",
    "                                        (performance_results['pred type']==pred_type)&\n",
    "                                        (performance_results['bin_size']==bin_size_filter)]\n",
    "\n",
    "\n",
    "    descriptions = raw_whole_perf.iloc[:,7:]\n",
    "    avg_perf = raw_whole_perf.groupby('run_dir').mean().reset_index()\n",
    "    avg_perf_complete = avg_perf.merge(descriptions, how='left', left_on='run_dir',right_on='run_dir').drop_duplicates(subset='run_dir')\n",
    "    avg_perf_complete['dataset'] = ['peak centered' if 'peak' in d else 'random chop' for d in avg_perf_complete.data_dir]\n",
    "    df = avg_perf_complete[['model_fn', 'pr_corr', 'mse','bin_size_x', 'dataset']].sort_values('model_fn')\n",
    "#     print(df.sort_values('pr_corr'))\n",
    "\n",
    "    table_entries[keys[b]]['basenji'] = df.iloc[np.argmax(df['pr_corr']),:]['pr_corr']"
   ]
  },
  {
   "cell_type": "code",
   "execution_count": 27,
   "metadata": {},
   "outputs": [
    {
     "data": {
      "text/plain": [
       "'paper_runs/basenji/binloss_basenji/run-20210920_034449-8p51o3ho'"
      ]
     },
     "execution_count": 27,
     "metadata": {},
     "output_type": "execute_result"
    }
   ],
   "source": [
    "avg_perf_complete[['model_fn', 'pr_corr', 'mse','bin_size_x', 'dataset', 'loss_fn', 'run_dir']].sort_values('model_fn').iloc[0, -1]"
   ]
  },
  {
   "cell_type": "code",
   "execution_count": 19,
   "metadata": {},
   "outputs": [
    {
     "data": {
      "text/plain": [
       "{'base resolution': {'basenji': 0.576752792012535},\n",
       " '32 bin resolution': {'basenji': 0.5844644671113414}}"
      ]
     },
     "execution_count": 19,
     "metadata": {},
     "output_type": "execute_result"
    }
   ],
   "source": [
    "table_entries"
   ]
  },
  {
   "cell_type": "code",
   "execution_count": 15,
   "metadata": {},
   "outputs": [],
   "source": [
    "'/mnt/31dac31c-c4e2-4704-97bd-0788af37c5eb/model_evaluations/'"
   ]
  },
  {
   "cell_type": "code",
   "execution_count": 16,
   "metadata": {},
   "outputs": [
    {
     "data": {
      "image/png": "[encoded data removed]",
      "text/plain": [
       "<Figure size 432x288 with 1 Axes>"
      ]
     },
     "metadata": {
      "needs_background": "light"
     },
     "output_type": "display_data"
    }
   ],
   "source": [
    "performance_results = pd.read_csv('/mnt/31dac31c-c4e2-4704-97bd-0788af37c5eb/model_evaluations/32_res.csv')\n",
    "eval_type = 'whole'\n",
    "pred_type = 'raw'\n",
    "\n",
    "raw_whole_perf = performance_results[(performance_results['eval type']==eval_type)&\n",
    "                                    (performance_results['pred type']==pred_type)]\n",
    "\n",
    "descriptions = raw_whole_perf.iloc[:,7:]\n",
    "avg_perf = raw_whole_perf.groupby('run_dir').mean().reset_index()\n",
    "avg_perf_complete = avg_perf.merge(descriptions, how='left', left_on='run_dir',right_on='run_dir').drop_duplicates(subset='run_dir')\n",
    "\n",
    "sns.scatterplot(data=avg_perf_complete[['activation', 'model_fn', 'pr_corr', 'mse']].sort_values('model_fn'),\n",
    "               x='model_fn', y='pr_corr', hue='activation')\n",
    "\n",
    "plt.xticks(rotation=50);\n",
    "\n",
    "    "
   ]
  },
  {
   "cell_type": "code",
   "execution_count": 11,
   "metadata": {},
   "outputs": [
    {
     "data": {
      "text/plain": [
       "'paper_runs/new_models/32_res/run-20211023_095131-w6okxt01'"
      ]
     },
     "execution_count": 11,
     "metadata": {},
     "output_type": "execute_result"
    }
   ],
   "source": [
    "avg_perf_complete[(avg_perf_complete['model_fn']=='residual_profile_all_dense_32')&\n",
    "                 (avg_perf_complete['activation']=='exponential')]['run_dir'].values[0]"
   ]
  },
  {
   "cell_type": "code",
   "execution_count": 17,
   "metadata": {},
   "outputs": [
    {
     "data": {
      "text/plain": [
       "'paper_runs/new_models/32_res/run-20211023_095137-ixzgndsj'"
      ]
     },
     "execution_count": 17,
     "metadata": {},
     "output_type": "execute_result"
    }
   ],
   "source": [
    "avg_perf_complete[(avg_perf_complete['model_fn']=='conv_profile_all_dense_32')&\n",
    "                 (avg_perf_complete['activation']=='relu')]['run_dir'].values[0]"
   ]
  },
  {
   "cell_type": "code",
   "execution_count": 71,
   "metadata": {},
   "outputs": [],
   "source": [
    "\n",
    "for i, row in avg_perf_complete.iterrows():\n",
    "    model_id = row['activation'] + ' ' + row['model_fn']\n",
    "    table_entries['32 bin resolution'][model_id] = row['pr_corr']"
   ]
  },
  {
   "cell_type": "code",
   "execution_count": 72,
   "metadata": {},
   "outputs": [
    {
     "data": {
      "text/plain": [
       "{'base resolution': {'basenji': 0.576752792012535},\n",
       " '32 bin resolution': {'basenji': 0.5844644671113414,\n",
       "  'exponential conv_profile_all_dense_32': 0.541614600254761,\n",
       "  'exponential residual_profile_all_dense_32': 0.6652094107558179,\n",
       "  'exponential conv_profile_task_conv_32': 0.596397192270947,\n",
       "  'exponential residual_profile_task_conv_32': 0.6766135122551591,\n",
       "  'exponential conv_profile_task_base': 0.6014398237790821,\n",
       "  'relu residual_profile_all_dense_32': 0.6548470177869479,\n",
       "  'relu residual_profile_task_conv_32': 0.6699191411059828,\n",
       "  'relu conv_profile_all_dense_32': 0.5467686305394831,\n",
       "  'relu conv_profile_task_conv_32': 0.6188213309098523,\n",
       "  'relu conv_profile_task_base': 0.6040166796144629}}"
      ]
     },
     "execution_count": 72,
     "metadata": {},
     "output_type": "execute_result"
    }
   ],
   "source": [
    "table_entries"
   ]
  },
  {
   "cell_type": "code",
   "execution_count": 38,
   "metadata": {},
   "outputs": [
    {
     "data": {
      "text/plain": [
       "array(['paper_runs/new_models/32_res/run-20211023_095131-w6okxt01'],\n",
       "      dtype=object)"
      ]
     },
     "execution_count": 38,
     "metadata": {},
     "output_type": "execute_result"
    }
   ],
   "source": [
    "avg_perf_complete[(avg_perf_complete['model_fn']=='residual_profile_all_dense_32')&\n",
    "                 (avg_perf_complete['activation']=='exponential')]['run_dir'].values"
   ]
  },
  {
   "cell_type": "code",
   "execution_count": 39,
   "metadata": {},
   "outputs": [],
   "source": [
    "avg_perf_complete.sort_values('pr_corr').iloc[[-1]][['run_dir', 'model_fn', 'bin_size_y', 'activation', 'pr_corr']].to_csv('best_overall_32.csv')"
   ]
  },
  {
   "cell_type": "code",
   "execution_count": null,
   "metadata": {},
   "outputs": [],
   "source": []
  },
  {
   "cell_type": "code",
   "execution_count": 23,
   "metadata": {},
   "outputs": [],
   "source": [
    "(avg_perf_complete[avg_perf_complete['model_fn']=='residual_profile_task_conv_32'][['run_dir', 'model_fn', 'bin_size_y', 'activation', 'pr_corr']]).to_csv('32_best.csv')"
   ]
  },
  {
   "cell_type": "code",
   "execution_count": 11,
   "metadata": {
    "scrolled": true
   },
   "outputs": [
    {
     "data": {
      "text/plain": [
       "array(['paper_runs/new_models/32_res/run-20211023_095136-to28llil',\n",
       "       'paper_runs/new_models/32_res/run-20211023_095137-8shfejto'],\n",
       "      dtype=object)"
      ]
     },
     "execution_count": 11,
     "metadata": {},
     "output_type": "execute_result"
    }
   ],
   "source": [
    "avg_perf_complete[avg_perf_complete['model_fn']=='residual_profile_task_conv_32']['run_dir'].values"
   ]
  },
  {
   "cell_type": "code",
   "execution_count": 73,
   "metadata": {},
   "outputs": [
    {
     "name": "stdout",
     "output_type": "stream",
     "text": [
      "     activation                    model_fn   pr_corr       mse\n",
      "0   exponential      conv_profile_task_base  0.598819  0.678551\n",
      "45         relu      conv_profile_task_base  0.607010  0.657293\n",
      "30  exponential   residual_profile_all_base  0.655211  0.587083\n",
      "75         relu   residual_profile_all_base  0.642450  0.607203\n",
      "15  exponential  residual_profile_task_base  0.653638  0.590186\n",
      "60         relu  residual_profile_task_base  0.636879  0.622225\n"
     ]
    },
    {
     "data": {
      "image/png": "[encoded data removed]",
      "text/plain": [
       "<Figure size 432x288 with 1 Axes>"
      ]
     },
     "metadata": {
      "needs_background": "light"
     },
     "output_type": "display_data"
    }
   ],
   "source": [
    "fin_runs = tfr_evaluate.collect_run_dirs('NEW_MODELS_BASERES')\n",
    "performance_results = pd.concat([pd.read_csv(p) for p in \n",
    "                       glob.glob('/mnt/31dac31c-c4e2-4704-97bd-0788af37c5eb/model_evaluations/*base_res.csv')])\n",
    "performance_results = performance_results[performance_results['run_dir'].isin(fin_runs)]\n",
    "eval_type = 'whole'\n",
    "pred_type = 'raw'\n",
    "\n",
    "raw_whole_perf = performance_results[(performance_results['eval type']==eval_type)&\n",
    "                                    (performance_results['pred type']==pred_type)]\n",
    "\n",
    "descriptions = raw_whole_perf.iloc[:,7:]\n",
    "avg_perf = raw_whole_perf.groupby('run_dir').mean().reset_index()\n",
    "avg_perf_complete = avg_perf.merge(descriptions, how='left', left_on='run_dir',right_on='run_dir').drop_duplicates(subset='run_dir')\n",
    "\n",
    "df = avg_perf_complete[['activation', 'model_fn', 'pr_corr', 'mse']].sort_values('model_fn')\n",
    "sns.scatterplot(data=df,\n",
    "               x='model_fn', y='pr_corr', hue='activation')\n",
    "\n",
    "plt.xticks(rotation=50);\n",
    "print(df)\n"
   ]
  },
  {
   "cell_type": "code",
   "execution_count": 74,
   "metadata": {},
   "outputs": [],
   "source": [
    "for i, row in avg_perf_complete.iterrows():\n",
    "    model_id = row['activation'] + ' ' + row['model_fn']\n",
    "    table_entries['base resolution'][model_id] = row['pr_corr']"
   ]
  },
  {
   "cell_type": "code",
   "execution_count": 75,
   "metadata": {},
   "outputs": [
    {
     "data": {
      "text/plain": [
       "{'basenji': 0.576752792012535,\n",
       " 'exponential conv_profile_task_base': 0.5988185154356553,\n",
       " 'exponential residual_profile_task_base': 0.6536380468259895,\n",
       " 'exponential residual_profile_all_base': 0.6552114975516662,\n",
       " 'relu conv_profile_task_base': 0.6070096232525592,\n",
       " 'relu residual_profile_task_base': 0.6368785223129263,\n",
       " 'relu residual_profile_all_base': 0.64245040866167}"
      ]
     },
     "execution_count": 75,
     "metadata": {},
     "output_type": "execute_result"
    }
   ],
   "source": [
    "table_entries['base resolution']"
   ]
  },
  {
   "cell_type": "code",
   "execution_count": 80,
   "metadata": {},
   "outputs": [
    {
     "data": {
      "text/html": [
       "<div>\n",
       "<style scoped>\n",
       "    .dataframe tbody tr th:only-of-type {\n",
       "        vertical-align: middle;\n",
       "    }\n",
       "\n",
       "    .dataframe tbody tr th {\n",
       "        vertical-align: top;\n",
       "    }\n",
       "\n",
       "    .dataframe thead th {\n",
       "        text-align: right;\n",
       "    }\n",
       "</style>\n",
       "<table border=\"1\" class=\"dataframe\">\n",
       "  <thead>\n",
       "    <tr style=\"text-align: right;\">\n",
       "      <th></th>\n",
       "      <th>base resolution performance</th>\n",
       "    </tr>\n",
       "  </thead>\n",
       "  <tbody>\n",
       "    <tr>\n",
       "      <th>basenji</th>\n",
       "      <td>0.576753</td>\n",
       "    </tr>\n",
       "    <tr>\n",
       "      <th>exponential conv_profile_task_base</th>\n",
       "      <td>0.598819</td>\n",
       "    </tr>\n",
       "    <tr>\n",
       "      <th>relu conv_profile_task_base</th>\n",
       "      <td>0.607010</td>\n",
       "    </tr>\n",
       "    <tr>\n",
       "      <th>relu residual_profile_task_base</th>\n",
       "      <td>0.636879</td>\n",
       "    </tr>\n",
       "    <tr>\n",
       "      <th>relu residual_profile_all_base</th>\n",
       "      <td>0.642450</td>\n",
       "    </tr>\n",
       "    <tr>\n",
       "      <th>exponential residual_profile_task_base</th>\n",
       "      <td>0.653638</td>\n",
       "    </tr>\n",
       "    <tr>\n",
       "      <th>exponential residual_profile_all_base</th>\n",
       "      <td>0.655211</td>\n",
       "    </tr>\n",
       "  </tbody>\n",
       "</table>\n",
       "</div>"
      ],
      "text/plain": [
       "                                        base resolution performance\n",
       "basenji                                                    0.576753\n",
       "exponential conv_profile_task_base                         0.598819\n",
       "relu conv_profile_task_base                                0.607010\n",
       "relu residual_profile_task_base                            0.636879\n",
       "relu residual_profile_all_base                             0.642450\n",
       "exponential residual_profile_task_base                     0.653638\n",
       "exponential residual_profile_all_base                      0.655211"
      ]
     },
     "execution_count": 80,
     "metadata": {},
     "output_type": "execute_result"
    }
   ],
   "source": [
    "pd.DataFrame.from_dict(table_entries['base resolution'], orient='index', columns=['base resolution performance']).sort_values('base resolution performance')"
   ]
  },
  {
   "cell_type": "code",
   "execution_count": 82,
   "metadata": {},
   "outputs": [
    {
     "data": {
      "text/html": [
       "<div>\n",
       "<style scoped>\n",
       "    .dataframe tbody tr th:only-of-type {\n",
       "        vertical-align: middle;\n",
       "    }\n",
       "\n",
       "    .dataframe tbody tr th {\n",
       "        vertical-align: top;\n",
       "    }\n",
       "\n",
       "    .dataframe thead th {\n",
       "        text-align: right;\n",
       "    }\n",
       "</style>\n",
       "<table border=\"1\" class=\"dataframe\">\n",
       "  <thead>\n",
       "    <tr style=\"text-align: right;\">\n",
       "      <th></th>\n",
       "      <th>32 bin performance</th>\n",
       "    </tr>\n",
       "  </thead>\n",
       "  <tbody>\n",
       "    <tr>\n",
       "      <th>exponential conv_profile_all_dense_32</th>\n",
       "      <td>0.541615</td>\n",
       "    </tr>\n",
       "    <tr>\n",
       "      <th>relu conv_profile_all_dense_32</th>\n",
       "      <td>0.546769</td>\n",
       "    </tr>\n",
       "    <tr>\n",
       "      <th>basenji</th>\n",
       "      <td>0.584464</td>\n",
       "    </tr>\n",
       "    <tr>\n",
       "      <th>exponential conv_profile_task_conv_32</th>\n",
       "      <td>0.596397</td>\n",
       "    </tr>\n",
       "    <tr>\n",
       "      <th>exponential conv_profile_task_base</th>\n",
       "      <td>0.601440</td>\n",
       "    </tr>\n",
       "    <tr>\n",
       "      <th>relu conv_profile_task_base</th>\n",
       "      <td>0.604017</td>\n",
       "    </tr>\n",
       "    <tr>\n",
       "      <th>relu conv_profile_task_conv_32</th>\n",
       "      <td>0.618821</td>\n",
       "    </tr>\n",
       "    <tr>\n",
       "      <th>relu residual_profile_all_dense_32</th>\n",
       "      <td>0.654847</td>\n",
       "    </tr>\n",
       "    <tr>\n",
       "      <th>exponential residual_profile_all_dense_32</th>\n",
       "      <td>0.665209</td>\n",
       "    </tr>\n",
       "    <tr>\n",
       "      <th>relu residual_profile_task_conv_32</th>\n",
       "      <td>0.669919</td>\n",
       "    </tr>\n",
       "    <tr>\n",
       "      <th>exponential residual_profile_task_conv_32</th>\n",
       "      <td>0.676614</td>\n",
       "    </tr>\n",
       "  </tbody>\n",
       "</table>\n",
       "</div>"
      ],
      "text/plain": [
       "                                           32 bin performance\n",
       "exponential conv_profile_all_dense_32                0.541615\n",
       "relu conv_profile_all_dense_32                       0.546769\n",
       "basenji                                              0.584464\n",
       "exponential conv_profile_task_conv_32                0.596397\n",
       "exponential conv_profile_task_base                   0.601440\n",
       "relu conv_profile_task_base                          0.604017\n",
       "relu conv_profile_task_conv_32                       0.618821\n",
       "relu residual_profile_all_dense_32                   0.654847\n",
       "exponential residual_profile_all_dense_32            0.665209\n",
       "relu residual_profile_task_conv_32                   0.669919\n",
       "exponential residual_profile_task_conv_32            0.676614"
      ]
     },
     "execution_count": 82,
     "metadata": {},
     "output_type": "execute_result"
    }
   ],
   "source": [
    "pd.DataFrame.from_dict(table_entries['32 bin resolution'], orient='index', columns=['32 bin performance']).sort_values('32 bin performance')"
   ]
  },
  {
   "cell_type": "code",
   "execution_count": 83,
   "metadata": {},
   "outputs": [
    {
     "data": {
      "text/plain": [
       "0.1576658271510308"
      ]
     },
     "execution_count": 83,
     "metadata": {},
     "output_type": "execute_result"
    }
   ],
   "source": [
    "(0.676614 - 0.584464)/0.584464"
   ]
  },
  {
   "cell_type": "code",
   "execution_count": null,
   "metadata": {},
   "outputs": [],
   "source": []
  },
  {
   "cell_type": "code",
   "execution_count": 42,
   "metadata": {},
   "outputs": [],
   "source": [
    "avg_perf_complete.sort_values('pr_corr').iloc[[-1]][['run_dir', 'model_fn', 'bin_size_y', 'activation', 'pr_corr']].to_csv('best_overall_base.csv')"
   ]
  },
  {
   "cell_type": "code",
   "execution_count": null,
   "metadata": {},
   "outputs": [],
   "source": []
  },
  {
   "cell_type": "code",
   "execution_count": 25,
   "metadata": {},
   "outputs": [],
   "source": [
    "(avg_perf_complete[avg_perf_complete['model_fn']=='residual_profile_all_base'][['run_dir', 'model_fn', 'bin_size_y', 'activation', 'pr_corr']]).to_csv('base_best.csv')"
   ]
  },
  {
   "cell_type": "code",
   "execution_count": null,
   "metadata": {},
   "outputs": [],
   "source": []
  },
  {
   "cell_type": "code",
   "execution_count": 45,
   "metadata": {},
   "outputs": [
    {
     "data": {
      "text/html": [
       "<div>\n",
       "<style scoped>\n",
       "    .dataframe tbody tr th:only-of-type {\n",
       "        vertical-align: middle;\n",
       "    }\n",
       "\n",
       "    .dataframe tbody tr th {\n",
       "        vertical-align: top;\n",
       "    }\n",
       "\n",
       "    .dataframe thead th {\n",
       "        text-align: right;\n",
       "    }\n",
       "</style>\n",
       "<table border=\"1\" class=\"dataframe\">\n",
       "  <thead>\n",
       "    <tr style=\"text-align: right;\">\n",
       "      <th></th>\n",
       "      <th>model_fn</th>\n",
       "      <th>activation</th>\n",
       "      <th>run_dir</th>\n",
       "    </tr>\n",
       "  </thead>\n",
       "  <tbody>\n",
       "    <tr>\n",
       "      <th>0</th>\n",
       "      <td>conv_profile_task_base</td>\n",
       "      <td>exponential</td>\n",
       "      <td>paper_runs/new_models/base_res/run-20211022_14...</td>\n",
       "    </tr>\n",
       "    <tr>\n",
       "      <th>15</th>\n",
       "      <td>residual_profile_task_base</td>\n",
       "      <td>exponential</td>\n",
       "      <td>paper_runs/new_models/base_res/run-20211022_14...</td>\n",
       "    </tr>\n",
       "    <tr>\n",
       "      <th>30</th>\n",
       "      <td>residual_profile_all_base</td>\n",
       "      <td>exponential</td>\n",
       "      <td>paper_runs/new_models/base_res/run-20211022_14...</td>\n",
       "    </tr>\n",
       "    <tr>\n",
       "      <th>45</th>\n",
       "      <td>conv_profile_task_base</td>\n",
       "      <td>relu</td>\n",
       "      <td>paper_runs/new_models/base_res/run-20211022_15...</td>\n",
       "    </tr>\n",
       "    <tr>\n",
       "      <th>60</th>\n",
       "      <td>residual_profile_task_base</td>\n",
       "      <td>relu</td>\n",
       "      <td>paper_runs/new_models/base_res/run-20211022_20...</td>\n",
       "    </tr>\n",
       "    <tr>\n",
       "      <th>75</th>\n",
       "      <td>residual_profile_all_base</td>\n",
       "      <td>relu</td>\n",
       "      <td>paper_runs/new_models/base_res/run-20211022_22...</td>\n",
       "    </tr>\n",
       "  </tbody>\n",
       "</table>\n",
       "</div>"
      ],
      "text/plain": [
       "                      model_fn   activation  \\\n",
       "0       conv_profile_task_base  exponential   \n",
       "15  residual_profile_task_base  exponential   \n",
       "30   residual_profile_all_base  exponential   \n",
       "45      conv_profile_task_base         relu   \n",
       "60  residual_profile_task_base         relu   \n",
       "75   residual_profile_all_base         relu   \n",
       "\n",
       "                                              run_dir  \n",
       "0   paper_runs/new_models/base_res/run-20211022_14...  \n",
       "15  paper_runs/new_models/base_res/run-20211022_14...  \n",
       "30  paper_runs/new_models/base_res/run-20211022_14...  \n",
       "45  paper_runs/new_models/base_res/run-20211022_15...  \n",
       "60  paper_runs/new_models/base_res/run-20211022_20...  \n",
       "75  paper_runs/new_models/base_res/run-20211022_22...  "
      ]
     },
     "execution_count": 45,
     "metadata": {},
     "output_type": "execute_result"
    }
   ],
   "source": [
    "avg_perf_complete[['model_fn', 'activation', 'run_dir']]"
   ]
  },
  {
   "cell_type": "code",
   "execution_count": 55,
   "metadata": {},
   "outputs": [
    {
     "data": {
      "text/plain": [
       "array(['paper_runs/new_models/base_res/run-20211022_140424-yc4sh7qf'],\n",
       "      dtype=object)"
      ]
     },
     "execution_count": 55,
     "metadata": {},
     "output_type": "execute_result"
    }
   ],
   "source": [
    "avg_perf_complete[(avg_perf_complete['model_fn']=='residual_profile_task_base')&\n",
    "                 (avg_perf_complete['activation']=='exponential')]['run_dir'].values"
   ]
  },
  {
   "cell_type": "code",
   "execution_count": 14,
   "metadata": {},
   "outputs": [
    {
     "name": "stdout",
     "output_type": "stream",
     "text": [
      "     bin_size_x  loss_fn   pr_corr\n",
      "0            32  poisson  0.584464\n",
      "90           64  poisson  0.618963\n",
      "135         128  poisson  0.635478\n",
      "225         512  poisson  0.658232\n",
      "300        1024  poisson  0.665857\n",
      "375        2048  poisson  0.656958\n",
      "450           1  poisson  0.576753\n",
      "525         256  poisson  0.647689\n"
     ]
    },
    {
     "data": {
      "image/png": "[encoded data removed]",
      "text/plain": [
       "<Figure size 432x288 with 1 Axes>"
      ]
     },
     "metadata": {
      "needs_background": "light"
     },
     "output_type": "display_data"
    }
   ],
   "source": [
    "fin_runs = tfr_evaluate.collect_run_dirs('BASENJI_BIN_LOSS')\n",
    "performance_results = pd.concat([pd.read_csv(p) for p in \n",
    "                       glob.glob('/mnt/31dac31c-c4e2-4704-97bd-0788af37c5eb/model_evaluations/*binloss_basenji.csv')])\n",
    "performance_results = performance_results[performance_results['run_dir'].isin(fin_runs)]\n",
    "eval_type = 'whole'\n",
    "pred_type = 'raw'\n",
    "\n",
    "raw_whole_perf = performance_results[(performance_results['eval type']==eval_type)&\n",
    "                                    (performance_results['pred type']==pred_type)]\n",
    "\n",
    "descriptions = raw_whole_perf.iloc[:,7:]\n",
    "avg_perf = raw_whole_perf.groupby('run_dir').mean().reset_index()\n",
    "avg_perf_complete = avg_perf.merge(descriptions, how='left', left_on='run_dir',right_on='run_dir').drop_duplicates(subset='run_dir')\n",
    "\n",
    "df = avg_perf_complete[['bin_size_x', 'loss_fn', 'pr_corr']]#.sort_values('model_fn')\n",
    "sns.scatterplot(data=df,\n",
    "               x='bin_size_x', y='pr_corr', hue='loss_fn')\n",
    "\n",
    "plt.xticks(rotation=50);\n",
    "print(df[df['loss_fn']=='poisson'])"
   ]
  },
  {
   "cell_type": "code",
   "execution_count": 18,
   "metadata": {},
   "outputs": [
    {
     "data": {
      "text/plain": [
       "array(['paper_runs/basenji/binloss_basenji/run-20210923_162932-56p3xy2p'],\n",
       "      dtype=object)"
      ]
     },
     "execution_count": 18,
     "metadata": {},
     "output_type": "execute_result"
    }
   ],
   "source": [
    "avg_perf_complete[(avg_perf_complete['loss_fn']=='poisson')&(avg_perf_complete['bin_size_x']==256)]['run_dir'].values\n"
   ]
  },
  {
   "cell_type": "code",
   "execution_count": 19,
   "metadata": {},
   "outputs": [
    {
     "name": "stdout",
     "output_type": "stream",
     "text": [
      "     bin_size_x  loss_fn   pr_corr\n",
      "30           32  poisson  0.583022\n",
      "45            1  poisson  0.600829\n",
      "165          64  poisson  0.588261\n",
      "240         128  poisson  0.590842\n",
      "285         256  poisson  0.594431\n",
      "360         512  poisson  0.592138\n",
      "435        1024  poisson  0.572238\n",
      "510        2048  poisson  0.524071\n"
     ]
    },
    {
     "data": {
      "image/png": "[encoded data removed]",
      "text/plain": [
       "<Figure size 432x288 with 1 Axes>"
      ]
     },
     "metadata": {
      "needs_background": "light"
     },
     "output_type": "display_data"
    }
   ],
   "source": [
    "# fin_runs = tfr_evaluate.collect_run_dirs('BASENJI_BIN_LOSS')\n",
    "performance_results = pd.concat([pd.read_csv(p) for p in \n",
    "                       glob.glob('/mnt/31dac31c-c4e2-4704-97bd-0788af37c5eb/model_evaluations/*bin_loss_40.csv')])\n",
    "# performance_results = performance_results[performance_results['run_dir'].isin(fin_runs)]\n",
    "eval_type = 'whole'\n",
    "pred_type = 'raw'\n",
    "\n",
    "raw_whole_perf = performance_results[(performance_results['eval type']==eval_type)&\n",
    "                                    (performance_results['pred type']==pred_type)]\n",
    "\n",
    "descriptions = raw_whole_perf.iloc[:,7:]\n",
    "avg_perf = raw_whole_perf.groupby('run_dir').mean().reset_index()\n",
    "avg_perf_complete = avg_perf.merge(descriptions, how='left', left_on='run_dir',right_on='run_dir').drop_duplicates(subset='run_dir')\n",
    "\n",
    "df = avg_perf_complete[['bin_size_x', 'loss_fn', 'pr_corr']]#.sort_values('model_fn')\n",
    "sns.scatterplot(data=df,\n",
    "               x='bin_size_x', y='pr_corr', hue='loss_fn')\n",
    "\n",
    "plt.xticks(rotation=50);\n",
    "print(df[df['loss_fn']=='poisson'])"
   ]
  },
  {
   "cell_type": "code",
   "execution_count": 20,
   "metadata": {},
   "outputs": [
    {
     "data": {
      "text/plain": [
       "array(['paper_runs/bpnet/bin_loss_40/run-20211013_133014-ku9mdrht'],\n",
       "      dtype=object)"
      ]
     },
     "execution_count": 20,
     "metadata": {},
     "output_type": "execute_result"
    }
   ],
   "source": [
    "avg_perf_complete[(avg_perf_complete['loss_fn']=='poisson')&(avg_perf_complete['bin_size_x']==1)]['run_dir'].values\n",
    "\n"
   ]
  },
  {
   "cell_type": "code",
   "execution_count": null,
   "metadata": {},
   "outputs": [],
   "source": []
  }
 ],
 "metadata": {
  "kernelspec": {
   "display_name": "Python 3",
   "language": "python",
   "name": "python3"
  },
  "language_info": {
   "codemirror_mode": {
    "name": "ipython",
    "version": 3
   },
   "file_extension": ".py",
   "mimetype": "text/x-python",
   "name": "python",
   "nbconvert_exporter": "python",
   "pygments_lexer": "ipython3",
   "version": "3.7.0b3"
  }
 },
 "nbformat": 4,
 "nbformat_minor": 4
}

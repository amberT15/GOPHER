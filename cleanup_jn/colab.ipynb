{
 "cells": [
  {
   "cell_type": "code",
   "execution_count": 2,
   "metadata": {},
   "outputs": [],
   "source": [
    "%load_ext autoreload\n",
    "%autoreload 2\n",
    "import sys\n",
    "import tensorflow as tf\n",
    "import h5py, os, yaml\n",
    "import umap.umap_ as umap\n",
    "import numpy as np\n",
    "import matplotlib\n",
    "import matplotlib.pyplot as plt\n",
    "import re\n",
    "from modelzoo import GELU\n",
    "import seaborn as sns\n",
    "from scipy import stats\n",
    "from test_to_bw_fast import read_model, get_config\n",
    "import pandas as pd\n",
    "import matplotlib.patches as patches\n",
    "from tensorflow import keras\n",
    "import plotly.express as px\n",
    "import tfr_evaluate, util\n",
    "import subprocess\n",
    "import explain\n",
    "from tqdm import tqdm\n",
    "import glob\n",
    "import embed\n",
    "from scipy.stats import pearsonr\n",
    "import metrics\n",
    "import test_to_bw_fast\n",
    "import embed"
   ]
  },
  {
   "cell_type": "code",
   "execution_count": 3,
   "metadata": {},
   "outputs": [],
   "source": [
    "testset, targets = tfr_evaluate.collect_whole_testset(data_dir='/mnt/31dac31c-c4e2-4704-97bd-0788af37c5eb/colab/tfr_dataset/i_2048_w_1/', coords=False)\n"
   ]
  },
  {
   "cell_type": "code",
   "execution_count": 4,
   "metadata": {},
   "outputs": [
    {
     "name": "stderr",
     "output_type": "stream",
     "text": [
      "\u001b[34m\u001b[1mwandb\u001b[0m: Currently logged in as: \u001b[33mtoneyan\u001b[0m (use `wandb login --relogin` to force relogin)\n"
     ]
    }
   ],
   "source": [
    "colab_models = tfr_evaluate.collect_run_dirs('COLAB_MODEL_SELECTION', wandb_dir='/mnt/31dac31c-c4e2-4704-97bd-0788af37c5eb/shush/wandb/wandb_colab/*')\n"
   ]
  },
  {
   "cell_type": "code",
   "execution_count": 100,
   "metadata": {
    "collapsed": true
   },
   "outputs": [
    {
     "name": "stdout",
     "output_type": "stream",
     "text": [
      "WARNING:tensorflow:No training configuration found in save file: the model was *not* compiled. Compile it manually.\n"
     ]
    },
    {
     "name": "stderr",
     "output_type": "stream",
     "text": [
      "/home/shush/tf_2/lib/python3.7/site-packages/ipykernel_launcher.py:11: SettingWithCopyWarning: \n",
      "A value is trying to be set on a copy of a slice from a DataFrame.\n",
      "Try using .loc[row_indexer,col_indexer] = value instead\n",
      "\n",
      "See the caveats in the documentation: https://pandas.pydata.org/pandas-docs/stable/user_guide/indexing.html#returning-a-view-versus-a-copy\n",
      "  # This is added back by InteractiveShellApp.init_path()\n",
      "/home/shush/tf_2/lib/python3.7/site-packages/ipykernel_launcher.py:12: SettingWithCopyWarning: \n",
      "A value is trying to be set on a copy of a slice from a DataFrame.\n",
      "Try using .loc[row_indexer,col_indexer] = value instead\n",
      "\n",
      "See the caveats in the documentation: https://pandas.pydata.org/pandas-docs/stable/user_guide/indexing.html#returning-a-view-versus-a-copy\n",
      "  if sys.path[0] == '':\n"
     ]
    },
    {
     "name": "stdout",
     "output_type": "stream",
     "text": [
      "WARNING:tensorflow:No training configuration found in save file: the model was *not* compiled. Compile it manually.\n",
      "WARNING:tensorflow:No training configuration found in save file: the model was *not* compiled. Compile it manually.\n",
      "WARNING:tensorflow:No training configuration found in save file: the model was *not* compiled. Compile it manually.\n",
      "WARNING:tensorflow:No training configuration found in save file: the model was *not* compiled. Compile it manually.\n",
      "WARNING:tensorflow:No training configuration found in save file: the model was *not* compiled. Compile it manually.\n",
      "WARNING:tensorflow:No training configuration found in save file: the model was *not* compiled. Compile it manually.\n"
     ]
    }
   ],
   "source": [
    "all_dfs = []\n",
    "for run_dir in colab_models:\n",
    "    model, bin_size = test_to_bw_fast.read_model(run_dir)\n",
    "    complete_performance, scaling_factors = tfr_evaluate.evaluate_run_whole(model, bin_size, testset, targets)\n",
    "\n",
    "    eval_type = 'whole'\n",
    "    pred_type = 'raw'\n",
    "\n",
    "    raw_whole_perf = complete_performance[(complete_performance['pred type']==pred_type)]\n",
    "\n",
    "    raw_whole_perf['run_dir'] = run_dir\n",
    "    raw_whole_perf['bin_size'] = bin_size\n",
    "    all_dfs.append(raw_whole_perf)\n",
    "complete_performance = pd.concat(all_dfs)\n",
    "complete_performance.to_csv('/mnt/31dac31c-c4e2-4704-97bd-0788af37c5eb/colab/whole_eval.csv')"
   ]
  },
  {
   "cell_type": "code",
   "execution_count": 3,
   "metadata": {},
   "outputs": [],
   "source": [
    "complete_performance = pd.read_csv('/mnt/31dac31c-c4e2-4704-97bd-0788af37c5eb/colab/whole_eval.csv', index_col='Unnamed: 0')\n",
    "\n",
    "summary_df = complete_performance.groupby(['run_dir', 'bin_size']).mean().reset_index().sort_values('pr_corr')[::-1]\n",
    "\n",
    "summary_df['model'] = [tfr_evaluate.get_config(s)['model_fn']['value'] for s in summary_df['run_dir'].values]"
   ]
  },
  {
   "cell_type": "code",
   "execution_count": 4,
   "metadata": {},
   "outputs": [
    {
     "data": {
      "text/html": [
       "<div>\n",
       "<style scoped>\n",
       "    .dataframe tbody tr th:only-of-type {\n",
       "        vertical-align: middle;\n",
       "    }\n",
       "\n",
       "    .dataframe tbody tr th {\n",
       "        vertical-align: top;\n",
       "    }\n",
       "\n",
       "    .dataframe thead th {\n",
       "        text-align: right;\n",
       "    }\n",
       "</style>\n",
       "<table border=\"1\" class=\"dataframe\">\n",
       "  <thead>\n",
       "    <tr style=\"text-align: right;\">\n",
       "      <th></th>\n",
       "      <th>run_dir</th>\n",
       "      <th>bin_size</th>\n",
       "      <th>mse</th>\n",
       "      <th>js_per_seq</th>\n",
       "      <th>js_conc</th>\n",
       "      <th>poiss</th>\n",
       "      <th>pr_corr</th>\n",
       "      <th>sp_corr</th>\n",
       "      <th>model</th>\n",
       "    </tr>\n",
       "  </thead>\n",
       "  <tbody>\n",
       "    <tr>\n",
       "      <th>5</th>\n",
       "      <td>/mnt/31dac31c-c4e2-4704-97bd-0788af37c5eb/shus...</td>\n",
       "      <td>32</td>\n",
       "      <td>20.033419</td>\n",
       "      <td>0.466013</td>\n",
       "      <td>0.403525</td>\n",
       "      <td>-1.147655</td>\n",
       "      <td>0.752273</td>\n",
       "      <td>0.358527</td>\n",
       "      <td>residual_profile_task_conv_32</td>\n",
       "    </tr>\n",
       "    <tr>\n",
       "      <th>4</th>\n",
       "      <td>/mnt/31dac31c-c4e2-4704-97bd-0788af37c5eb/shus...</td>\n",
       "      <td>32</td>\n",
       "      <td>21.289374</td>\n",
       "      <td>0.463262</td>\n",
       "      <td>0.409500</td>\n",
       "      <td>-1.116898</td>\n",
       "      <td>0.750426</td>\n",
       "      <td>0.343279</td>\n",
       "      <td>residual_profile_all_dense_32</td>\n",
       "    </tr>\n",
       "    <tr>\n",
       "      <th>0</th>\n",
       "      <td>/mnt/31dac31c-c4e2-4704-97bd-0788af37c5eb/shus...</td>\n",
       "      <td>1</td>\n",
       "      <td>20.884892</td>\n",
       "      <td>0.479705</td>\n",
       "      <td>0.417046</td>\n",
       "      <td>-1.147827</td>\n",
       "      <td>0.745505</td>\n",
       "      <td>0.339317</td>\n",
       "      <td>residual_profile_task_base</td>\n",
       "    </tr>\n",
       "    <tr>\n",
       "      <th>3</th>\n",
       "      <td>/mnt/31dac31c-c4e2-4704-97bd-0788af37c5eb/shus...</td>\n",
       "      <td>32</td>\n",
       "      <td>20.273808</td>\n",
       "      <td>0.480199</td>\n",
       "      <td>0.409590</td>\n",
       "      <td>-1.134167</td>\n",
       "      <td>0.736514</td>\n",
       "      <td>0.354762</td>\n",
       "      <td>bpnet</td>\n",
       "    </tr>\n",
       "    <tr>\n",
       "      <th>1</th>\n",
       "      <td>/mnt/31dac31c-c4e2-4704-97bd-0788af37c5eb/shus...</td>\n",
       "      <td>1</td>\n",
       "      <td>21.575338</td>\n",
       "      <td>0.503385</td>\n",
       "      <td>0.421875</td>\n",
       "      <td>-1.136762</td>\n",
       "      <td>0.726155</td>\n",
       "      <td>0.337294</td>\n",
       "      <td>bpnet</td>\n",
       "    </tr>\n",
       "    <tr>\n",
       "      <th>6</th>\n",
       "      <td>/mnt/31dac31c-c4e2-4704-97bd-0788af37c5eb/shus...</td>\n",
       "      <td>32</td>\n",
       "      <td>27.755841</td>\n",
       "      <td>0.475173</td>\n",
       "      <td>0.474442</td>\n",
       "      <td>-0.743382</td>\n",
       "      <td>0.655922</td>\n",
       "      <td>0.276341</td>\n",
       "      <td>basenjimod</td>\n",
       "    </tr>\n",
       "    <tr>\n",
       "      <th>2</th>\n",
       "      <td>/mnt/31dac31c-c4e2-4704-97bd-0788af37c5eb/shus...</td>\n",
       "      <td>1</td>\n",
       "      <td>29.732543</td>\n",
       "      <td>0.511358</td>\n",
       "      <td>0.489145</td>\n",
       "      <td>-0.727290</td>\n",
       "      <td>0.643289</td>\n",
       "      <td>0.263557</td>\n",
       "      <td>basenji_w1_b64</td>\n",
       "    </tr>\n",
       "  </tbody>\n",
       "</table>\n",
       "</div>"
      ],
      "text/plain": [
       "                                             run_dir  bin_size        mse  \\\n",
       "5  /mnt/31dac31c-c4e2-4704-97bd-0788af37c5eb/shus...        32  20.033419   \n",
       "4  /mnt/31dac31c-c4e2-4704-97bd-0788af37c5eb/shus...        32  21.289374   \n",
       "0  /mnt/31dac31c-c4e2-4704-97bd-0788af37c5eb/shus...         1  20.884892   \n",
       "3  /mnt/31dac31c-c4e2-4704-97bd-0788af37c5eb/shus...        32  20.273808   \n",
       "1  /mnt/31dac31c-c4e2-4704-97bd-0788af37c5eb/shus...         1  21.575338   \n",
       "6  /mnt/31dac31c-c4e2-4704-97bd-0788af37c5eb/shus...        32  27.755841   \n",
       "2  /mnt/31dac31c-c4e2-4704-97bd-0788af37c5eb/shus...         1  29.732543   \n",
       "\n",
       "   js_per_seq   js_conc     poiss   pr_corr   sp_corr  \\\n",
       "5    0.466013  0.403525 -1.147655  0.752273  0.358527   \n",
       "4    0.463262  0.409500 -1.116898  0.750426  0.343279   \n",
       "0    0.479705  0.417046 -1.147827  0.745505  0.339317   \n",
       "3    0.480199  0.409590 -1.134167  0.736514  0.354762   \n",
       "1    0.503385  0.421875 -1.136762  0.726155  0.337294   \n",
       "6    0.475173  0.474442 -0.743382  0.655922  0.276341   \n",
       "2    0.511358  0.489145 -0.727290  0.643289  0.263557   \n",
       "\n",
       "                           model  \n",
       "5  residual_profile_task_conv_32  \n",
       "4  residual_profile_all_dense_32  \n",
       "0     residual_profile_task_base  \n",
       "3                          bpnet  \n",
       "1                          bpnet  \n",
       "6                     basenjimod  \n",
       "2                 basenji_w1_b64  "
      ]
     },
     "execution_count": 4,
     "metadata": {},
     "output_type": "execute_result"
    }
   ],
   "source": [
    "summary_df"
   ]
  },
  {
   "cell_type": "code",
   "execution_count": 4,
   "metadata": {},
   "outputs": [],
   "source": [
    "best_model = summary_df.iloc[0,0]"
   ]
  },
  {
   "cell_type": "code",
   "execution_count": 7,
   "metadata": {},
   "outputs": [
    {
     "data": {
      "text/html": [
       "<div>\n",
       "<style scoped>\n",
       "    .dataframe tbody tr th:only-of-type {\n",
       "        vertical-align: middle;\n",
       "    }\n",
       "\n",
       "    .dataframe tbody tr th {\n",
       "        vertical-align: top;\n",
       "    }\n",
       "\n",
       "    .dataframe thead th {\n",
       "        text-align: right;\n",
       "    }\n",
       "</style>\n",
       "<table border=\"1\" class=\"dataframe\">\n",
       "  <thead>\n",
       "    <tr style=\"text-align: right;\">\n",
       "      <th></th>\n",
       "      <th>mse</th>\n",
       "      <th>js_per_seq</th>\n",
       "      <th>js_conc</th>\n",
       "      <th>poiss</th>\n",
       "      <th>pr_corr</th>\n",
       "      <th>sp_corr</th>\n",
       "      <th>targets</th>\n",
       "      <th>pred type</th>\n",
       "      <th>eval type</th>\n",
       "      <th>run_dir</th>\n",
       "      <th>bin_size</th>\n",
       "    </tr>\n",
       "  </thead>\n",
       "  <tbody>\n",
       "    <tr>\n",
       "      <th>8</th>\n",
       "      <td>20.082785</td>\n",
       "      <td>0.512522</td>\n",
       "      <td>0.371540</td>\n",
       "      <td>-2.138304</td>\n",
       "      <td>0.849573</td>\n",
       "      <td>0.403489</td>\n",
       "      <td>CAGMYC_DD5_Virgin_Input_27ac</td>\n",
       "      <td>raw</td>\n",
       "      <td>whole</td>\n",
       "      <td>/mnt/31dac31c-c4e2-4704-97bd-0788af37c5eb/shus...</td>\n",
       "      <td>32</td>\n",
       "    </tr>\n",
       "    <tr>\n",
       "      <th>1</th>\n",
       "      <td>20.084110</td>\n",
       "      <td>0.512580</td>\n",
       "      <td>0.371577</td>\n",
       "      <td>-2.138130</td>\n",
       "      <td>0.849553</td>\n",
       "      <td>0.403634</td>\n",
       "      <td>CAGMYC_DD5_Virgin_Input_27ac</td>\n",
       "      <td>raw</td>\n",
       "      <td>whole</td>\n",
       "      <td>/mnt/31dac31c-c4e2-4704-97bd-0788af37c5eb/shus...</td>\n",
       "      <td>32</td>\n",
       "    </tr>\n",
       "    <tr>\n",
       "      <th>10</th>\n",
       "      <td>5.017448</td>\n",
       "      <td>0.368285</td>\n",
       "      <td>0.338329</td>\n",
       "      <td>-0.609346</td>\n",
       "      <td>0.839512</td>\n",
       "      <td>0.398253</td>\n",
       "      <td>CAGMYC_DD2_Virgin_Input_27ac</td>\n",
       "      <td>raw</td>\n",
       "      <td>whole</td>\n",
       "      <td>/mnt/31dac31c-c4e2-4704-97bd-0788af37c5eb/shus...</td>\n",
       "      <td>32</td>\n",
       "    </tr>\n",
       "    <tr>\n",
       "      <th>0</th>\n",
       "      <td>8.193499</td>\n",
       "      <td>0.454899</td>\n",
       "      <td>0.411459</td>\n",
       "      <td>-0.783151</td>\n",
       "      <td>0.813228</td>\n",
       "      <td>0.301316</td>\n",
       "      <td>CAGMYC_DD5_Parous_Input_27ac</td>\n",
       "      <td>raw</td>\n",
       "      <td>whole</td>\n",
       "      <td>/mnt/31dac31c-c4e2-4704-97bd-0788af37c5eb/shus...</td>\n",
       "      <td>32</td>\n",
       "    </tr>\n",
       "    <tr>\n",
       "      <th>9</th>\n",
       "      <td>26.433764</td>\n",
       "      <td>0.488462</td>\n",
       "      <td>0.386740</td>\n",
       "      <td>-1.851025</td>\n",
       "      <td>0.792936</td>\n",
       "      <td>0.382552</td>\n",
       "      <td>CAGMYC_DD2_Virgin_27ac</td>\n",
       "      <td>raw</td>\n",
       "      <td>whole</td>\n",
       "      <td>/mnt/31dac31c-c4e2-4704-97bd-0788af37c5eb/shus...</td>\n",
       "      <td>32</td>\n",
       "    </tr>\n",
       "    <tr>\n",
       "      <th>6</th>\n",
       "      <td>33.906020</td>\n",
       "      <td>0.496436</td>\n",
       "      <td>0.396267</td>\n",
       "      <td>-2.129042</td>\n",
       "      <td>0.782732</td>\n",
       "      <td>0.400961</td>\n",
       "      <td>CAGMYC_DD5_Parous_27ac</td>\n",
       "      <td>raw</td>\n",
       "      <td>whole</td>\n",
       "      <td>/mnt/31dac31c-c4e2-4704-97bd-0788af37c5eb/shus...</td>\n",
       "      <td>32</td>\n",
       "    </tr>\n",
       "    <tr>\n",
       "      <th>13</th>\n",
       "      <td>14.790830</td>\n",
       "      <td>0.478717</td>\n",
       "      <td>0.400335</td>\n",
       "      <td>-1.303158</td>\n",
       "      <td>0.779383</td>\n",
       "      <td>0.398062</td>\n",
       "      <td>BalbC_Parous_27ac</td>\n",
       "      <td>raw</td>\n",
       "      <td>whole</td>\n",
       "      <td>/mnt/31dac31c-c4e2-4704-97bd-0788af37c5eb/shus...</td>\n",
       "      <td>32</td>\n",
       "    </tr>\n",
       "    <tr>\n",
       "      <th>11</th>\n",
       "      <td>51.326336</td>\n",
       "      <td>0.522609</td>\n",
       "      <td>0.389863</td>\n",
       "      <td>-2.630073</td>\n",
       "      <td>0.758446</td>\n",
       "      <td>0.382937</td>\n",
       "      <td>CAGMYC_DD5_Virgin_27ac</td>\n",
       "      <td>raw</td>\n",
       "      <td>whole</td>\n",
       "      <td>/mnt/31dac31c-c4e2-4704-97bd-0788af37c5eb/shus...</td>\n",
       "      <td>32</td>\n",
       "    </tr>\n",
       "    <tr>\n",
       "      <th>5</th>\n",
       "      <td>51.344320</td>\n",
       "      <td>0.521415</td>\n",
       "      <td>0.389670</td>\n",
       "      <td>-2.630053</td>\n",
       "      <td>0.758406</td>\n",
       "      <td>0.383115</td>\n",
       "      <td>CAGMYC_DD5_Virgin_27ac</td>\n",
       "      <td>raw</td>\n",
       "      <td>whole</td>\n",
       "      <td>/mnt/31dac31c-c4e2-4704-97bd-0788af37c5eb/shus...</td>\n",
       "      <td>32</td>\n",
       "    </tr>\n",
       "    <tr>\n",
       "      <th>14</th>\n",
       "      <td>21.436514</td>\n",
       "      <td>0.474887</td>\n",
       "      <td>0.401585</td>\n",
       "      <td>-1.497222</td>\n",
       "      <td>0.754632</td>\n",
       "      <td>0.363222</td>\n",
       "      <td>BalbC_During_2ndPreg_27ac</td>\n",
       "      <td>raw</td>\n",
       "      <td>whole</td>\n",
       "      <td>/mnt/31dac31c-c4e2-4704-97bd-0788af37c5eb/shus...</td>\n",
       "      <td>32</td>\n",
       "    </tr>\n",
       "    <tr>\n",
       "      <th>7</th>\n",
       "      <td>11.266060</td>\n",
       "      <td>0.378930</td>\n",
       "      <td>0.397244</td>\n",
       "      <td>-0.113533</td>\n",
       "      <td>0.744094</td>\n",
       "      <td>0.302916</td>\n",
       "      <td>CAGMYC_DD5_Virgin_Rep2_ATAC</td>\n",
       "      <td>raw</td>\n",
       "      <td>whole</td>\n",
       "      <td>/mnt/31dac31c-c4e2-4704-97bd-0788af37c5eb/shus...</td>\n",
       "      <td>32</td>\n",
       "    </tr>\n",
       "    <tr>\n",
       "      <th>3</th>\n",
       "      <td>8.497488</td>\n",
       "      <td>0.440229</td>\n",
       "      <td>0.449765</td>\n",
       "      <td>0.104993</td>\n",
       "      <td>0.714238</td>\n",
       "      <td>0.270216</td>\n",
       "      <td>CAGMYC_DD5_Virgin_Rep1_ATAC</td>\n",
       "      <td>raw</td>\n",
       "      <td>whole</td>\n",
       "      <td>/mnt/31dac31c-c4e2-4704-97bd-0788af37c5eb/shus...</td>\n",
       "      <td>32</td>\n",
       "    </tr>\n",
       "    <tr>\n",
       "      <th>2</th>\n",
       "      <td>5.780685</td>\n",
       "      <td>0.457517</td>\n",
       "      <td>0.458685</td>\n",
       "      <td>0.274994</td>\n",
       "      <td>0.709146</td>\n",
       "      <td>0.310390</td>\n",
       "      <td>CAGMYC_DD5_Parous_Rep1_ATAC</td>\n",
       "      <td>raw</td>\n",
       "      <td>whole</td>\n",
       "      <td>/mnt/31dac31c-c4e2-4704-97bd-0788af37c5eb/shus...</td>\n",
       "      <td>32</td>\n",
       "    </tr>\n",
       "    <tr>\n",
       "      <th>15</th>\n",
       "      <td>36.144825</td>\n",
       "      <td>0.471226</td>\n",
       "      <td>0.413470</td>\n",
       "      <td>-1.488812</td>\n",
       "      <td>0.692782</td>\n",
       "      <td>0.400565</td>\n",
       "      <td>BalbC_During_1stPreg_27ac</td>\n",
       "      <td>raw</td>\n",
       "      <td>whole</td>\n",
       "      <td>/mnt/31dac31c-c4e2-4704-97bd-0788af37c5eb/shus...</td>\n",
       "      <td>32</td>\n",
       "    </tr>\n",
       "    <tr>\n",
       "      <th>4</th>\n",
       "      <td>2.970009</td>\n",
       "      <td>0.479541</td>\n",
       "      <td>0.482465</td>\n",
       "      <td>0.506613</td>\n",
       "      <td>0.613168</td>\n",
       "      <td>0.297639</td>\n",
       "      <td>CAGMYC_DD5_Parous_Rep2_ATAC</td>\n",
       "      <td>raw</td>\n",
       "      <td>whole</td>\n",
       "      <td>/mnt/31dac31c-c4e2-4704-97bd-0788af37c5eb/shus...</td>\n",
       "      <td>32</td>\n",
       "    </tr>\n",
       "    <tr>\n",
       "      <th>12</th>\n",
       "      <td>3.260012</td>\n",
       "      <td>0.397953</td>\n",
       "      <td>0.397403</td>\n",
       "      <td>0.062771</td>\n",
       "      <td>0.584538</td>\n",
       "      <td>0.337158</td>\n",
       "      <td>BalbC_Virgin_27ac</td>\n",
       "      <td>raw</td>\n",
       "      <td>whole</td>\n",
       "      <td>/mnt/31dac31c-c4e2-4704-97bd-0788af37c5eb/shus...</td>\n",
       "      <td>32</td>\n",
       "    </tr>\n",
       "  </tbody>\n",
       "</table>\n",
       "</div>"
      ],
      "text/plain": [
       "          mse  js_per_seq   js_conc     poiss   pr_corr   sp_corr  \\\n",
       "8   20.082785    0.512522  0.371540 -2.138304  0.849573  0.403489   \n",
       "1   20.084110    0.512580  0.371577 -2.138130  0.849553  0.403634   \n",
       "10   5.017448    0.368285  0.338329 -0.609346  0.839512  0.398253   \n",
       "0    8.193499    0.454899  0.411459 -0.783151  0.813228  0.301316   \n",
       "9   26.433764    0.488462  0.386740 -1.851025  0.792936  0.382552   \n",
       "6   33.906020    0.496436  0.396267 -2.129042  0.782732  0.400961   \n",
       "13  14.790830    0.478717  0.400335 -1.303158  0.779383  0.398062   \n",
       "11  51.326336    0.522609  0.389863 -2.630073  0.758446  0.382937   \n",
       "5   51.344320    0.521415  0.389670 -2.630053  0.758406  0.383115   \n",
       "14  21.436514    0.474887  0.401585 -1.497222  0.754632  0.363222   \n",
       "7   11.266060    0.378930  0.397244 -0.113533  0.744094  0.302916   \n",
       "3    8.497488    0.440229  0.449765  0.104993  0.714238  0.270216   \n",
       "2    5.780685    0.457517  0.458685  0.274994  0.709146  0.310390   \n",
       "15  36.144825    0.471226  0.413470 -1.488812  0.692782  0.400565   \n",
       "4    2.970009    0.479541  0.482465  0.506613  0.613168  0.297639   \n",
       "12   3.260012    0.397953  0.397403  0.062771  0.584538  0.337158   \n",
       "\n",
       "                         targets pred type eval type  \\\n",
       "8   CAGMYC_DD5_Virgin_Input_27ac       raw     whole   \n",
       "1   CAGMYC_DD5_Virgin_Input_27ac       raw     whole   \n",
       "10  CAGMYC_DD2_Virgin_Input_27ac       raw     whole   \n",
       "0   CAGMYC_DD5_Parous_Input_27ac       raw     whole   \n",
       "9         CAGMYC_DD2_Virgin_27ac       raw     whole   \n",
       "6         CAGMYC_DD5_Parous_27ac       raw     whole   \n",
       "13             BalbC_Parous_27ac       raw     whole   \n",
       "11        CAGMYC_DD5_Virgin_27ac       raw     whole   \n",
       "5         CAGMYC_DD5_Virgin_27ac       raw     whole   \n",
       "14     BalbC_During_2ndPreg_27ac       raw     whole   \n",
       "7    CAGMYC_DD5_Virgin_Rep2_ATAC       raw     whole   \n",
       "3    CAGMYC_DD5_Virgin_Rep1_ATAC       raw     whole   \n",
       "2    CAGMYC_DD5_Parous_Rep1_ATAC       raw     whole   \n",
       "15     BalbC_During_1stPreg_27ac       raw     whole   \n",
       "4    CAGMYC_DD5_Parous_Rep2_ATAC       raw     whole   \n",
       "12             BalbC_Virgin_27ac       raw     whole   \n",
       "\n",
       "                                              run_dir  bin_size  \n",
       "8   /mnt/31dac31c-c4e2-4704-97bd-0788af37c5eb/shus...        32  \n",
       "1   /mnt/31dac31c-c4e2-4704-97bd-0788af37c5eb/shus...        32  \n",
       "10  /mnt/31dac31c-c4e2-4704-97bd-0788af37c5eb/shus...        32  \n",
       "0   /mnt/31dac31c-c4e2-4704-97bd-0788af37c5eb/shus...        32  \n",
       "9   /mnt/31dac31c-c4e2-4704-97bd-0788af37c5eb/shus...        32  \n",
       "6   /mnt/31dac31c-c4e2-4704-97bd-0788af37c5eb/shus...        32  \n",
       "13  /mnt/31dac31c-c4e2-4704-97bd-0788af37c5eb/shus...        32  \n",
       "11  /mnt/31dac31c-c4e2-4704-97bd-0788af37c5eb/shus...        32  \n",
       "5   /mnt/31dac31c-c4e2-4704-97bd-0788af37c5eb/shus...        32  \n",
       "14  /mnt/31dac31c-c4e2-4704-97bd-0788af37c5eb/shus...        32  \n",
       "7   /mnt/31dac31c-c4e2-4704-97bd-0788af37c5eb/shus...        32  \n",
       "3   /mnt/31dac31c-c4e2-4704-97bd-0788af37c5eb/shus...        32  \n",
       "2   /mnt/31dac31c-c4e2-4704-97bd-0788af37c5eb/shus...        32  \n",
       "15  /mnt/31dac31c-c4e2-4704-97bd-0788af37c5eb/shus...        32  \n",
       "4   /mnt/31dac31c-c4e2-4704-97bd-0788af37c5eb/shus...        32  \n",
       "12  /mnt/31dac31c-c4e2-4704-97bd-0788af37c5eb/shus...        32  "
      ]
     },
     "execution_count": 7,
     "metadata": {},
     "output_type": "execute_result"
    }
   ],
   "source": [
    "complete_performance[complete_performance['run_dir'] == best_model].sort_values('pr_corr')[::-1]"
   ]
  },
  {
   "cell_type": "markdown",
   "metadata": {},
   "source": [
    "# write to bw for visualization"
   ]
  },
  {
   "cell_type": "code",
   "execution_count": 8,
   "metadata": {},
   "outputs": [
    {
     "name": "stdout",
     "output_type": "stream",
     "text": [
      "WARNING:tensorflow:No training configuration found in save file: the model was *not* compiled. Compile it manually.\n"
     ]
    }
   ],
   "source": [
    "model, bin_size = tfr_evaluate.read_model(best_model)"
   ]
  },
  {
   "cell_type": "code",
   "execution_count": 9,
   "metadata": {},
   "outputs": [],
   "source": [
    "testset, targets = tfr_evaluate.collect_whole_testset(data_dir='/mnt/31dac31c-c4e2-4704-97bd-0788af37c5eb/colab/tfr_dataset/i_2048_w_1/', coords=True)\n",
    "\n"
   ]
  },
  {
   "cell_type": "code",
   "execution_count": 10,
   "metadata": {},
   "outputs": [],
   "source": [
    "C, X, Y = util.convert_tfr_to_np(testset, 3)"
   ]
  },
  {
   "cell_type": "code",
   "execution_count": 11,
   "metadata": {},
   "outputs": [],
   "source": [
    "preds = embed.predict_np(X, model, batch_size=32, reshape_to_2D=False)"
   ]
  },
  {
   "cell_type": "code",
   "execution_count": 12,
   "metadata": {},
   "outputs": [
    {
     "data": {
      "text/plain": [
       "array(['CAGMYC_DD5_Parous_Input_27ac', 'CAGMYC_DD5_Virgin_Input_27ac',\n",
       "       'CAGMYC_DD5_Parous_Rep1_ATAC', 'CAGMYC_DD5_Virgin_Rep1_ATAC',\n",
       "       'CAGMYC_DD5_Parous_Rep2_ATAC', 'CAGMYC_DD5_Virgin_27ac',\n",
       "       'CAGMYC_DD5_Parous_27ac', 'CAGMYC_DD5_Virgin_Rep2_ATAC',\n",
       "       'CAGMYC_DD5_Virgin_Input_27ac', 'CAGMYC_DD2_Virgin_27ac',\n",
       "       'CAGMYC_DD2_Virgin_Input_27ac', 'CAGMYC_DD5_Virgin_27ac',\n",
       "       'BalbC_Virgin_27ac', 'BalbC_Parous_27ac',\n",
       "       'BalbC_During_2ndPreg_27ac', 'BalbC_During_1stPreg_27ac'],\n",
       "      dtype=object)"
      ]
     },
     "execution_count": 12,
     "metadata": {},
     "output_type": "execute_result"
    }
   ],
   "source": [
    "targets"
   ]
  },
  {
   "cell_type": "code",
   "execution_count": 21,
   "metadata": {},
   "outputs": [],
   "source": [
    "targets_i = np.argwhere(targets=='CAGMYC_DD2_Virgin_Input_27ac')[0][0]\n",
    "out_dir = util.make_dir('/mnt/31dac31c-c4e2-4704-97bd-0788af37c5eb/colab/model_bws')\n",
    "pred_bw_filename = os.path.join(out_dir, 'pred_{}.bw'.format(targets[targets_i]))\n",
    "truth_bw_filename = os.path.join(out_dir, 'truth_{}.bw'.format(targets[targets_i]))"
   ]
  },
  {
   "cell_type": "code",
   "execution_count": 22,
   "metadata": {},
   "outputs": [],
   "source": [
    "# open 2 bws\n",
    "chrom_size_path='/home/shush/genomes/mm10.chrom.sizes'\n",
    "pred_bw = test_to_bw_fast.open_bw(pred_bw_filename, chrom_size_path)\n",
    "truth_bw = test_to_bw_fast.open_bw(truth_bw_filename, chrom_size_path)"
   ]
  },
  {
   "cell_type": "code",
   "execution_count": 23,
   "metadata": {},
   "outputs": [],
   "source": [
    "clean_C = [str(c).strip('b\\'').strip('\\'') for c in C]"
   ]
  },
  {
   "cell_type": "code",
   "execution_count": 24,
   "metadata": {},
   "outputs": [
    {
     "data": {
      "text/plain": [
       "['chr8', '0', '2048']"
      ]
     },
     "execution_count": 24,
     "metadata": {},
     "output_type": "execute_result"
    }
   ],
   "source": [
    "clean_C[0].split('_')"
   ]
  },
  {
   "cell_type": "code",
   "execution_count": 25,
   "metadata": {},
   "outputs": [],
   "source": [
    "\n",
    "for i in range(preds.shape[0]): # per data point \n",
    "    chrom, start, end = clean_C[i].split('_') # get chr, start, end\n",
    "    start = int(start) # to feed into bw making function\n",
    "    # for cell_line in [8]: # per cell line\n",
    "    for t in [targets_i]: # per cell line\n",
    "        # write to ground truth file\n",
    "        truth_bw.addEntries(chrom, start,\n",
    "            values=np.array(np.squeeze(Y[i,:,t]), dtype='float64'),\n",
    "            span=1, step=1)\n",
    "        # write to prediction bw file\n",
    "        pred_bw.addEntries(chrom, start,\n",
    "            values=np.array(np.squeeze(preds[i,:,t]), dtype='float64'),\n",
    "            span=bin_size, step=bin_size)\n"
   ]
  },
  {
   "cell_type": "code",
   "execution_count": 26,
   "metadata": {},
   "outputs": [],
   "source": [
    "truth_bw.close()\n",
    "pred_bw.close()"
   ]
  },
  {
   "cell_type": "markdown",
   "metadata": {},
   "source": [
    "# make saliency maps"
   ]
  },
  {
   "cell_type": "code",
   "execution_count": 48,
   "metadata": {},
   "outputs": [
    {
     "data": {
      "text/plain": [
       "'/mnt/31dac31c-c4e2-4704-97bd-0788af37c5eb/colab/saliency_maps'"
      ]
     },
     "execution_count": 48,
     "metadata": {},
     "output_type": "execute_result"
    }
   ],
   "source": [
    "saliency_cell_line_dir = '/mnt/31dac31c-c4e2-4704-97bd-0788af37c5eb/colab/saliency_maps'\n",
    "util.make_dir(saliency_cell_line_dir)"
   ]
  },
  {
   "cell_type": "code",
   "execution_count": 29,
   "metadata": {},
   "outputs": [
    {
     "data": {
      "text/plain": [
       "['CAGMYC_DD5_Parous_Input_27ac',\n",
       " 'CAGMYC_DD5_Virgin_Input_27ac',\n",
       " 'CAGMYC_DD5_Virgin_27ac',\n",
       " 'CAGMYC_DD5_Parous_27ac',\n",
       " 'CAGMYC_DD5_Virgin_Input_27ac',\n",
       " 'CAGMYC_DD5_Virgin_27ac']"
      ]
     },
     "execution_count": 29,
     "metadata": {},
     "output_type": "execute_result"
    }
   ],
   "source": [
    "[t for t in targets if 'DD5' in t and 'ATAC' not in t]"
   ]
  },
  {
   "cell_type": "code",
   "execution_count": 83,
   "metadata": {},
   "outputs": [
    {
     "name": "stdout",
     "output_type": "stream",
     "text": [
      "Skipping /mnt/31dac31c-c4e2-4704-97bd-0788af37c5eb/colab/saliency_maps/top_CAGMYC_DD5_Parous_Input_27ac_preds.svg\n",
      "Skipping /mnt/31dac31c-c4e2-4704-97bd-0788af37c5eb/colab/saliency_maps/top_CAGMYC_DD5_Virgin_Input_27ac_preds.svg\n",
      "Skipping /mnt/31dac31c-c4e2-4704-97bd-0788af37c5eb/colab/saliency_maps/top_CAGMYC_DD5_Parous_Rep1_ATAC_preds.svg\n",
      "Skipping /mnt/31dac31c-c4e2-4704-97bd-0788af37c5eb/colab/saliency_maps/top_CAGMYC_DD5_Virgin_Rep1_ATAC_preds.svg\n",
      "Skipping /mnt/31dac31c-c4e2-4704-97bd-0788af37c5eb/colab/saliency_maps/top_CAGMYC_DD5_Parous_Rep2_ATAC_preds.svg\n",
      "Skipping /mnt/31dac31c-c4e2-4704-97bd-0788af37c5eb/colab/saliency_maps/top_CAGMYC_DD5_Virgin_27ac_preds.svg\n",
      "Skipping /mnt/31dac31c-c4e2-4704-97bd-0788af37c5eb/colab/saliency_maps/top_CAGMYC_DD5_Parous_27ac_preds.svg\n",
      "Skipping /mnt/31dac31c-c4e2-4704-97bd-0788af37c5eb/colab/saliency_maps/top_CAGMYC_DD5_Virgin_Rep2_ATAC_preds.svg\n",
      "Skipping /mnt/31dac31c-c4e2-4704-97bd-0788af37c5eb/colab/saliency_maps/top_CAGMYC_DD5_Virgin_Input_27ac_preds.svg\n",
      "Skipping /mnt/31dac31c-c4e2-4704-97bd-0788af37c5eb/colab/saliency_maps/top_CAGMYC_DD2_Virgin_27ac_preds.svg\n",
      "Skipping /mnt/31dac31c-c4e2-4704-97bd-0788af37c5eb/colab/saliency_maps/top_CAGMYC_DD2_Virgin_Input_27ac_preds.svg\n",
      "Skipping /mnt/31dac31c-c4e2-4704-97bd-0788af37c5eb/colab/saliency_maps/top_CAGMYC_DD5_Virgin_27ac_preds.svg\n",
      "Skipping /mnt/31dac31c-c4e2-4704-97bd-0788af37c5eb/colab/saliency_maps/top_BalbC_Virgin_27ac_preds.svg\n",
      "Skipping /mnt/31dac31c-c4e2-4704-97bd-0788af37c5eb/colab/saliency_maps/top_BalbC_Parous_27ac_preds.svg\n",
      "Skipping /mnt/31dac31c-c4e2-4704-97bd-0788af37c5eb/colab/saliency_maps/top_BalbC_During_2ndPreg_27ac_preds.svg\n",
      "Skipping /mnt/31dac31c-c4e2-4704-97bd-0788af37c5eb/colab/saliency_maps/top_BalbC_During_1stPreg_27ac_preds.svg\n"
     ]
    }
   ],
   "source": [
    "for cell_line in range(len(targets)):\n",
    "    sets_of_ids = {'top_{}_preds'.format(targets[cell_line]): preds[:,:,cell_line].mean(axis=1).argsort()[::-1][:50]}\n",
    "    for label,selected_sample_ids in sets_of_ids.items():\n",
    "        output_path = os.path.join(saliency_cell_line_dir, label+'.svg')\n",
    "        if os.path.isfile(output_path):\n",
    "            print('Skipping '+output_path)\n",
    "        else:\n",
    "            print(output_path)\n",
    "            explainer = explain.Explainer(model, class_index=cell_line)\n",
    "            X_sample = X[selected_sample_ids]\n",
    "            saliency_scores = explainer.saliency_maps(X_sample)\n",
    "            explain.plot_saliency_logos_oneplot(saliency_scores, X_sample, window=256, \n",
    "                                            titles = selected_sample_ids,\n",
    "                                            filename=output_path)"
   ]
  },
  {
   "cell_type": "code",
   "execution_count": 77,
   "metadata": {},
   "outputs": [],
   "source": [
    "top50_preds = np.repeat(preds[sets_of_ids['top_CAGMYC_DD5_Parous_Input_27ac_preds']][:,:,0:1], bin_size, axis=1)\n",
    "\n",
    "metrics.get_correlation_per_seq(top50_preds, Y[sets_of_ids['top_CAGMYC_DD5_Parous_Input_27ac_preds'],:,0:1])"
   ]
  },
  {
   "cell_type": "code",
   "execution_count": null,
   "metadata": {},
   "outputs": [],
   "source": []
  }
 ],
 "metadata": {
  "kernelspec": {
   "display_name": "Python 3",
   "language": "python",
   "name": "python3"
  },
  "language_info": {
   "codemirror_mode": {
    "name": "ipython",
    "version": 3
   },
   "file_extension": ".py",
   "mimetype": "text/x-python",
   "name": "python",
   "nbconvert_exporter": "python",
   "pygments_lexer": "ipython3",
   "version": "3.7.0b3"
  }
 },
 "nbformat": 4,
 "nbformat_minor": 4
}

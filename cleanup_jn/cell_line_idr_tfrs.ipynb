{
 "cells": [
  {
   "cell_type": "code",
   "execution_count": 1,
   "metadata": {},
   "outputs": [],
   "source": [
    "%load_ext autoreload\n",
    "%autoreload 2\n",
    "import util\n",
    "import os, shutil\n",
    "import yaml\n",
    "import pandas as pd\n",
    "import subprocess"
   ]
  },
  {
   "cell_type": "code",
   "execution_count": 2,
   "metadata": {},
   "outputs": [],
   "source": [
    "# shift_by = 512\n",
    "# new_shift_dir = 'chr8_shift_' + str(shift_by)\n",
    "# new_unmap_file = '{}/sh{}_GRCh38_unmap.bed'.format(new_shift_dir, shift_by)\n",
    "# util.shift_unmap(512, new_unmap_file)\n",
    "# templ_yaml = 'chr8/template_config.yaml'\n",
    "# new_yaml = new_shift_dir + '/template_config.yaml'\n",
    "\n",
    "# with open(templ_yaml, 'r') as config_yaml:\n",
    "#     config_dict = yaml.safe_load(config_yaml)\n",
    "    \n",
    "# config_dict['genomefile']['unmap'] = new_unmap_file\n",
    "\n",
    "# with open(new_yaml, 'w') as config_yaml:\n",
    "#     yaml.dump(config_dict, config_yaml)\n",
    "# ! ./create_25cell_datasets.py chr8_shift_512\n",
    "# shifted_dir = '/home/shush/profile/QuantPred/datasets/chr8_shift_{}/complete/random_chop/i_2048_w_1/'.format(shift_by)\n",
    "# sts_shifted = util.load_stats(shifted_dir)\n",
    "# shifted_testset = util.make_dataset(shifted_dir, 'test', sts_shifted, batch_size=64, shuffle=False, coords=True)\n",
    "# model, b = read_model('1run', compile_model=True)\n",
    "# bw_file = open_bw('1run/shifted/8_A549_pred_{}_raw.bw'.format(shift_by), \n",
    "#                   chrom_size_path=\"/home/shush/genomes/GRCh38_EBV.chrom.sizes.tsv\")\n",
    "# for C, x, y in shifted_testset:\n",
    "#     C = [str(c).strip('b\\'').strip('\\'') for c in C.numpy()] # coordinates\n",
    "#     P = model(x)\n",
    "#     for i, pred in enumerate(P):\n",
    "#         chrom, start, end = C[i].split('_') # get chr, start, end\n",
    "#         start = int(start) # to feed into bw making function\n",
    "#         # write to prediction bw file\n",
    "#         bw_file.addEntries(chrom, start,\n",
    "#             values=np.array(np.squeeze(pred[:,8]), dtype='float64'),\n",
    "#             span=1, step=1)\n",
    "# bw_file.close()"
   ]
  },
  {
   "cell_type": "code",
   "execution_count": 8,
   "metadata": {},
   "outputs": [],
   "source": [
    "BASE_DIR = '15_IDR_test_sets_6K'\n",
    "# per cell line\n",
    "for i in range(15):\n",
    "    # make new dir \n",
    "    cell_line_dir = os.path.join(BASE_DIR, 'cell_line_{}'.format(i))\n",
    "    os.mkdir(cell_line_dir)\n",
    "    # make cell line specific basset samplefile\n",
    "    orig_basset_filepath = '/mnt/906427d6-fddf-41bf-9ec6-c3d0c37e766f/amber/ATAC/basset_sample_file.tsv'\n",
    "    orig_basenji_filepath = '/mnt/906427d6-fddf-41bf-9ec6-c3d0c37e766f/amber/ATAC/basenji_sample_file.tsv'\n",
    "    new_basset_filepath = os.path.join(cell_line_dir, 'basset_sample_file.tsv')\n",
    "    new_basenji_filepath = os.path.join(cell_line_dir, 'basenji_sample_file.tsv')\n",
    "    bed_line = pd.read_csv(orig_basset_filepath, sep='\\t', header=None).iloc[[i]]\n",
    "    bed_line.to_csv(new_basset_filepath, \n",
    "                    header=None, index=None, sep='\\t')\n",
    "    bw_line = pd.read_csv(orig_basenji_filepath, sep='\\t').iloc[[i]]\n",
    "    bw_line.to_csv(os.path.join(cell_line_dir, 'basenji_sample_file.tsv'), \n",
    "                     index=None, sep='\\t')\n",
    "    # scp template \n",
    "    blank_template = BASE_DIR + '/template_config.yaml'\n",
    "    shutil.copy(blank_template, os.path.join(cell_line_dir, 'template_config.yaml'))\n",
    "    cmd = './create_25cell_datasets.py {} {} {}'.format(cell_line_dir, new_basset_filepath, new_basenji_filepath)\n",
    "#     cmd = './create_25cell_datasets.py cell_line_specific_test_sets/cell_line_0 cell_line_specific_test_sets/cell_line_0/basset_sample_file.tsv cell_line_specific_test_sets/cell_line_0/basenji_sample_file.tsv'\n",
    "    process = subprocess.Popen(cmd, shell=True)\n",
    "    output, error = process.communicate()"
   ]
  },
  {
   "cell_type": "code",
   "execution_count": 30,
   "metadata": {},
   "outputs": [],
   "source": []
  },
  {
   "cell_type": "code",
   "execution_count": 40,
   "metadata": {},
   "outputs": [],
   "source": []
  },
  {
   "cell_type": "code",
   "execution_count": 36,
   "metadata": {},
   "outputs": [],
   "source": []
  },
  {
   "cell_type": "code",
   "execution_count": null,
   "metadata": {},
   "outputs": [],
   "source": []
  }
 ],
 "metadata": {
  "kernelspec": {
   "display_name": "Python 3",
   "language": "python",
   "name": "python3"
  },
  "language_info": {
   "codemirror_mode": {
    "name": "ipython",
    "version": 3
   },
   "file_extension": ".py",
   "mimetype": "text/x-python",
   "name": "python",
   "nbconvert_exporter": "python",
   "pygments_lexer": "ipython3",
   "version": "3.7.0b3"
  }
 },
 "nbformat": 4,
 "nbformat_minor": 4
}

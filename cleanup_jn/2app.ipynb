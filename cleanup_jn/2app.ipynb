{
 "cells": [
  {
   "cell_type": "code",
   "execution_count": 7,
   "metadata": {},
   "outputs": [],
   "source": [
    "import dash\n",
    "import dash_core_components as dcc\n",
    "import dash_html_components as html\n",
    "import pandas as pd\n",
    "import plotly.express as px\n",
    "import wandb\n",
    "import tensorflow as tf\n",
    "import h5py\n",
    "import numpy as np\n",
    "import plotly.express as px\n",
    "import flask\n",
    "import scipy.stats\n",
    "import plotly.graph_objects as go\n",
    "import util\n",
    "from modelzoo import *\n",
    "import custom_fit"
   ]
  },
  {
   "cell_type": "code",
   "execution_count": 8,
   "metadata": {},
   "outputs": [],
   "source": [
    "# y axis fixed somewhere in the Average\n",
    "# remove mse\n",
    "# dropdown menu for cell lines\n",
    "# plot extra cell lines\n",
    "\n",
    "CELL_LINE=1\n",
    "server = flask.Flask(__name__)\n",
    "app = dash.Dash(__name__, server=server)"
   ]
  },
  {
   "cell_type": "code",
   "execution_count": 9,
   "metadata": {},
   "outputs": [],
   "source": [
    "def np_mse(a, b):\n",
    "    return ((a - b)**2)\n",
    "\n",
    "def scipy_pr(y_true, y_pred):\n",
    "\n",
    "    pr = scipy.stats.pearsonr(y_true, y_pred)[0]\n",
    "    return pr\n",
    "\n",
    "def scipy_sc(a, b):\n",
    "    sc = scipy.stats.spearmanr(a, b)\n",
    "    return sc[0]\n",
    "\n",
    "def np_poiss(y_true, y_pred):\n",
    "    return y_pred - y_true * np.log(y_pred)"
   ]
  },
  {
   "cell_type": "code",
   "execution_count": 10,
   "metadata": {},
   "outputs": [
    {
     "name": "stdout",
     "output_type": "stream",
     "text": [
      "WARNING:tensorflow:No training configuration found in save file: the model was *not* compiled. Compile it manually.\n"
     ]
    },
    {
     "ename": "NameError",
     "evalue": "name 'data_dir' is not defined",
     "output_type": "error",
     "traceback": [
      "\u001b[0;31m---------------------------------------------------------------------------\u001b[0m",
      "\u001b[0;31mNameError\u001b[0m                                 Traceback (most recent call last)",
      "\u001b[0;32m<ipython-input-10-349db0b186f5>\u001b[0m in \u001b[0;36m<module>\u001b[0;34m\u001b[0m\n\u001b[1;32m      6\u001b[0m \u001b[0mtrained_model\u001b[0m \u001b[0;34m=\u001b[0m \u001b[0mtf\u001b[0m\u001b[0;34m.\u001b[0m\u001b[0mkeras\u001b[0m\u001b[0;34m.\u001b[0m\u001b[0mmodels\u001b[0m\u001b[0;34m.\u001b[0m\u001b[0mload_model\u001b[0m\u001b[0;34m(\u001b[0m\u001b[0mmodel_path\u001b[0m\u001b[0;34m,\u001b[0m \u001b[0mcustom_objects\u001b[0m\u001b[0;34m=\u001b[0m\u001b[0;34m{\u001b[0m\u001b[0;34m\"GELU\"\u001b[0m\u001b[0;34m:\u001b[0m \u001b[0mGELU\u001b[0m\u001b[0;34m}\u001b[0m\u001b[0;34m)\u001b[0m\u001b[0;34m\u001b[0m\u001b[0m\n\u001b[1;32m      7\u001b[0m \u001b[0mtrained_model\u001b[0m\u001b[0;34m.\u001b[0m\u001b[0mcompile\u001b[0m\u001b[0;34m(\u001b[0m\u001b[0moptimizer\u001b[0m\u001b[0;34m=\u001b[0m\u001b[0;34m\"Adam\"\u001b[0m\u001b[0;34m,\u001b[0m \u001b[0mloss\u001b[0m\u001b[0;34m=\u001b[0m\u001b[0;34m'mse'\u001b[0m\u001b[0;34m,\u001b[0m \u001b[0mmetrics\u001b[0m\u001b[0;34m=\u001b[0m\u001b[0;34m[\u001b[0m\u001b[0;34m'mse'\u001b[0m\u001b[0;34m]\u001b[0m\u001b[0;34m)\u001b[0m\u001b[0;34m\u001b[0m\u001b[0m\n\u001b[0;32m----> 8\u001b[0;31m \u001b[0mfoldset\u001b[0m \u001b[0;34m=\u001b[0m \u001b[0mutil\u001b[0m\u001b[0;34m.\u001b[0m\u001b[0mmake_dataset\u001b[0m\u001b[0;34m(\u001b[0m\u001b[0mdata_dir\u001b[0m\u001b[0;34m,\u001b[0m \u001b[0mfold_name\u001b[0m\u001b[0;34m,\u001b[0m \u001b[0mutil\u001b[0m\u001b[0;34m.\u001b[0m\u001b[0mload_stats\u001b[0m\u001b[0;34m(\u001b[0m\u001b[0mdata_dir\u001b[0m\u001b[0;34m)\u001b[0m\u001b[0;34m,\u001b[0m \u001b[0mcoords\u001b[0m\u001b[0;34m=\u001b[0m\u001b[0;32mTrue\u001b[0m\u001b[0;34m,\u001b[0m \u001b[0mshuffle_data\u001b[0m\u001b[0;34m=\u001b[0m\u001b[0;32mFalse\u001b[0m\u001b[0;34m)\u001b[0m\u001b[0;34m\u001b[0m\u001b[0m\n\u001b[0m\u001b[1;32m      9\u001b[0m \u001b[0;34m\u001b[0m\u001b[0m\n\u001b[1;32m     10\u001b[0m \u001b[0;31m#get bin size\u001b[0m\u001b[0;34m\u001b[0m\u001b[0;34m\u001b[0m\u001b[0m\n",
      "\u001b[0;31mNameError\u001b[0m: name 'data_dir' is not defined"
     ]
    }
   ],
   "source": [
    "# def get_data(model_path, data_dir, fold_name='valid', N=10):\n",
    "fold_name='valid'\n",
    "N=10\n",
    "model_path = '/home/shush/profile/QuantPred/wandb/run-20210623_073933-vwq5gdk5/files/best_model.h5'\n",
    "#get data and model\n",
    "trained_model = tf.keras.models.load_model(model_path, custom_objects={\"GELU\": GELU})\n",
    "trained_model.compile(optimizer=\"Adam\", loss='mse', metrics=['mse'])\n",
    "foldset = util.make_dataset(data_dir, fold_name, util.load_stats(data_dir), coords=True, shuffle_data=False)\n",
    "\n",
    "#get bin size\n",
    "n_bins = trained_model.layers[-1].output_shape[1]\n",
    "l_seq = trained_model.layers[0].input_shape[0][1]\n",
    "bin_size = l_seq // n_bins\n",
    "\n",
    "x_list = []\n",
    "y_list = []\n",
    "c_list = []\n",
    "pred_list = []\n",
    "for i, (coord, x, y) in enumerate(foldset):\n",
    "    if i < N:\n",
    "        x_cropped, y_cropped = custom_fit.center_crop(x,y,2048)\n",
    "        y_binned = custom_fit.bin_resolution(y_cropped, bin_size)\n",
    "        c_list += [str(c).strip('b\\'chr').strip('\\'') for c in coord.numpy()]\n",
    "        x_list.append(x_cropped)\n",
    "        y_list.append(y_binned[:,:,CELL_LINE])\n",
    "        pred_list.append(trained_model.predict(x_cropped)[:,:,CELL_LINE])\n",
    "    else:\n",
    "        break\n",
    "\n"
   ]
  },
  {
   "cell_type": "code",
   "execution_count": null,
   "metadata": {},
   "outputs": [],
   "source": [
    "data_dict = {'y_true': np.concatenate(y_list), 'y_pred': np.concatenate(pred_list), 'coords': c_list}"
   ]
  },
  {
   "cell_type": "code",
   "execution_count": null,
   "metadata": {},
   "outputs": [],
   "source": [
    "def create_scatter(data_dict):\n",
    "    data = pd.DataFrame({'y_true': data_dict['y_true'].mean(axis=1),\n",
    "                          'y_pred': data_dict['y_pred'].mean(axis=1),\n",
    "                          'peak': np.array([data_dict['y_true'].max(axis=1)>=2][0], dtype=int)})\n",
    "    fig = px.scatter(data, x='y_true',\n",
    "                     y='y_pred', title='Average true vs pred', opacity=0.6,\n",
    "                     color='peak', color_continuous_scale='viridis')\n",
    "    fig.add_scatter(x=np.arange(0, 4), y=np.arange(0, 4), mode='lines', hoverinfo='skip', name='')\n",
    "    return data, fig\n"
   ]
  },
  {
   "cell_type": "code",
   "execution_count": 6,
   "metadata": {},
   "outputs": [
    {
     "ename": "NameError",
     "evalue": "name 'create_scatter' is not defined",
     "output_type": "error",
     "traceback": [
      "\u001b[0;31m---------------------------------------------------------------------------\u001b[0m",
      "\u001b[0;31mNameError\u001b[0m                                 Traceback (most recent call last)",
      "\u001b[0;32m<ipython-input-6-2b48ec22e82f>\u001b[0m in \u001b[0;36m<module>\u001b[0;34m\u001b[0m\n\u001b[0;32m----> 1\u001b[0;31m \u001b[0mdata\u001b[0m\u001b[0;34m,\u001b[0m \u001b[0mfig\u001b[0m \u001b[0;34m=\u001b[0m \u001b[0mcreate_scatter\u001b[0m\u001b[0;34m(\u001b[0m\u001b[0mdata_dict\u001b[0m\u001b[0;34m)\u001b[0m\u001b[0;34m\u001b[0m\u001b[0m\n\u001b[0m",
      "\u001b[0;31mNameError\u001b[0m: name 'create_scatter' is not defined"
     ]
    }
   ],
   "source": [
    "data, fig = create_scatter(data_dict)"
   ]
  },
  {
   "cell_type": "code",
   "execution_count": null,
   "metadata": {},
   "outputs": [],
   "source": [
    "\n"
   ]
  },
  {
   "cell_type": "code",
   "execution_count": null,
   "metadata": {},
   "outputs": [],
   "source": [
    "@app.callback(\n",
    "    dash.dependencies.Output('profile', 'figure'),\n",
    "    [dash.dependencies.Input('predictions', 'hoverData')])\n",
    "def update_profile(hoverData, data_dict=data_dict, data=data, bin_size=bin_size):\n",
    "    x = hoverData['points'][0]['x']\n",
    "    y = hoverData['points'][0]['y']\n",
    "    seq_n = np.where(data==[x, y])[0][0]\n",
    "    true_profile = np.repeat(data_dict['y_true'][seq_n,:], bin_size)\n",
    "    pred_profile = np.repeat(data_dict['y_pred'][seq_n,:], bin_size)\n",
    "    pr = scipy_pr(true_profile, pred_profile)\n",
    "    fig = px.line(x=np.arange(len(true_profile)),\n",
    "                  y = true_profile, title=\"Coverage, Pearson R={}, {}\".format(np.around(pr,3),'chr'+data_dict['coords'][seq_n]))\n",
    "\n",
    "\n",
    "    fig.add_scatter(x=np.arange(len(pred_profile)),\n",
    "                    y = pred_profile,\n",
    "                    name='Predicted', mode='lines', line=go.scatter.Line(color=\"red\"))\n",
    "    fig.update_layout()\n",
    "    return fig"
   ]
  },
  {
   "cell_type": "code",
   "execution_count": 5,
   "metadata": {},
   "outputs": [
    {
     "ename": "NameError",
     "evalue": "name 'fig' is not defined",
     "output_type": "error",
     "traceback": [
      "\u001b[0;31m---------------------------------------------------------------------------\u001b[0m",
      "\u001b[0;31mNameError\u001b[0m                                 Traceback (most recent call last)",
      "\u001b[0;32m<ipython-input-5-f8e8084c2fa3>\u001b[0m in \u001b[0;36m<module>\u001b[0;34m\u001b[0m\n\u001b[1;32m      1\u001b[0m app.layout = html.Div([\n\u001b[1;32m      2\u001b[0m     \u001b[0;31m# main scatter plot panel\u001b[0m\u001b[0;34m\u001b[0m\u001b[0;34m\u001b[0m\u001b[0m\n\u001b[0;32m----> 3\u001b[0;31m     html.Div([dcc.Graph(id='predictions', figure=fig)],\n\u001b[0m\u001b[1;32m      4\u001b[0m               style={'width': '49%', 'display': 'inline-block'}),\n\u001b[1;32m      5\u001b[0m     html.Div([\n",
      "\u001b[0;31mNameError\u001b[0m: name 'fig' is not defined"
     ]
    }
   ],
   "source": [
    "app.layout = html.Div([\n",
    "    # main scatter plot panel\n",
    "    html.Div([dcc.Graph(id='predictions', figure=fig)],\n",
    "              style={'width': '49%', 'display': 'inline-block'}),\n",
    "    html.Div([\n",
    "              dcc.Graph(id='profile')],\n",
    "              style={'width': '49%', 'display': 'inline-block'})\n",
    "    #\n",
    "    # ])\n",
    "\n",
    "    ])"
   ]
  },
  {
   "cell_type": "code",
   "execution_count": 100,
   "metadata": {},
   "outputs": [
    {
     "name": "stdout",
     "output_type": "stream",
     "text": [
      "Dash is running on http://127.0.0.1:8050/\n",
      "\n",
      "Dash is running on http://127.0.0.1:8050/\n",
      "\n",
      " * Serving Flask app '__main__' (lazy loading)\n",
      " * Environment: production\n",
      "\u001b[31m   WARNING: This is a development server. Do not use it in a production deployment.\u001b[0m\n",
      "\u001b[2m   Use a production WSGI server instead.\u001b[0m\n",
      " * Debug mode: on\n"
     ]
    },
    {
     "name": "stderr",
     "output_type": "stream",
     "text": [
      "Traceback (most recent call last):\n",
      "  File \"/home/shush/tf_2/lib/python3.7/site-packages/flask/app.py\", line 2088, in __call__\n",
      "    return self.wsgi_app(environ, start_response)\n",
      "  File \"/home/shush/tf_2/lib/python3.7/site-packages/flask/app.py\", line 2073, in wsgi_app\n",
      "    response = self.handle_exception(e)\n",
      "  File \"/home/shush/tf_2/lib/python3.7/site-packages/flask/app.py\", line 2070, in wsgi_app\n",
      "    response = self.full_dispatch_request()\n",
      "  File \"/home/shush/tf_2/lib/python3.7/site-packages/flask/app.py\", line 1508, in full_dispatch_request\n",
      "    self.try_trigger_before_first_request_functions()\n",
      "  File \"/home/shush/tf_2/lib/python3.7/site-packages/flask/app.py\", line 1560, in try_trigger_before_first_request_functions\n",
      "    self.ensure_sync(func)()\n",
      "  File \"/home/shush/tf_2/lib/python3.7/site-packages/dash/dash.py\", line 1096, in _setup_server\n",
      "    _validate.validate_layout(self.layout, self._layout_value())\n",
      "  File \"/home/shush/tf_2/lib/python3.7/site-packages/dash/_validate.py\", line 364, in validate_layout\n",
      "    \"\"\"\n",
      "dash.exceptions.NoLayoutException: The layout was `None` at the time that `run_server` was called.\n",
      "Make sure to set the `layout` attribute of your application\n",
      "before running the server.\n"
     ]
    }
   ],
   "source": [
    "app.run_server(debug=True, use_reloader=False)"
   ]
  },
  {
   "cell_type": "code",
   "execution_count": null,
   "metadata": {},
   "outputs": [],
   "source": []
  }
 ],
 "metadata": {
  "kernelspec": {
   "display_name": "Python 3",
   "language": "python",
   "name": "python3"
  },
  "language_info": {
   "codemirror_mode": {
    "name": "ipython",
    "version": 3
   },
   "file_extension": ".py",
   "mimetype": "text/x-python",
   "name": "python",
   "nbconvert_exporter": "python",
   "pygments_lexer": "ipython3",
   "version": "3.7.0b3"
  }
 },
 "nbformat": 4,
 "nbformat_minor": 4
}

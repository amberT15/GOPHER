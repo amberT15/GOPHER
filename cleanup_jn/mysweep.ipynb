{
 "cells": [
  {
   "cell_type": "code",
   "execution_count": 1,
   "metadata": {},
   "outputs": [
    {
     "name": "stderr",
     "output_type": "stream",
     "text": [
      "\u001b[34m\u001b[1mwandb\u001b[0m: Currently logged in as: \u001b[33mtoneyan\u001b[0m (use `wandb login --relogin` to force relogin)\n"
     ]
    },
    {
     "data": {
      "text/plain": [
       "True"
      ]
     },
     "execution_count": 1,
     "metadata": {},
     "output_type": "execute_result"
    }
   ],
   "source": [
    "import wandb\n",
    "import itertools, os\n",
    "wandb.login()"
   ]
  },
  {
   "cell_type": "code",
   "execution_count": 10,
   "metadata": {},
   "outputs": [
    {
     "name": "stdout",
     "output_type": "stream",
     "text": [
      "{'method': 'grid', 'metric': {'name': 'val_loss', 'goal': 'minimize'}, 'parameters': {'data_dir': {'values': ['datasets/lite']}, 'model_fn': {'values': ['bpnet']}, 'loss_fn': {'value': 'poisson'}, 'window_size': {'value': 2048}, 'bin_size': {'value': 128}, 'l_rate': {'value': 0.001}, 'num_epochs': {'value': 100}, 'rev_comp': {'values': [True, False]}, 'crop': {'values': [False]}}}\n",
      "Create sweep with ID: f57mhbfg\n",
      "Sweep URL: https://wandb.ai/toneyan/NEW_AUGM_BIN/sweeps/f57mhbfg\n"
     ]
    }
   ],
   "source": [
    "sweep_config = {\n",
    "    'method': 'grid'\n",
    "    }\n",
    "metric = {\n",
    "    'name': 'val_loss',\n",
    "    'goal': 'minimize'   \n",
    "    }\n",
    "sweep_config['metric'] = metric\n",
    "parameters_dict = {\n",
    "    'data_dir':{\n",
    "        'values':['datasets/lite']\n",
    "    },\n",
    "    'model_fn':{\n",
    "        'values':['bpnet']\n",
    "    },\n",
    "    'loss_fn':{\n",
    "        'value':'poisson'\n",
    "    },\n",
    "    'window_size':{\n",
    "        'value': 2048\n",
    "    },\n",
    "    'bin_size':{\n",
    "        'value': 128\n",
    "    },\n",
    "    'l_rate': {\n",
    "        'value': 0.001\n",
    "    },\n",
    "    'num_epochs': {\n",
    "        'value': 100\n",
    "    },\n",
    "    'rev_comp':{\n",
    "        'values':[True, False]\n",
    "    },\n",
    "    'crop':{\n",
    "        'values':[False]\n",
    "    }\n",
    "}\n",
    "sweep_config['parameters'] = parameters_dict\n",
    "print(sweep_config)\n",
    "sweep_id = wandb.sweep(sweep_config, project=\"NEW_AUGM_BIN\")"
   ]
  },
  {
   "cell_type": "code",
   "execution_count": 3,
   "metadata": {},
   "outputs": [
    {
     "name": "stdout",
     "output_type": "stream",
     "text": [
      "{'method': 'grid', 'metric': {'name': 'val_loss', 'goal': 'minimize'}, 'parameters': {'data_dir': {'values': ['datasets/complete/peak_centered/i_3072_w_1', 'datasets/complete/random_chop/i_3072_w_1']}, 'model_fn': {'values': ['basenjimod']}, 'loss_fn': {'value': 'poisson'}, 'window_size': {'value': 2048}, 'bin_size': {'value': 128}, 'l_rate': {'value': 0.001}, 'num_epochs': {'value': 100}, 'rev_comp': {'values': [True, False]}, 'crop': {'values': ['r_crop']}}}\n",
      "Create sweep with ID: jthluqgo\n",
      "Sweep URL: https://wandb.ai/toneyan/NEW_AUGM_BIN/sweeps/jthluqgo\n"
     ]
    }
   ],
   "source": [
    "sweep_config = {\n",
    "    'method': 'grid'\n",
    "    }\n",
    "metric = {\n",
    "    'name': 'val_loss',\n",
    "    'goal': 'minimize'   \n",
    "    }\n",
    "sweep_config['metric'] = metric\n",
    "parameters_dict = {\n",
    "    'data_dir':{\n",
    "        'values':['datasets/complete/peak_centered/i_3072_w_1',\n",
    "                  'datasets/complete/random_chop/i_3072_w_1']\n",
    "    },\n",
    "    'model_fn':{\n",
    "        'values':['basenjimod']\n",
    "    },\n",
    "    'loss_fn':{\n",
    "        'value':'poisson'\n",
    "    },\n",
    "    'window_size':{\n",
    "        'value': 2048\n",
    "    },\n",
    "    'bin_size':{\n",
    "        'value': 128\n",
    "    },\n",
    "    'l_rate': {\n",
    "        'value': 0.001\n",
    "    },\n",
    "    'num_epochs': {\n",
    "        'value': 100\n",
    "    },\n",
    "    'rev_comp':{\n",
    "        'values':[True, False]\n",
    "    },\n",
    "    'crop':{\n",
    "        'values':['r_crop']\n",
    "    }\n",
    "}\n",
    "sweep_config['parameters'] = parameters_dict\n",
    "print(sweep_config)\n",
    "sweep_id = wandb.sweep(sweep_config, project=\"NEW_AUGM_BIN\")"
   ]
  },
  {
   "cell_type": "code",
   "execution_count": null,
   "metadata": {},
   "outputs": [],
   "source": []
  },
  {
   "cell_type": "code",
   "execution_count": 11,
   "metadata": {},
   "outputs": [
    {
     "name": "stdout",
     "output_type": "stream",
     "text": [
      "{'method': 'grid', 'metric': {'name': 'val_loss', 'goal': 'minimize'}, 'parameters': {'data_dir': {'value': 'datasets/complete/random_chop/i_3072_w_1/'}, 'model_fn': {'values': ['basenjimod']}, 'loss_fn': {'values': ['poisson', 'multinomialnll_mse_reg', 'mse', 'basenjipearsonr', 'pearsonr_mse']}, 'window_size': {'value': 2048}, 'bin_size': {'values': [32, 64, 128, 512, 1024, 2048]}, 'l_rate': {'value': 0.001}, 'num_epochs': {'value': 30}}}\n",
      "Create sweep with ID: mmzb2j65\n",
      "Sweep URL: https://wandb.ai/toneyan/LOSS_FUNCTION/sweeps/mmzb2j65\n"
     ]
    }
   ],
   "source": [
    "# MSE + pearson R loss\n",
    "sweep_config = {\n",
    "    'method': 'grid'\n",
    "    }\n",
    "\n",
    "metric = {\n",
    "    'name': 'val_loss',\n",
    "    'goal': 'minimize'   \n",
    "    }\n",
    "\n",
    "sweep_config['metric'] = metric\n",
    "parameters_dict = {\n",
    "    'data_dir':{\n",
    "#         'value': '/mnt/1a18a49e-9a31-4dbf-accd-3fb8abbfab2d/shush/4grid_atac/lite/random_chop/i_3072_w_1/'\n",
    "        'value': 'datasets/complete/random_chop/i_3072_w_1/'\n",
    "    },\n",
    "    'model_fn':{\n",
    "        'values': ['basenjimod']\n",
    "    },\n",
    "    'loss_fn':{\n",
    "        'values': ['poisson', 'multinomialnll_mse_reg', 'mse', \n",
    "                   'basenjipearsonr', 'pearsonr_mse']\n",
    "    },\n",
    "    'window_size':{\n",
    "        'value': 2048\n",
    "    },\n",
    "    'bin_size':{\n",
    "        'values': [32, 64, 128, 512, 1024, 2048]\n",
    "    },\n",
    "    'l_rate': {\n",
    "        'value': 0.001\n",
    "    },\n",
    "    'num_epochs': {\n",
    "        'value': 30\n",
    "    }\n",
    "    }\n",
    "\n",
    "sweep_config['parameters'] = parameters_dict\n",
    "print(sweep_config)\n",
    "\n",
    "sweep_id = wandb.sweep(sweep_config, project=\"LOSS_FUNCTION\")"
   ]
  },
  {
   "cell_type": "code",
   "execution_count": 6,
   "metadata": {},
   "outputs": [
    {
     "data": {
      "text/plain": [
       "[{'loss_fn': 'mse', 'bins_and_weights': ([1], [1])},\n",
       " {'loss_fn': 'log_poisson', 'bins_and_weights': ([1], [1])}]"
      ]
     },
     "execution_count": 6,
     "metadata": {},
     "output_type": "execute_result"
    }
   ],
   "source": [
    "# loss_fns = ['mse', 'poisson']\n",
    "# bins_and_weights = [([1, 32, 64, 128], [0.25, 0.25, 0.25, 0.25]), \n",
    "#              ([1, 32, 64, 128], [0.1, 0.4, 0.4, 0.1]),\n",
    "#             ([1, 32, 64, 128], [0.05, 0.15, 0.2, 0.6]),\n",
    "#             ([1, 32, 64], [0.25, 0.25, 0.25]),\n",
    "#              ([1, 32, 64], [0.1, 0.3, 0.6]),\n",
    "#              ([1, 32, 64], [0.1, 0.6, 0.3]),\n",
    "#             ([1, 64, 128, 256], [0.1, 0.4, 0.4, 0.1]),\n",
    "#             ([1, 128, 256, 512], [0.1, 0.4, 0.4, 0.1]),\n",
    "#             ([1, 128, 256, 1024, 2048], [0.05, 0.15, 0.1, 0.2, 0.5]),\n",
    "#             ([1, 128, 256, 1024, 2048], [0.25, 0.25, 0.25, 0.25, 0.25])]\n",
    "# loss_params_list = [{'loss_fn':f, 'bins_and_weights': b} for f in loss_fns for b in bins_and_weights]\n",
    "\n",
    "# loss_fns = ['mse', 'log_poisson']\n",
    "# bins_and_weights = [([1, 32, 64], [1,1,1]), ([1, 32, 64], [2,1,0.5])]\n",
    "# loss_params_list = [{'loss_fn':f, 'bins_and_weights': b} for f in loss_fns for b in bins_and_weights]\n",
    "# loss_params_list\n",
    "\n",
    "loss_fns = ['mse', 'log_poisson']\n",
    "bins_and_weights = [([1], [1])]\n",
    "loss_params_list = [[[1],[1]], [[1],[100]], [[1, 2],[1, 1]]]\n",
    "loss_params_list"
   ]
  },
  {
   "cell_type": "markdown",
   "metadata": {},
   "source": [
    "# multiscale loss with basenji"
   ]
  },
  {
   "cell_type": "code",
   "execution_count": 6,
   "metadata": {},
   "outputs": [
    {
     "name": "stdout",
     "output_type": "stream",
     "text": [
      "{'method': 'grid', 'metric': {'name': 'val_loss', 'goal': 'minimize'}, 'parameters': {'data_dir': {'value': 'datasets/complete/random_chop/i_3072_w_1/'}, 'model_fn': {'values': ['bpnet', 'basenjiw1']}, 'loss_fn': {'values': ['multiscale_poisson']}, 'loss_params': {'values': [[[1, 512, 2048], [0.3, 0.5, 2]], [[1, 1024], [0.5, 2]], [[1, 128, 1024], [1, 1.2, 2.2]]]}, 'window_size': {'value': 2048}, 'bin_size': {'value': 1}, 'l_rate': {'value': 0.001}, 'num_epochs': {'value': 30}}}\n",
      "Create sweep with ID: 7ixvaeiy\n",
      "Sweep URL: https://wandb.ai/toneyan/MULTISCALE_LOSS/sweeps/7ixvaeiy\n"
     ]
    }
   ],
   "source": [
    "sweep_config = {\n",
    "    'method': 'grid'\n",
    "    }\n",
    "\n",
    "metric = {\n",
    "    'name': 'val_loss',\n",
    "    'goal': 'minimize'   \n",
    "    }\n",
    "\n",
    "sweep_config['metric'] = metric\n",
    "parameters_dict = {\n",
    "    'data_dir':{\n",
    "#         'value': '/mnt/1a18a49e-9a31-4dbf-accd-3fb8abbfab2d/shush/4grid_atac/complete/random_chop/i_3072_w_1/'\n",
    "        'value': 'datasets/complete/random_chop/i_3072_w_1/'\n",
    "    },\n",
    "    'model_fn':{\n",
    "        'values': ['bpnet', 'basenjiw1']\n",
    "    },\n",
    "    'loss_fn':{\n",
    "        'values': ['multiscale_poisson']\n",
    "    },\n",
    "    'loss_params':{\n",
    "        'values': [[[1, 512, 2048], [0.3, 0.5, 2]], \n",
    "                   [[1, 1024], [0.5, 2]], \n",
    "                   [[1, 128, 1024], [1, 1.2, 2.2]]]\n",
    "    },\n",
    "    'window_size':{\n",
    "        'value': 2048\n",
    "    },\n",
    "    'bin_size':{\n",
    "        'value': 1\n",
    "    },\n",
    "    'l_rate': {\n",
    "        'value': 0.001\n",
    "    },\n",
    "    'num_epochs': {\n",
    "        'value': 30\n",
    "    }\n",
    "    }\n",
    "\n",
    "sweep_config['parameters'] = parameters_dict\n",
    "print(sweep_config)\n",
    "\n",
    "sweep_id = wandb.sweep(sweep_config, project=\"MULTISCALE_LOSS\")"
   ]
  },
  {
   "cell_type": "code",
   "execution_count": 7,
   "metadata": {},
   "outputs": [
    {
     "name": "stderr",
     "output_type": "stream",
     "text": [
      "429 response executing GraphQL.\n",
      "{\"error\":\"rate limit exceeded\"}\n",
      "\n"
     ]
    },
    {
     "name": "stdout",
     "output_type": "stream",
     "text": [
      "{'method': 'grid', 'metric': {'name': 'val_loss', 'goal': 'minimize'}, 'parameters': {'data_dir': {'value': 'datasets/complete/random_chop/i_3072_w_1/'}, 'model_fn': {'values': ['bpnet', 'basenjiw1']}, 'loss_fn': {'values': ['multinomialnll_mse_reg']}, 'loss_params': {'values': [0.0001, 1e-05, 1e-06, 1e-07]}, 'window_size': {'value': 2048}, 'bin_size': {'value': 1}, 'l_rate': {'value': 0.001}, 'num_epochs': {'value': 30}}}\n"
     ]
    },
    {
     "name": "stderr",
     "output_type": "stream",
     "text": [
      "429 response executing GraphQL.\n",
      "{\"error\":\"rate limit exceeded\"}\n",
      "\n"
     ]
    },
    {
     "name": "stdout",
     "output_type": "stream",
     "text": [
      "Create sweep with ID: 52jqn8ew\n",
      "Sweep URL: https://wandb.ai/toneyan/mult_nll_alpha/sweeps/52jqn8ew\n"
     ]
    }
   ],
   "source": [
    "sweep_config = {\n",
    "    'method': 'grid'\n",
    "    }\n",
    "\n",
    "metric = {\n",
    "    'name': 'val_loss',\n",
    "    'goal': 'minimize'   \n",
    "    }\n",
    "\n",
    "sweep_config['metric'] = metric\n",
    "parameters_dict = {\n",
    "    'data_dir':{\n",
    "#         'value': '/mnt/1a18a49e-9a31-4dbf-accd-3fb8abbfab2d/shush/4grid_atac/complete/random_chop/i_3072_w_1/'\n",
    "        'value': 'datasets/complete/random_chop/i_3072_w_1/'\n",
    "    },\n",
    "    'model_fn':{\n",
    "        'values': ['bpnet', 'basenjiw1']\n",
    "    },\n",
    "    'loss_fn':{\n",
    "        'values': ['multinomialnll_mse_reg']\n",
    "    },\n",
    "    'loss_params':{\n",
    "        'values': [0.0001, 0.00001, 0.000001, 0.0000001]\n",
    "    },\n",
    "    'window_size':{\n",
    "        'value': 2048\n",
    "    },\n",
    "    'bin_size':{\n",
    "        'value': 1\n",
    "    },\n",
    "    'l_rate': {\n",
    "        'value': 0.001\n",
    "    },\n",
    "    'num_epochs': {\n",
    "        'value': 30\n",
    "    }\n",
    "    }\n",
    "\n",
    "sweep_config['parameters'] = parameters_dict\n",
    "print(sweep_config)\n",
    "\n",
    "sweep_id = wandb.sweep(sweep_config, project=\"mult_nll_alpha\")"
   ]
  },
  {
   "cell_type": "code",
   "execution_count": 3,
   "metadata": {},
   "outputs": [
    {
     "name": "stdout",
     "output_type": "stream",
     "text": [
      "{'method': 'grid', 'metric': {'name': 'val_loss', 'goal': 'minimize'}, 'parameters': {'data_dir': {'value': 'datasets/complete/random_chop/i_3072_w_1/'}, 'model_fn': {'values': ['bpnet', 'basenjiw1']}, 'loss_fn': {'value': 'log_poisson'}, 'window_size': {'value': 2048}, 'bin_size': {'value': 1}, 'l_rate': {'values': [0.01, 0.001, 0.0001]}, 'num_epochs': {'value': 30}}}\n",
      "Create sweep with ID: nav63nxb\n",
      "Sweep URL: https://wandb.ai/toneyan/LEARNING_RATE/sweeps/nav63nxb\n"
     ]
    }
   ],
   "source": [
    "sweep_config = {\n",
    "    'method': 'grid'\n",
    "    }\n",
    "\n",
    "metric = {\n",
    "    'name': 'val_loss',\n",
    "    'goal': 'minimize'   \n",
    "    }\n",
    "\n",
    "sweep_config['metric'] = metric\n",
    "parameters_dict = {\n",
    "    'data_dir':{\n",
    "#         'value': '/mnt/1a18a49e-9a31-4dbf-accd-3fb8abbfab2d/shush/4grid_atac/complete/random_chop/i_3072_w_1/'\n",
    "        'value': 'datasets/complete/random_chop/i_3072_w_1/'\n",
    "    },\n",
    "    'model_fn':{\n",
    "        'values': ['bpnet', 'basenjiw1']\n",
    "    },\n",
    "    'loss_fn':{\n",
    "        'value': 'log_poisson'\n",
    "    },\n",
    "    'window_size':{\n",
    "        'value': 2048\n",
    "    },\n",
    "    'bin_size':{\n",
    "        'value': 1\n",
    "    },\n",
    "    'l_rate': {\n",
    "        'values': [0.01, 0.001, 0.0001]\n",
    "    },\n",
    "    'num_epochs': {\n",
    "        'value': 30\n",
    "    }\n",
    "    }\n",
    "\n",
    "sweep_config['parameters'] = parameters_dict\n",
    "print(sweep_config)\n",
    "\n",
    "sweep_id = wandb.sweep(sweep_config, project=\"LEARNING_RATE\")"
   ]
  },
  {
   "cell_type": "code",
   "execution_count": 3,
   "metadata": {},
   "outputs": [
    {
     "name": "stdout",
     "output_type": "stream",
     "text": [
      "{'method': 'grid', 'metric': {'name': 'val_loss', 'goal': 'minimize'}, 'parameters': {'data_dir': {'values': ['datasets/complete/peak_centered/i_2048_w_1', 'datasets/complete/random_chop/i_2048_w_1']}, 'model_fn': {'values': ['basenjimod']}, 'loss_fn': {'value': 'poisson'}, 'window_size': {'value': 2048}, 'bin_size': {'values': [32, 64, 128, 256, 512, 1024, 2048]}, 'l_rate': {'value': 0.001}, 'num_epochs': {'value': 30}, 'rev_comp': {'values': [True, False]}, 'crop': {'values': [False]}}}\n",
      "Create sweep with ID: wl29rl12\n",
      "Sweep URL: https://wandb.ai/toneyan/AUGMENTATION_BIN_SIZE/sweeps/wl29rl12\n"
     ]
    }
   ],
   "source": [
    "sweep_config = {\n",
    "    'method': 'grid'\n",
    "    }\n",
    "metric = {\n",
    "    'name': 'val_loss',\n",
    "    'goal': 'minimize'   \n",
    "    }\n",
    "sweep_config['metric'] = metric\n",
    "parameters_dict = {\n",
    "    'data_dir':{\n",
    "        'values':['datasets/complete/peak_centered/i_2048_w_1',\n",
    "                  'datasets/complete/random_chop/i_2048_w_1']\n",
    "    },\n",
    "    'model_fn':{\n",
    "        'values':['basenjimod']\n",
    "    },\n",
    "    'loss_fn':{\n",
    "        'value':'poisson'\n",
    "    },\n",
    "    'window_size':{\n",
    "        'value': 2048\n",
    "    },\n",
    "    'bin_size':{\n",
    "        'values': [32, 64, 128, 256, 512, 1024, 2048]\n",
    "    },\n",
    "    'l_rate': {\n",
    "        'value': 0.001\n",
    "    },\n",
    "    'num_epochs': {\n",
    "        'value': 30\n",
    "    },\n",
    "    'rev_comp':{\n",
    "        'values':[True, False]\n",
    "    },\n",
    "    'crop':{\n",
    "        'values':[False]\n",
    "    }\n",
    "}\n",
    "sweep_config['parameters'] = parameters_dict\n",
    "print(sweep_config)\n",
    "sweep_id = wandb.sweep(sweep_config, project=\"AUGMENTATION_BIN_SIZE\")"
   ]
  },
  {
   "cell_type": "markdown",
   "metadata": {},
   "source": [
    "Separately define a new sweep for 2K"
   ]
  },
  {
   "cell_type": "code",
   "execution_count": 9,
   "metadata": {},
   "outputs": [
    {
     "name": "stdout",
     "output_type": "stream",
     "text": [
      "{'method': 'grid', 'metric': {'name': 'val_loss', 'goal': 'minimize'}, 'parameters': {'data_dir': {'values': ['datasets/complete/peak_centered/i_3072_w_1', 'datasets/complete/random_chop/i_3072_w_1']}, 'model_fn': {'values': ['basenjimod']}, 'loss_fn': {'value': 'poisson'}, 'window_size': {'value': 2048}, 'bin_size': {'values': [32, 64, 128, 256, 512, 1024, 2048]}, 'l_rate': {'value': 0.001}, 'num_epochs': {'value': 30}}}\n",
      "Create sweep with ID: m81xc87f\n",
      "Sweep URL: https://wandb.ai/toneyan/TRAIN_THRESHOLD/sweeps/m81xc87f\n"
     ]
    }
   ],
   "source": [
    "sweep_config = {\n",
    "    'method': 'grid'\n",
    "    }\n",
    "metric = {\n",
    "    'name': 'val_loss',\n",
    "    'goal': 'minimize'   \n",
    "    }\n",
    "sweep_config['metric'] = metric\n",
    "parameters_dict = {\n",
    "    'data_dir':{\n",
    "        'values':[\n",
    "                  'datasets/complete/peak_centered/i_3072_w_1',\n",
    "                  'datasets/complete/random_chop/i_3072_w_1'\n",
    "                 ]\n",
    "    },\n",
    "    'model_fn':{\n",
    "        'values': ['basenjimod']\n",
    "    },\n",
    "    'loss_fn':{\n",
    "        'value':'poisson'\n",
    "    },\n",
    "    'window_size':{\n",
    "        'value': 2048\n",
    "    },\n",
    "    'bin_size':{\n",
    "        'values': [32, 64, 128, 256, 512, 1024, 2048]\n",
    "    },\n",
    "    'l_rate': {\n",
    "        'value': 0.001\n",
    "    },\n",
    "    'num_epochs': {\n",
    "        'value': 30\n",
    "    }\n",
    "}\n",
    "sweep_config['parameters'] = parameters_dict\n",
    "print(sweep_config)\n",
    "sweep_id = wandb.sweep(sweep_config, project=\"TRAIN_THRESHOLD\")"
   ]
  },
  {
   "cell_type": "markdown",
   "metadata": {},
   "source": [
    "# basenji"
   ]
  },
  {
   "cell_type": "code",
   "execution_count": 2,
   "metadata": {},
   "outputs": [],
   "source": [
    "filtN_1 = [64, 128]\n",
    "filtN_2 = [64, 128, 256]\n",
    "filtN_4 = [64, 128, 256]\n",
    "filtN_5 = [64, 128, 256, 512, 1024]\n",
    "\n",
    "# all_combs = list(itertools.product(*[filtN_1, filtN_2, filtN_4, filtN_5]))\n",
    "\n",
    "# good_combs = []\n",
    "# for comb in all_combs:\n",
    "#     if all(i <= j for i, j in zip(comb, comb[1:])):\n",
    "#         good_combs.append(comb)"
   ]
  },
  {
   "cell_type": "code",
   "execution_count": 2,
   "metadata": {},
   "outputs": [
    {
     "name": "stdout",
     "output_type": "stream",
     "text": [
      "{'method': 'grid', 'metric': {'name': 'val_loss', 'goal': 'minimize'}, 'parameters': {'data_dir': {'values': ['/mnt/1a18a49e-9a31-4dbf-accd-3fb8abbfab2d/shush/4grid_atac/complete/peak_centered/i_2048_w_1/', '/mnt/1a18a49e-9a31-4dbf-accd-3fb8abbfab2d/shush/4grid_atac/complete/random_chop/i_2048_w_1/']}, 'model_fn': {'value': 'basenjimod'}, 'loss_fn': {'value': 'log_poisson'}, 'window_size': {'value': 2048}, 'bin_size': {'value': 128}, 'l_rate': {'value': 0.001}, 'epochN': {'value': 50}, 'add_dropout': {'value': False}, 'filtN_1': {'value': 128}, 'filtN_2': {'value': 128}, 'filtN_4': {'value': 128}, 'filtN_5': {'value': 512}}}\n",
      "Create sweep with ID: mhq7lrvf\n",
      "Sweep URL: https://wandb.ai/toneyan/4grid_log_basenji/sweeps/mhq7lrvf\n"
     ]
    }
   ],
   "source": [
    "sweep_config = {\n",
    "    'method': 'grid'\n",
    "    }\n",
    "\n",
    "metric = {\n",
    "    'name': 'val_loss',\n",
    "    'goal': 'minimize'   \n",
    "    }\n",
    "\n",
    "sweep_config['metric'] = metric\n",
    "parameters_dict = {\n",
    "    'data_dir':{\n",
    "#         'values': ['/mnt/1a18a49e-9a31-4dbf-accd-3fb8abbfab2d/shush/4grid_atac/complete/peak_centered/i_3072_w_1/',\n",
    "        'values': ['/mnt/1a18a49e-9a31-4dbf-accd-3fb8abbfab2d/shush/4grid_atac/complete/peak_centered/i_2048_w_1/',\n",
    "#                   '/mnt/1a18a49e-9a31-4dbf-accd-3fb8abbfab2d/shush/4grid_atac/complete/random_chop/i_3072_w_1/',\n",
    "                  '/mnt/1a18a49e-9a31-4dbf-accd-3fb8abbfab2d/shush/4grid_atac/complete/random_chop/i_2048_w_1/']\n",
    "    },\n",
    "    'model_fn':{\n",
    "        'value': 'basenjimod'\n",
    "    },\n",
    "    'loss_fn':{\n",
    "        'value': 'log_poisson'\n",
    "    },\n",
    "    'window_size':{\n",
    "        'value': 2048\n",
    "    },\n",
    "    'bin_size':{\n",
    "        'value': 128\n",
    "    },\n",
    "    'l_rate': {\n",
    "        'value': 0.001\n",
    "    },\n",
    "    'epochN': {\n",
    "        'value': 50\n",
    "    },\n",
    "    'add_dropout': {\n",
    "        'value': False\n",
    "    },\n",
    "    'filtN_1': {\n",
    "        'value': 128\n",
    "    },\n",
    "    'filtN_2': {\n",
    "        'value': 128\n",
    "    },\n",
    "    'filtN_4': {\n",
    "        'value': 128\n",
    "    },\n",
    "    'filtN_5': {\n",
    "        'value': 512\n",
    "    }\n",
    "#     'kern_1': {\n",
    "#         'values': [5, 15, 25]\n",
    "#     },\n",
    "#     'kern_2': {\n",
    "#         'values': [3, 8]\n",
    "#     },    \n",
    "#     'filt_mlt': {\n",
    "#         'values': [1.125, 2]\n",
    "#     }\n",
    "    }\n",
    "\n",
    "sweep_config['parameters'] = parameters_dict\n",
    "print(sweep_config)\n",
    "\n",
    "sweep_id = wandb.sweep(sweep_config, project=\"4grid_log_basenji\")"
   ]
  },
  {
   "cell_type": "markdown",
   "metadata": {},
   "source": [
    "# basenji experiments - bin size, loss"
   ]
  },
  {
   "cell_type": "code",
   "execution_count": 18,
   "metadata": {},
   "outputs": [
    {
     "name": "stdout",
     "output_type": "stream",
     "text": [
      "{'method': 'grid', 'metric': {'name': 'val_loss', 'goal': 'minimize'}, 'parameters': {'data_dir': {'value': '/mnt/1a18a49e-9a31-4dbf-accd-3fb8abbfab2d/shush/4grid_atac/complete/random_chop/i_3072_w_1/'}, 'model_fn': {'value': 'basenjimod'}, 'loss_fn': {'values': ['mse', 'fftmse', 'log_poisson', 'multinomialnll', 'basenjipearsonr', 'pearsonr_mse']}, 'window_size': {'value': 2048}, 'bin_size': {'value': 2048}, 'l_rate': {'value': 0.001}, 'epochN': {'value': 30}, 'add_dropout': {'value': False}, 'filtN_1': {'value': 128}, 'filtN_2': {'value': 128}, 'filtN_4': {'value': 128}, 'filtN_5': {'value': 512}}}\n",
      "Create sweep with ID: smt1bfvw\n",
      "Sweep URL: https://wandb.ai/toneyan/exp_basenji/sweeps/smt1bfvw\n"
     ]
    }
   ],
   "source": [
    "sweep_config = {\n",
    "    'method': 'grid'\n",
    "    }\n",
    "\n",
    "metric = {\n",
    "    'name': 'val_loss',\n",
    "    'goal': 'minimize'   \n",
    "    }\n",
    "\n",
    "sweep_config['metric'] = metric\n",
    "parameters_dict = {\n",
    "    'data_dir':{\n",
    "        'value': '/mnt/1a18a49e-9a31-4dbf-accd-3fb8abbfab2d/shush/4grid_atac/complete/random_chop/i_3072_w_1/'\n",
    "    },\n",
    "    'model_fn':{\n",
    "        'value': 'basenjimod'\n",
    "    },\n",
    "    'loss_fn':{\n",
    "        'values': ['mse', 'fftmse', 'log_poisson', 'multinomialnll', 'basenjipearsonr', 'pearsonr_mse']\n",
    "    },\n",
    "    'window_size':{\n",
    "        'value': 2048\n",
    "    },\n",
    "    'bin_size':{\n",
    "#         'values': [32, 64, 128, 256, 512, 1024]\n",
    "        'value': 2048\n",
    "    },\n",
    "    'l_rate': {\n",
    "        'value': 0.001\n",
    "    },\n",
    "    'epochN': {\n",
    "        'value': 30\n",
    "    },\n",
    "    'add_dropout': {\n",
    "        'value': False\n",
    "    },\n",
    "    'filtN_1': {\n",
    "        'value': 128\n",
    "    },\n",
    "    'filtN_2': {\n",
    "        'value': 128\n",
    "    },\n",
    "    'filtN_4': {\n",
    "        'value': 128\n",
    "    },\n",
    "    'filtN_5': {\n",
    "        'value': 512\n",
    "    }\n",
    "    }\n",
    "\n",
    "sweep_config['parameters'] = parameters_dict\n",
    "print(sweep_config)\n",
    "\n",
    "sweep_id = wandb.sweep(sweep_config, project=\"exp_basenji\")"
   ]
  },
  {
   "cell_type": "markdown",
   "metadata": {},
   "source": [
    "# log poisson loss finetune"
   ]
  },
  {
   "cell_type": "code",
   "execution_count": 8,
   "metadata": {},
   "outputs": [
    {
     "name": "stdout",
     "output_type": "stream",
     "text": [
      "{'method': 'grid', 'metric': {'name': 'val_loss', 'goal': 'minimize'}, 'parameters': {'data_dir': {'values': ['/mnt/1a18a49e-9a31-4dbf-accd-3fb8abbfab2d/shush/4grid_atac/complete/random_chop/i_3072_w_1/', '/mnt/1a18a49e-9a31-4dbf-accd-3fb8abbfab2d/shush/4grid_atac/complete/peak_centered/i_2048_w_1/']}, 'model_fn': {'value': 'basenjimod'}, 'loss_fn': {'value': 'log_poisson'}, 'window_size': {'value': 2048}, 'bin_size': {'value': 128}, 'l_rate': {'value': 0.001}, 'num_epochs': {'value': 30}, 'add_dropout': {'value': False}, 'filtN_1': {'value': 128}, 'filtN_2': {'value': 256}, 'filtN_4': {'value': 256}, 'filtN_5': {'value': 256}}}\n",
      "Create sweep with ID: flq0kxsa\n",
      "Sweep URL: https://wandb.ai/toneyan/PEAK_VS_RANDOM_BESTBASENJI/sweeps/flq0kxsa\n"
     ]
    }
   ],
   "source": [
    "# filtN_1 = [64, 128]\n",
    "# filtN_2 = [64, 128, 256]\n",
    "# filtN_4 = [64, 128, 256]\n",
    "# filtN_5 = [64, 128, 256, 512, 1024]\n",
    "\n",
    "\n",
    "sweep_config = {\n",
    "    'method': 'grid'\n",
    "    }\n",
    "\n",
    "metric = {\n",
    "    'name': 'val_loss',\n",
    "    'goal': 'minimize'   \n",
    "    }\n",
    "\n",
    "sweep_config['metric'] = metric\n",
    "parameters_dict = {\n",
    "    'data_dir':{\n",
    "        'values': ['/mnt/1a18a49e-9a31-4dbf-accd-3fb8abbfab2d/shush/4grid_atac/complete/random_chop/i_3072_w_1/',\n",
    "                 '/mnt/1a18a49e-9a31-4dbf-accd-3fb8abbfab2d/shush/4grid_atac/complete/peak_centered/i_2048_w_1/']\n",
    "    },\n",
    "    'model_fn':{\n",
    "        'value': 'basenjimod'\n",
    "    },\n",
    "    'loss_fn':{\n",
    "        'value': 'log_poisson'\n",
    "    },\n",
    "    'window_size':{\n",
    "        'value': 2048\n",
    "    },\n",
    "    'bin_size':{\n",
    "        'value': 128\n",
    "    },\n",
    "    'l_rate': {\n",
    "        'value': 0.001\n",
    "    },\n",
    "    'num_epochs': {\n",
    "        'value': 30\n",
    "    },\n",
    "    'add_dropout': {\n",
    "        'value': False\n",
    "    },\n",
    "    'filtN_1': {\n",
    "        'value': 128\n",
    "    },\n",
    "    'filtN_2': {\n",
    "        'value': 256\n",
    "    },\n",
    "    'filtN_4': {\n",
    "        'value': 256\n",
    "    },\n",
    "    'filtN_5': {\n",
    "        'value': 256\n",
    "    }\n",
    "    }\n",
    "\n",
    "sweep_config['parameters'] = parameters_dict\n",
    "print(sweep_config)\n",
    "\n",
    "sweep_id = wandb.sweep(sweep_config, project=\"PEAK_VS_RANDOM_BESTBASENJI\")"
   ]
  },
  {
   "cell_type": "code",
   "execution_count": 11,
   "metadata": {},
   "outputs": [
    {
     "name": "stdout",
     "output_type": "stream",
     "text": [
      "{'method': 'grid', 'metric': {'name': 'val_loss', 'goal': 'minimize'}, 'parameters': {'data_dir': {'value': '/mnt/1a18a49e-9a31-4dbf-accd-3fb8abbfab2d/shush/4grid_atac/complete/random_chop/i_3072_w_1/'}, 'model_fn': {'value': 'basenjiw1'}, 'loss_fn': {'value': 'log_poisson'}, 'window_size': {'value': 2048}, 'bin_size': {'value': 1}, 'l_rate': {'value': 0.001}, 'epochN': {'value': 30}, 'add_dropout': {'value': True}, 'filtN_1': {'value': 128}, 'filtN_2': {'value': 256}, 'filtN_3': {'value': 256}, 'filtN_4': {'value': 256}, 'filtN_5': {'value': 512}, 'mult_rate1': {'value': 1.125}, 'mult_rate2': {'value': 1.125}}}\n",
      "Create sweep with ID: uyfzs25c\n",
      "Sweep URL: https://wandb.ai/toneyan/EXP_LOGPOIS_128_2K/sweeps/uyfzs25c\n"
     ]
    }
   ],
   "source": [
    "filtN_1 = [64, 128]\n",
    "filtN_2 = [64, 128, 256]\n",
    "filtN_3 = [64, 128, 256]\n",
    "filtN_4 = [64, 128, 256]\n",
    "filtN_5 = [64, 128, 256, 512, 1024]\n",
    "\n",
    "sweep_config = {\n",
    "    'method': 'grid'\n",
    "    }\n",
    "\n",
    "metric = {\n",
    "    'name': 'val_loss',\n",
    "    'goal': 'minimize'   \n",
    "    }\n",
    "\n",
    "sweep_config['metric'] = metric\n",
    "parameters_dict = {\n",
    "    'data_dir':{\n",
    "        'value': '/mnt/1a18a49e-9a31-4dbf-accd-3fb8abbfab2d/shush/4grid_atac/complete/random_chop/i_3072_w_1/'\n",
    "    },\n",
    "    'model_fn':{\n",
    "        'value': 'basenjiw1'\n",
    "    },\n",
    "    'loss_fn':{\n",
    "        'value': 'log_poisson'\n",
    "    },\n",
    "    'window_size':{\n",
    "        'value': 2048\n",
    "    },\n",
    "    'bin_size':{\n",
    "        'value': 1\n",
    "    },\n",
    "    'l_rate': {\n",
    "        'value': 0.001\n",
    "    },\n",
    "    'epochN': {\n",
    "        'value': 30\n",
    "    },\n",
    "    'add_dropout': {\n",
    "        'value': True\n",
    "    },\n",
    "    'filtN_1': {\n",
    "        'value': 128\n",
    "    },\n",
    "    'filtN_2': {\n",
    "        'value': 256\n",
    "    },\n",
    "    'filtN_3':{\n",
    "        'value': 256\n",
    "    },\n",
    "    'filtN_4': {\n",
    "        'value': 256\n",
    "    },\n",
    "    'filtN_5': {\n",
    "        'value': 512\n",
    "    },\n",
    "    'mult_rate1':{\n",
    "        'value': 1.125\n",
    "    },\n",
    "    'mult_rate2':{\n",
    "        'value': 1.125\n",
    "    }\n",
    "    }\n",
    "\n",
    "sweep_config['parameters'] = parameters_dict\n",
    "print(sweep_config)\n",
    "\n",
    "sweep_id = wandb.sweep(sweep_config, project=\"EXP_LOGPOIS_128_2K\")"
   ]
  },
  {
   "cell_type": "code",
   "execution_count": 11,
   "metadata": {},
   "outputs": [
    {
     "name": "stdout",
     "output_type": "stream",
     "text": [
      "{'method': 'grid', 'metric': {'name': 'val_loss', 'goal': 'minimize'}, 'parameters': {'data_dir': {'value': 'datasets/complete/random_chop/i_3072_w_1/'}, 'model_fn': {'value': 'basenjiw1'}, 'loss_fn': {'value': 'log_poisson'}, 'window_size': {'value': 2048}, 'bin_size': {'value': 1}, 'l_rate': {'value': 0.001}, 'epochN': {'value': 30}, 'add_dropout': {'values': [False, True]}, 'filtN_1': {'values': [64, 128]}, 'filtN_2': {'values': [64, 128, 256]}, 'filtN_3': {'values': [64, 128, 256]}, 'filtN_4': {'values': [64, 128, 256]}, 'filtN_5': {'values': [64, 128, 256, 512, 1024]}, 'mult_rate1': {'value': 1.125}, 'mult_rate2': {'value': 1.125}}}\n",
      "Create sweep with ID: b80ie7qj\n",
      "Sweep URL: https://wandb.ai/toneyan/FINETUNE_BASENJIW1_LOGPOIS_1_2K/sweeps/b80ie7qj\n"
     ]
    }
   ],
   "source": [
    "filtN_1 = [64, 128]\n",
    "filtN_2 = [64, 128, 256]\n",
    "filtN_3 = [64, 128, 256]\n",
    "filtN_4 = [64, 128, 256]\n",
    "filtN_5 = [64, 128, 256, 512, 1024]\n",
    "\n",
    "sweep_config = {\n",
    "    'method': 'grid'\n",
    "    }\n",
    "\n",
    "metric = {\n",
    "    'name': 'val_loss',\n",
    "    'goal': 'minimize'   \n",
    "    }\n",
    "\n",
    "sweep_config['metric'] = metric\n",
    "parameters_dict = {\n",
    "    'data_dir':{\n",
    "        'value': 'datasets/complete/random_chop/i_3072_w_1/'\n",
    "    },\n",
    "    'model_fn':{\n",
    "        'value': 'basenjiw1'\n",
    "    },\n",
    "    'loss_fn':{\n",
    "        'value': 'log_poisson'\n",
    "    },\n",
    "    'window_size':{\n",
    "        'value': 2048\n",
    "    },\n",
    "    'bin_size':{\n",
    "        'value': 1\n",
    "    },\n",
    "    'l_rate': {\n",
    "        'value': 0.001\n",
    "    },\n",
    "    'epochN': {\n",
    "        'value': 30\n",
    "    },\n",
    "    'add_dropout': {\n",
    "        'values': [False, True]\n",
    "    },\n",
    "    'filtN_1': {\n",
    "        'values': filtN_1\n",
    "    },\n",
    "    'filtN_2': {\n",
    "        'values': filtN_2\n",
    "    },\n",
    "    'filtN_4': {\n",
    "        'values': filtN_4\n",
    "    },\n",
    "    'filtN_5': {\n",
    "        'values': filtN_5\n",
    "    },\n",
    "    'mult_rate1':{\n",
    "        'value': 1.125\n",
    "    },\n",
    "    'mult_rate2':{\n",
    "        'value': 1.125\n",
    "    }\n",
    "    }\n",
    "\n",
    "sweep_config['parameters'] = parameters_dict\n",
    "print(sweep_config)\n",
    "\n",
    "sweep_id = wandb.sweep(sweep_config, project=\"FINETUNE_BASENJIW1_LOGPOIS_1_2K\")"
   ]
  },
  {
   "cell_type": "code",
   "execution_count": 8,
   "metadata": {},
   "outputs": [],
   "source": [
    "m = 1\n",
    "for k, v in parameters_dict.items():\n",
    "    if 'values' in v.keys():\n",
    "        m = m * (len(v['values']))"
   ]
  },
  {
   "cell_type": "code",
   "execution_count": 9,
   "metadata": {},
   "outputs": [
    {
     "data": {
      "text/plain": [
       "540"
      ]
     },
     "execution_count": 9,
     "metadata": {},
     "output_type": "execute_result"
    }
   ],
   "source": [
    "m"
   ]
  },
  {
   "cell_type": "code",
   "execution_count": null,
   "metadata": {},
   "outputs": [],
   "source": []
  }
 ],
 "metadata": {
  "kernelspec": {
   "display_name": "Python 3",
   "language": "python",
   "name": "python3"
  },
  "language_info": {
   "codemirror_mode": {
    "name": "ipython",
    "version": 3
   },
   "file_extension": ".py",
   "mimetype": "text/x-python",
   "name": "python",
   "nbconvert_exporter": "python",
   "pygments_lexer": "ipython3",
   "version": "3.7.0b3"
  }
 },
 "nbformat": 4,
 "nbformat_minor": 2
}

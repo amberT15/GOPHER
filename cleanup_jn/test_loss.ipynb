{
 "cells": [
  {
   "cell_type": "code",
   "execution_count": 1,
   "metadata": {},
   "outputs": [],
   "source": [
    "%load_ext autoreload\n",
    "%autoreload 2\n",
    "from tfr_evaluate import get_true_pred\n",
    "from test_to_bw_fast import get_config\n",
    "import glob\n",
    "import util\n",
    "import pandas as pd\n",
    "import numpy as np\n",
    "import matplotlib.pyplot as plt\n",
    "from scipy import stats\n",
    "import tensorflow as tf\n",
    "from metrics import get_pearsonr_concatenated, get_pearsonr_per_seq"
   ]
  },
  {
   "cell_type": "code",
   "execution_count": 18,
   "metadata": {},
   "outputs": [
    {
     "name": "stdout",
     "output_type": "stream",
     "text": [
      "The autoreload extension is already loaded. To reload it, use:\n",
      "  %reload_ext autoreload\n"
     ]
    }
   ],
   "source": [
    "%load_ext autoreload\n",
    "%autoreload 2\n",
    "from tfr_evaluate import *\n",
    "import metrics"
   ]
  },
  {
   "cell_type": "code",
   "execution_count": 19,
   "metadata": {},
   "outputs": [
    {
     "data": {
      "text/plain": [
       "['/mnt/31dac31c-c4e2-4704-97bd-0788af37c5eb/shush/wandb/wandb_elzar/run-20210923_162932-56p3xy2p',\n",
       " '/mnt/31dac31c-c4e2-4704-97bd-0788af37c5eb/shush/wandb/wandb_elzar/run-20210923_163101-7qjhy0ff',\n",
       " '/mnt/31dac31c-c4e2-4704-97bd-0788af37c5eb/shush/wandb/wandb_elzar/run-20210923_162940-pxy34wg8',\n",
       " '/mnt/31dac31c-c4e2-4704-97bd-0788af37c5eb/shush/wandb/wandb_elzar/run-20210923_162941-e3f2p92u',\n",
       " '/mnt/31dac31c-c4e2-4704-97bd-0788af37c5eb/shush/wandb/wandb_elzar/run-20210923_162937-r3jvc9kj']"
      ]
     },
     "execution_count": 19,
     "metadata": {},
     "output_type": "execute_result"
    }
   ],
   "source": [
    "collect_sweep_dirs(\"toneyan/BASENJI_BIN_LOSS/igxa7jb7\")"
   ]
  },
  {
   "cell_type": "code",
   "execution_count": 14,
   "metadata": {},
   "outputs": [],
   "source": []
  },
  {
   "cell_type": "code",
   "execution_count": 15,
   "metadata": {},
   "outputs": [
    {
     "data": {
      "text/plain": [
       "['/mnt/31dac31c-c4e2-4704-97bd-0788af37c5eb/shush/wandb/wandb_elzar/run-20210923_162932-56p3xy2p',\n",
       " '/mnt/31dac31c-c4e2-4704-97bd-0788af37c5eb/shush/wandb/wandb_elzar/run-20210923_163101-7qjhy0ff',\n",
       " '/mnt/31dac31c-c4e2-4704-97bd-0788af37c5eb/shush/wandb/wandb_elzar/run-20210923_162940-pxy34wg8',\n",
       " '/mnt/31dac31c-c4e2-4704-97bd-0788af37c5eb/shush/wandb/wandb_elzar/run-20210923_162941-e3f2p92u',\n",
       " '/mnt/31dac31c-c4e2-4704-97bd-0788af37c5eb/shush/wandb/wandb_elzar/run-20210923_162937-r3jvc9kj']"
      ]
     },
     "execution_count": 15,
     "metadata": {},
     "output_type": "execute_result"
    }
   ],
   "source": [
    "run_dirs"
   ]
  },
  {
   "cell_type": "code",
   "execution_count": 2,
   "metadata": {},
   "outputs": [
    {
     "name": "stderr",
     "output_type": "stream",
     "text": [
      "\u001b[34m\u001b[1mwandb\u001b[0m: Currently logged in as: \u001b[33mtoneyan\u001b[0m (use `wandb login --relogin` to force relogin)\n"
     ]
    }
   ],
   "source": [
    "run_dirs = collect_run_dirs('BASENJI_BIN_LOSS')"
   ]
  },
  {
   "cell_type": "code",
   "execution_count": 4,
   "metadata": {},
   "outputs": [],
   "source": [
    "testset, targets, target_dataset_idr = collect_datasets()"
   ]
  },
  {
   "cell_type": "code",
   "execution_count": 8,
   "metadata": {},
   "outputs": [
    {
     "data": {
      "text/plain": [
       "array([1.7970057, 1.1871823, 1.0108575, 1.2598376, 2.0950527, 1.2199218,\n",
       "       1.9918476, 1.1640174, 1.1705098, 2.057555 , 1.5521909, 1.4378747,\n",
       "       1.0702202, 1.9019743, 1.8698908], dtype=float32)"
      ]
     },
     "execution_count": 8,
     "metadata": {},
     "output_type": "execute_result"
    }
   ],
   "source": [
    "get_scaling_factors(all_true, all_pred)"
   ]
  },
  {
   "cell_type": "code",
   "execution_count": 10,
   "metadata": {},
   "outputs": [
    {
     "name": "stdout",
     "output_type": "stream",
     "text": [
      "WARNING:tensorflow:No training configuration found in save file: the model was *not* compiled. Compile it manually.\n"
     ]
    },
    {
     "name": "stderr",
     "output_type": "stream",
     "text": [
      "137it [00:53,  2.57it/s]\n"
     ]
    },
    {
     "name": "stdout",
     "output_type": "stream",
     "text": [
      "/mnt/31dac31c-c4e2-4704-97bd-0788af37c5eb/shush/wandb/wandb_elzar/run-20210922_044927-vjg876vg\n",
      "[1.7970057 1.1871823 1.0108575 1.2598376 2.0950527 1.2199218 1.9918476\n",
      " 1.1640174 1.1705098 2.057555  1.5521909 1.4378747 1.0702202 1.9019743\n",
      " 1.8698908]\n",
      "WARNING:tensorflow:No training configuration found in save file: the model was *not* compiled. Compile it manually.\n"
     ]
    },
    {
     "name": "stderr",
     "output_type": "stream",
     "text": [
      "137it [00:52,  2.61it/s]\n"
     ]
    },
    {
     "name": "stdout",
     "output_type": "stream",
     "text": [
      "/mnt/31dac31c-c4e2-4704-97bd-0788af37c5eb/shush/wandb/wandb_elzar/run-20210922_044827-de61t72r\n",
      "[1.6678479e-10 3.0374175e-10 2.0790963e-10 2.2678814e-10 2.3788538e-10\n",
      " 2.0694974e-10 2.7316335e-10 1.9835764e-10 1.2996403e-10 3.2331207e-10\n",
      " 3.0980629e-10 2.4327756e-10 1.6107767e-10 2.6431732e-10 3.2539155e-10]\n",
      "WARNING:tensorflow:No training configuration found in save file: the model was *not* compiled. Compile it manually.\n"
     ]
    },
    {
     "name": "stderr",
     "output_type": "stream",
     "text": [
      "137it [00:54,  2.54it/s]\n",
      "/home/shush/profile/QuantPred/tfr_evaluate.py:73: RuntimeWarning: divide by zero encountered in true_divide\n",
      "  scaling_factors =  truth_per_cell_line_sum / pred_per_cell_line_sum\n",
      "/home/shush/profile/QuantPred/tfr_evaluate.py:73: RuntimeWarning: overflow encountered in true_divide\n",
      "  scaling_factors =  truth_per_cell_line_sum / pred_per_cell_line_sum\n"
     ]
    },
    {
     "name": "stdout",
     "output_type": "stream",
     "text": [
      "/mnt/31dac31c-c4e2-4704-97bd-0788af37c5eb/shush/wandb/wandb_elzar/run-20210922_044820-usqrkfni\n",
      "[          inf           inf           inf 3.0780605e+33 2.6122636e+24\n",
      "           inf           inf 3.2201588e+16 2.2723781e+30           inf\n",
      "           inf           inf 1.2172857e+21 2.1739199e+37           inf]\n",
      "WARNING:tensorflow:No training configuration found in save file: the model was *not* compiled. Compile it manually.\n"
     ]
    },
    {
     "name": "stderr",
     "output_type": "stream",
     "text": [
      "137it [00:51,  2.64it/s]\n"
     ]
    },
    {
     "name": "stdout",
     "output_type": "stream",
     "text": [
      "/mnt/31dac31c-c4e2-4704-97bd-0788af37c5eb/shush/wandb/wandb_elzar/run-20210922_044711-epw9in9m\n",
      "[inf inf inf inf inf inf inf inf inf inf inf inf inf inf inf]\n",
      "WARNING:tensorflow:No training configuration found in save file: the model was *not* compiled. Compile it manually.\n"
     ]
    },
    {
     "name": "stderr",
     "output_type": "stream",
     "text": [
      "109it [00:41,  2.63it/s]\n"
     ]
    },
    {
     "ename": "KeyboardInterrupt",
     "evalue": "",
     "output_type": "error",
     "traceback": [
      "\u001b[0;31m---------------------------------------------------------------------------\u001b[0m",
      "\u001b[0;31mKeyboardInterrupt\u001b[0m                         Traceback (most recent call last)",
      "\u001b[0;32m<ipython-input-10-81b4726ea66b>\u001b[0m in \u001b[0;36m<module>\u001b[0;34m\u001b[0m\n\u001b[1;32m      1\u001b[0m \u001b[0;32mfor\u001b[0m \u001b[0mrun_path\u001b[0m \u001b[0;32min\u001b[0m \u001b[0mrun_dirs\u001b[0m\u001b[0;34m:\u001b[0m\u001b[0;34m\u001b[0m\u001b[0m\n\u001b[0;32m----> 2\u001b[0;31m     \u001b[0mall_true\u001b[0m\u001b[0;34m,\u001b[0m \u001b[0mall_pred\u001b[0m \u001b[0;34m=\u001b[0m \u001b[0mget_true_pred\u001b[0m\u001b[0;34m(\u001b[0m\u001b[0mrun_path\u001b[0m\u001b[0;34m,\u001b[0m \u001b[0mtestset\u001b[0m\u001b[0;34m)\u001b[0m\u001b[0;34m\u001b[0m\u001b[0m\n\u001b[0m\u001b[1;32m      3\u001b[0m     \u001b[0mscalings\u001b[0m \u001b[0;34m=\u001b[0m \u001b[0mget_scaling_factors\u001b[0m\u001b[0;34m(\u001b[0m\u001b[0mall_true\u001b[0m\u001b[0;34m,\u001b[0m \u001b[0mall_pred\u001b[0m\u001b[0;34m)\u001b[0m\u001b[0;34m\u001b[0m\u001b[0m\n\u001b[1;32m      4\u001b[0m     \u001b[0mprint\u001b[0m\u001b[0;34m(\u001b[0m\u001b[0mrun_path\u001b[0m\u001b[0;34m)\u001b[0m\u001b[0;34m\u001b[0m\u001b[0m\n\u001b[1;32m      5\u001b[0m     \u001b[0mprint\u001b[0m\u001b[0;34m(\u001b[0m\u001b[0mscalings\u001b[0m\u001b[0;34m)\u001b[0m\u001b[0;34m\u001b[0m\u001b[0m\n",
      "\u001b[0;32m~/profile/QuantPred/tfr_evaluate.py\u001b[0m in \u001b[0;36mget_true_pred\u001b[0;34m(run_path, testset)\u001b[0m\n\u001b[1;32m     21\u001b[0m         \u001b[0mp\u001b[0m \u001b[0;34m=\u001b[0m \u001b[0mmodel\u001b[0m\u001b[0;34m.\u001b[0m\u001b[0mpredict\u001b[0m\u001b[0;34m(\u001b[0m\u001b[0mx\u001b[0m\u001b[0;34m)\u001b[0m\u001b[0;34m\u001b[0m\u001b[0m\n\u001b[1;32m     22\u001b[0m         \u001b[0mbinned_y\u001b[0m \u001b[0;34m=\u001b[0m \u001b[0mutil\u001b[0m\u001b[0;34m.\u001b[0m\u001b[0mbin_resolution\u001b[0m\u001b[0;34m(\u001b[0m\u001b[0my\u001b[0m\u001b[0;34m,\u001b[0m \u001b[0mbin_size\u001b[0m\u001b[0;34m)\u001b[0m\u001b[0;34m\u001b[0m\u001b[0m\n\u001b[0;32m---> 23\u001b[0;31m         \u001b[0my\u001b[0m \u001b[0;34m=\u001b[0m \u001b[0mbinned_y\u001b[0m\u001b[0;34m.\u001b[0m\u001b[0mnumpy\u001b[0m\u001b[0;34m(\u001b[0m\u001b[0;34m)\u001b[0m\u001b[0;34m\u001b[0m\u001b[0m\n\u001b[0m\u001b[1;32m     24\u001b[0m         \u001b[0mall_truth\u001b[0m\u001b[0;34m.\u001b[0m\u001b[0mappend\u001b[0m\u001b[0;34m(\u001b[0m\u001b[0my\u001b[0m\u001b[0;34m)\u001b[0m\u001b[0;34m\u001b[0m\u001b[0m\n\u001b[1;32m     25\u001b[0m         \u001b[0mall_pred\u001b[0m\u001b[0;34m.\u001b[0m\u001b[0mappend\u001b[0m\u001b[0;34m(\u001b[0m\u001b[0mp\u001b[0m\u001b[0;34m)\u001b[0m\u001b[0;34m\u001b[0m\u001b[0m\n",
      "\u001b[0;32m~/tf_2/lib/python3.7/site-packages/tensorflow_core/python/framework/ops.py\u001b[0m in \u001b[0;36mnumpy\u001b[0;34m(self)\u001b[0m\n\u001b[1;32m    932\u001b[0m     \"\"\"\n\u001b[1;32m    933\u001b[0m     \u001b[0mmaybe_arr\u001b[0m \u001b[0;34m=\u001b[0m \u001b[0mself\u001b[0m\u001b[0;34m.\u001b[0m\u001b[0m_numpy\u001b[0m\u001b[0;34m(\u001b[0m\u001b[0;34m)\u001b[0m  \u001b[0;31m# pylint: disable=protected-access\u001b[0m\u001b[0;34m\u001b[0m\u001b[0m\n\u001b[0;32m--> 934\u001b[0;31m     \u001b[0;32mreturn\u001b[0m \u001b[0mmaybe_arr\u001b[0m\u001b[0;34m.\u001b[0m\u001b[0mcopy\u001b[0m\u001b[0;34m(\u001b[0m\u001b[0;34m)\u001b[0m \u001b[0;32mif\u001b[0m \u001b[0misinstance\u001b[0m\u001b[0;34m(\u001b[0m\u001b[0mmaybe_arr\u001b[0m\u001b[0;34m,\u001b[0m \u001b[0mnp\u001b[0m\u001b[0;34m.\u001b[0m\u001b[0mndarray\u001b[0m\u001b[0;34m)\u001b[0m \u001b[0;32melse\u001b[0m \u001b[0mmaybe_arr\u001b[0m\u001b[0;34m\u001b[0m\u001b[0m\n\u001b[0m\u001b[1;32m    935\u001b[0m \u001b[0;34m\u001b[0m\u001b[0m\n\u001b[1;32m    936\u001b[0m   \u001b[0;34m@\u001b[0m\u001b[0mproperty\u001b[0m\u001b[0;34m\u001b[0m\u001b[0m\n",
      "\u001b[0;31mKeyboardInterrupt\u001b[0m: "
     ]
    }
   ],
   "source": [
    "for run_path in run_dirs:\n",
    "    all_true, all_pred = get_true_pred(run_path, testset)\n",
    "    scalings = get_scaling_factors(all_true, all_pred)\n",
    "    print(run_path)\n",
    "    print(scalings)"
   ]
  },
  {
   "cell_type": "code",
   "execution_count": 44,
   "metadata": {},
   "outputs": [
    {
     "name": "stdout",
     "output_type": "stream",
     "text": [
      "WARNING:tensorflow:No training configuration found in save file: the model was *not* compiled. Compile it manually.\n"
     ]
    },
    {
     "name": "stderr",
     "output_type": "stream",
     "text": [
      "137it [00:56,  2.41it/s]\n"
     ]
    }
   ],
   "source": [
    "bad_run = '/mnt/31dac31c-c4e2-4704-97bd-0788af37c5eb/shush/wandb/wandb_elzar/run-20210922_044820-usqrkfni'\n",
    "\n",
    "all_true, all_pred = get_true_pred(bad_run, testset)\n"
   ]
  },
  {
   "cell_type": "code",
   "execution_count": 45,
   "metadata": {},
   "outputs": [],
   "source": [
    "scaling_factors = get_scaling_factors(all_true, all_pred)"
   ]
  },
  {
   "cell_type": "code",
   "execution_count": 46,
   "metadata": {},
   "outputs": [],
   "source": [
    "if (np.isfinite(scaling_factors)).sum() == len(scaling_factors): # if all factors are ok\n",
    "    scaled_pred = all_pred * scaling_factors\n",
    "    sets_to_process = {'raw': all_pred, 'scaled': scaled_pred}\n",
    "else:\n",
    "    sets_to_process = {'raw': all_pred}"
   ]
  },
  {
   "cell_type": "code",
   "execution_count": 47,
   "metadata": {},
   "outputs": [
    {
     "name": "stdout",
     "output_type": "stream",
     "text": [
      "/mnt/31dac31c-c4e2-4704-97bd-0788af37c5eb/shush/wandb/wandb_elzar/run-20210922_044820-usqrkfni\n",
      "WARNING:tensorflow:No training configuration found in save file: the model was *not* compiled. Compile it manually.\n"
     ]
    },
    {
     "name": "stderr",
     "output_type": "stream",
     "text": [
      "137it [00:58,  2.36it/s]\n"
     ]
    },
    {
     "name": "stdout",
     "output_type": "stream",
     "text": [
      "WARNING:tensorflow:No training configuration found in save file: the model was *not* compiled. Compile it manually.\n"
     ]
    },
    {
     "name": "stderr",
     "output_type": "stream",
     "text": [
      "5it [00:04,  1.05it/s]\n"
     ]
    },
    {
     "name": "stdout",
     "output_type": "stream",
     "text": [
      "WARNING:tensorflow:No training configuration found in save file: the model was *not* compiled. Compile it manually.\n"
     ]
    },
    {
     "name": "stderr",
     "output_type": "stream",
     "text": [
      "3it [00:02,  1.20it/s]\n"
     ]
    },
    {
     "name": "stdout",
     "output_type": "stream",
     "text": [
      "WARNING:tensorflow:No training configuration found in save file: the model was *not* compiled. Compile it manually.\n"
     ]
    },
    {
     "name": "stderr",
     "output_type": "stream",
     "text": [
      "6it [00:05,  1.12it/s]\n"
     ]
    },
    {
     "name": "stdout",
     "output_type": "stream",
     "text": [
      "WARNING:tensorflow:No training configuration found in save file: the model was *not* compiled. Compile it manually.\n"
     ]
    },
    {
     "name": "stderr",
     "output_type": "stream",
     "text": [
      "4it [00:04,  1.01s/it]\n"
     ]
    },
    {
     "name": "stdout",
     "output_type": "stream",
     "text": [
      "WARNING:tensorflow:No training configuration found in save file: the model was *not* compiled. Compile it manually.\n"
     ]
    },
    {
     "name": "stderr",
     "output_type": "stream",
     "text": [
      "4it [00:04,  1.01s/it]\n"
     ]
    },
    {
     "name": "stdout",
     "output_type": "stream",
     "text": [
      "WARNING:tensorflow:No training configuration found in save file: the model was *not* compiled. Compile it manually.\n"
     ]
    },
    {
     "name": "stderr",
     "output_type": "stream",
     "text": [
      "5it [00:04,  1.01it/s]\n"
     ]
    },
    {
     "name": "stdout",
     "output_type": "stream",
     "text": [
      "WARNING:tensorflow:No training configuration found in save file: the model was *not* compiled. Compile it manually.\n"
     ]
    },
    {
     "name": "stderr",
     "output_type": "stream",
     "text": [
      "6it [00:05,  1.16it/s]\n"
     ]
    },
    {
     "name": "stdout",
     "output_type": "stream",
     "text": [
      "WARNING:tensorflow:No training configuration found in save file: the model was *not* compiled. Compile it manually.\n"
     ]
    },
    {
     "name": "stderr",
     "output_type": "stream",
     "text": [
      "3it [00:02,  1.05it/s]\n"
     ]
    },
    {
     "name": "stdout",
     "output_type": "stream",
     "text": [
      "WARNING:tensorflow:No training configuration found in save file: the model was *not* compiled. Compile it manually.\n"
     ]
    },
    {
     "name": "stderr",
     "output_type": "stream",
     "text": [
      "5it [00:04,  1.06it/s]\n"
     ]
    },
    {
     "name": "stdout",
     "output_type": "stream",
     "text": [
      "WARNING:tensorflow:No training configuration found in save file: the model was *not* compiled. Compile it manually.\n"
     ]
    },
    {
     "name": "stderr",
     "output_type": "stream",
     "text": [
      "6it [00:05,  1.17it/s]\n"
     ]
    },
    {
     "name": "stdout",
     "output_type": "stream",
     "text": [
      "WARNING:tensorflow:No training configuration found in save file: the model was *not* compiled. Compile it manually.\n"
     ]
    },
    {
     "name": "stderr",
     "output_type": "stream",
     "text": [
      "7it [00:05,  1.19it/s]\n"
     ]
    },
    {
     "name": "stdout",
     "output_type": "stream",
     "text": [
      "WARNING:tensorflow:No training configuration found in save file: the model was *not* compiled. Compile it manually.\n"
     ]
    },
    {
     "name": "stderr",
     "output_type": "stream",
     "text": [
      "5it [00:04,  1.10it/s]\n"
     ]
    },
    {
     "name": "stdout",
     "output_type": "stream",
     "text": [
      "WARNING:tensorflow:No training configuration found in save file: the model was *not* compiled. Compile it manually.\n"
     ]
    },
    {
     "name": "stderr",
     "output_type": "stream",
     "text": [
      "7it [00:05,  1.17it/s]\n"
     ]
    },
    {
     "name": "stdout",
     "output_type": "stream",
     "text": [
      "WARNING:tensorflow:No training configuration found in save file: the model was *not* compiled. Compile it manually.\n"
     ]
    },
    {
     "name": "stderr",
     "output_type": "stream",
     "text": [
      "3it [00:04,  1.35s/it]\n"
     ]
    },
    {
     "name": "stdout",
     "output_type": "stream",
     "text": [
      "WARNING:tensorflow:No training configuration found in save file: the model was *not* compiled. Compile it manually.\n"
     ]
    },
    {
     "name": "stderr",
     "output_type": "stream",
     "text": [
      "7it [00:06,  1.11it/s]\n"
     ]
    }
   ],
   "source": [
    "process_run_list([bad_run], 'delthis.csv')"
   ]
  },
  {
   "cell_type": "code",
   "execution_count": 41,
   "metadata": {},
   "outputs": [
    {
     "data": {
      "text/html": [
       "<div>\n",
       "<style scoped>\n",
       "    .dataframe tbody tr th:only-of-type {\n",
       "        vertical-align: middle;\n",
       "    }\n",
       "\n",
       "    .dataframe tbody tr th {\n",
       "        vertical-align: top;\n",
       "    }\n",
       "\n",
       "    .dataframe thead th {\n",
       "        text-align: right;\n",
       "    }\n",
       "</style>\n",
       "<table border=\"1\" class=\"dataframe\">\n",
       "  <thead>\n",
       "    <tr style=\"text-align: right;\">\n",
       "      <th></th>\n",
       "      <th>mse</th>\n",
       "      <th>js_per_seq</th>\n",
       "      <th>js_conc</th>\n",
       "      <th>poiss</th>\n",
       "      <th>pr</th>\n",
       "      <th>targets</th>\n",
       "      <th>pred type</th>\n",
       "      <th>eval type</th>\n",
       "    </tr>\n",
       "  </thead>\n",
       "  <tbody>\n",
       "    <tr>\n",
       "      <th>0</th>\n",
       "      <td>1.322566</td>\n",
       "      <td>0.299038</td>\n",
       "      <td>0.356764</td>\n",
       "      <td>1.0</td>\n",
       "      <td>NaN</td>\n",
       "      <td>GM21381</td>\n",
       "      <td>raw</td>\n",
       "      <td>whole</td>\n",
       "    </tr>\n",
       "    <tr>\n",
       "      <th>1</th>\n",
       "      <td>1.284779</td>\n",
       "      <td>0.329465</td>\n",
       "      <td>0.433103</td>\n",
       "      <td>1.0</td>\n",
       "      <td>NaN</td>\n",
       "      <td>GM23338</td>\n",
       "      <td>raw</td>\n",
       "      <td>whole</td>\n",
       "    </tr>\n",
       "    <tr>\n",
       "      <th>2</th>\n",
       "      <td>0.925134</td>\n",
       "      <td>0.299417</td>\n",
       "      <td>0.405867</td>\n",
       "      <td>1.0</td>\n",
       "      <td>NaN</td>\n",
       "      <td>HepG2</td>\n",
       "      <td>raw</td>\n",
       "      <td>whole</td>\n",
       "    </tr>\n",
       "    <tr>\n",
       "      <th>3</th>\n",
       "      <td>1.793783</td>\n",
       "      <td>0.426090</td>\n",
       "      <td>0.484801</td>\n",
       "      <td>1.0</td>\n",
       "      <td>NaN</td>\n",
       "      <td>RWPE2</td>\n",
       "      <td>raw</td>\n",
       "      <td>whole</td>\n",
       "    </tr>\n",
       "    <tr>\n",
       "      <th>4</th>\n",
       "      <td>1.758030</td>\n",
       "      <td>NaN</td>\n",
       "      <td>0.466150</td>\n",
       "      <td>1.0</td>\n",
       "      <td>NaN</td>\n",
       "      <td>HG03575</td>\n",
       "      <td>raw</td>\n",
       "      <td>whole</td>\n",
       "    </tr>\n",
       "    <tr>\n",
       "      <th>5</th>\n",
       "      <td>0.837404</td>\n",
       "      <td>0.260284</td>\n",
       "      <td>0.357158</td>\n",
       "      <td>1.0</td>\n",
       "      <td>NaN</td>\n",
       "      <td>K562</td>\n",
       "      <td>raw</td>\n",
       "      <td>whole</td>\n",
       "    </tr>\n",
       "    <tr>\n",
       "      <th>6</th>\n",
       "      <td>1.250274</td>\n",
       "      <td>0.485325</td>\n",
       "      <td>0.535467</td>\n",
       "      <td>1.0</td>\n",
       "      <td>NaN</td>\n",
       "      <td>DND-41</td>\n",
       "      <td>raw</td>\n",
       "      <td>whole</td>\n",
       "    </tr>\n",
       "    <tr>\n",
       "      <th>7</th>\n",
       "      <td>1.018060</td>\n",
       "      <td>NaN</td>\n",
       "      <td>0.392173</td>\n",
       "      <td>1.0</td>\n",
       "      <td>NaN</td>\n",
       "      <td>GM12878</td>\n",
       "      <td>raw</td>\n",
       "      <td>whole</td>\n",
       "    </tr>\n",
       "    <tr>\n",
       "      <th>8</th>\n",
       "      <td>0.872984</td>\n",
       "      <td>0.252494</td>\n",
       "      <td>0.349734</td>\n",
       "      <td>1.0</td>\n",
       "      <td>NaN</td>\n",
       "      <td>A549</td>\n",
       "      <td>raw</td>\n",
       "      <td>whole</td>\n",
       "    </tr>\n",
       "    <tr>\n",
       "      <th>9</th>\n",
       "      <td>1.426741</td>\n",
       "      <td>0.409022</td>\n",
       "      <td>0.468823</td>\n",
       "      <td>1.0</td>\n",
       "      <td>NaN</td>\n",
       "      <td>HCT116</td>\n",
       "      <td>raw</td>\n",
       "      <td>whole</td>\n",
       "    </tr>\n",
       "    <tr>\n",
       "      <th>10</th>\n",
       "      <td>1.493207</td>\n",
       "      <td>0.438033</td>\n",
       "      <td>0.510854</td>\n",
       "      <td>1.0</td>\n",
       "      <td>NaN</td>\n",
       "      <td>IMR-90</td>\n",
       "      <td>raw</td>\n",
       "      <td>whole</td>\n",
       "    </tr>\n",
       "    <tr>\n",
       "      <th>11</th>\n",
       "      <td>1.360885</td>\n",
       "      <td>0.283267</td>\n",
       "      <td>0.350064</td>\n",
       "      <td>1.0</td>\n",
       "      <td>NaN</td>\n",
       "      <td>NCI-H929</td>\n",
       "      <td>raw</td>\n",
       "      <td>whole</td>\n",
       "    </tr>\n",
       "    <tr>\n",
       "      <th>12</th>\n",
       "      <td>0.722691</td>\n",
       "      <td>NaN</td>\n",
       "      <td>0.469888</td>\n",
       "      <td>1.0</td>\n",
       "      <td>NaN</td>\n",
       "      <td>Panc1</td>\n",
       "      <td>raw</td>\n",
       "      <td>whole</td>\n",
       "    </tr>\n",
       "    <tr>\n",
       "      <th>13</th>\n",
       "      <td>1.941633</td>\n",
       "      <td>0.428369</td>\n",
       "      <td>0.523259</td>\n",
       "      <td>1.0</td>\n",
       "      <td>NaN</td>\n",
       "      <td>PC-3</td>\n",
       "      <td>raw</td>\n",
       "      <td>whole</td>\n",
       "    </tr>\n",
       "    <tr>\n",
       "      <th>14</th>\n",
       "      <td>1.595040</td>\n",
       "      <td>0.420008</td>\n",
       "      <td>0.494033</td>\n",
       "      <td>1.0</td>\n",
       "      <td>NaN</td>\n",
       "      <td>MCF</td>\n",
       "      <td>raw</td>\n",
       "      <td>whole</td>\n",
       "    </tr>\n",
       "  </tbody>\n",
       "</table>\n",
       "</div>"
      ],
      "text/plain": [
       "         mse  js_per_seq   js_conc  poiss  pr   targets pred type eval type\n",
       "0   1.322566    0.299038  0.356764    1.0 NaN   GM21381       raw     whole\n",
       "1   1.284779    0.329465  0.433103    1.0 NaN   GM23338       raw     whole\n",
       "2   0.925134    0.299417  0.405867    1.0 NaN     HepG2       raw     whole\n",
       "3   1.793783    0.426090  0.484801    1.0 NaN     RWPE2       raw     whole\n",
       "4   1.758030         NaN  0.466150    1.0 NaN   HG03575       raw     whole\n",
       "5   0.837404    0.260284  0.357158    1.0 NaN      K562       raw     whole\n",
       "6   1.250274    0.485325  0.535467    1.0 NaN    DND-41       raw     whole\n",
       "7   1.018060         NaN  0.392173    1.0 NaN   GM12878       raw     whole\n",
       "8   0.872984    0.252494  0.349734    1.0 NaN      A549       raw     whole\n",
       "9   1.426741    0.409022  0.468823    1.0 NaN    HCT116       raw     whole\n",
       "10  1.493207    0.438033  0.510854    1.0 NaN    IMR-90       raw     whole\n",
       "11  1.360885    0.283267  0.350064    1.0 NaN  NCI-H929       raw     whole\n",
       "12  0.722691         NaN  0.469888    1.0 NaN     Panc1       raw     whole\n",
       "13  1.941633    0.428369  0.523259    1.0 NaN      PC-3       raw     whole\n",
       "14  1.595040    0.420008  0.494033    1.0 NaN       MCF       raw     whole"
      ]
     },
     "execution_count": 41,
     "metadata": {},
     "output_type": "execute_result"
    }
   ],
   "source": [
    "complete_performance"
   ]
  },
  {
   "cell_type": "code",
   "execution_count": null,
   "metadata": {},
   "outputs": [],
   "source": []
  },
  {
   "cell_type": "code",
   "execution_count": 53,
   "metadata": {},
   "outputs": [
    {
     "name": "stdout",
     "output_type": "stream",
     "text": [
      "WARNING:tensorflow:No training configuration found in save file: the model was *not* compiled. Compile it manually.\n"
     ]
    },
    {
     "name": "stderr",
     "output_type": "stream",
     "text": [
      "137it [00:54,  2.51it/s]\n"
     ]
    },
    {
     "name": "stdout",
     "output_type": "stream",
     "text": [
      "WARNING:tensorflow:No training configuration found in save file: the model was *not* compiled. Compile it manually.\n"
     ]
    },
    {
     "name": "stderr",
     "output_type": "stream",
     "text": [
      "5it [00:02,  2.11it/s]\n"
     ]
    },
    {
     "name": "stdout",
     "output_type": "stream",
     "text": [
      "WARNING:tensorflow:No training configuration found in save file: the model was *not* compiled. Compile it manually.\n"
     ]
    },
    {
     "name": "stderr",
     "output_type": "stream",
     "text": [
      "3it [00:01,  1.97it/s]\n"
     ]
    },
    {
     "name": "stdout",
     "output_type": "stream",
     "text": [
      "WARNING:tensorflow:No training configuration found in save file: the model was *not* compiled. Compile it manually.\n"
     ]
    },
    {
     "name": "stderr",
     "output_type": "stream",
     "text": [
      "6it [00:02,  2.27it/s]\n"
     ]
    },
    {
     "name": "stdout",
     "output_type": "stream",
     "text": [
      "WARNING:tensorflow:No training configuration found in save file: the model was *not* compiled. Compile it manually.\n"
     ]
    },
    {
     "name": "stderr",
     "output_type": "stream",
     "text": [
      "4it [00:02,  1.82it/s]\n"
     ]
    },
    {
     "name": "stdout",
     "output_type": "stream",
     "text": [
      "WARNING:tensorflow:No training configuration found in save file: the model was *not* compiled. Compile it manually.\n"
     ]
    },
    {
     "name": "stderr",
     "output_type": "stream",
     "text": [
      "4it [00:02,  1.80it/s]\n"
     ]
    },
    {
     "name": "stdout",
     "output_type": "stream",
     "text": [
      "WARNING:tensorflow:No training configuration found in save file: the model was *not* compiled. Compile it manually.\n"
     ]
    },
    {
     "name": "stderr",
     "output_type": "stream",
     "text": [
      "5it [00:02,  1.89it/s]\n"
     ]
    },
    {
     "name": "stdout",
     "output_type": "stream",
     "text": [
      "WARNING:tensorflow:No training configuration found in save file: the model was *not* compiled. Compile it manually.\n"
     ]
    },
    {
     "name": "stderr",
     "output_type": "stream",
     "text": [
      "6it [00:02,  2.20it/s]\n"
     ]
    },
    {
     "name": "stdout",
     "output_type": "stream",
     "text": [
      "WARNING:tensorflow:No training configuration found in save file: the model was *not* compiled. Compile it manually.\n"
     ]
    },
    {
     "name": "stderr",
     "output_type": "stream",
     "text": [
      "3it [00:01,  1.76it/s]\n"
     ]
    },
    {
     "name": "stdout",
     "output_type": "stream",
     "text": [
      "WARNING:tensorflow:No training configuration found in save file: the model was *not* compiled. Compile it manually.\n"
     ]
    },
    {
     "name": "stderr",
     "output_type": "stream",
     "text": [
      "5it [00:02,  1.99it/s]\n"
     ]
    },
    {
     "name": "stdout",
     "output_type": "stream",
     "text": [
      "WARNING:tensorflow:No training configuration found in save file: the model was *not* compiled. Compile it manually.\n"
     ]
    },
    {
     "name": "stderr",
     "output_type": "stream",
     "text": [
      "6it [00:02,  2.10it/s]\n"
     ]
    },
    {
     "name": "stdout",
     "output_type": "stream",
     "text": [
      "WARNING:tensorflow:No training configuration found in save file: the model was *not* compiled. Compile it manually.\n"
     ]
    },
    {
     "name": "stderr",
     "output_type": "stream",
     "text": [
      "7it [00:02,  2.37it/s]\n"
     ]
    },
    {
     "name": "stdout",
     "output_type": "stream",
     "text": [
      "WARNING:tensorflow:No training configuration found in save file: the model was *not* compiled. Compile it manually.\n"
     ]
    },
    {
     "name": "stderr",
     "output_type": "stream",
     "text": [
      "5it [00:02,  1.98it/s]\n"
     ]
    },
    {
     "name": "stdout",
     "output_type": "stream",
     "text": [
      "WARNING:tensorflow:No training configuration found in save file: the model was *not* compiled. Compile it manually.\n"
     ]
    },
    {
     "name": "stderr",
     "output_type": "stream",
     "text": [
      "7it [00:02,  2.39it/s]\n"
     ]
    },
    {
     "name": "stdout",
     "output_type": "stream",
     "text": [
      "WARNING:tensorflow:No training configuration found in save file: the model was *not* compiled. Compile it manually.\n"
     ]
    },
    {
     "name": "stderr",
     "output_type": "stream",
     "text": [
      "3it [00:01,  1.68it/s]\n"
     ]
    },
    {
     "name": "stdout",
     "output_type": "stream",
     "text": [
      "WARNING:tensorflow:No training configuration found in save file: the model was *not* compiled. Compile it manually.\n"
     ]
    },
    {
     "name": "stderr",
     "output_type": "stream",
     "text": [
      "7it [00:03,  2.26it/s]\n"
     ]
    }
   ],
   "source": [
    "run_dirs = ['/mnt/31dac31c-c4e2-4704-97bd-0788af37c5eb/shush/wandb/wandb_elzar_2/run-20210906_173104-kx48qrtp']\n",
    "res_dir = 'summary_metrics_tables' # output dir\n",
    "# wandb_project_name = 'AUGMENTATION_BIN_SIZE' # project name in wandb\n",
    "wandb_project_name = 'TEST'\n",
    "csv_filename = wandb_project_name + '.csv'\n",
    "\n",
    "result_path = os.path.join(res_dir, csv_filename)\n",
    "testset, targets, target_dataset_idr = collect_datasets()\n",
    "if len(run_dirs) == 0:\n",
    "    run_dirs = collect_run_dirs(wandb_project_name)\n",
    "process_run_list(run_dirs, result_path)"
   ]
  },
  {
   "cell_type": "code",
   "execution_count": null,
   "metadata": {},
   "outputs": [],
   "source": []
  },
  {
   "cell_type": "code",
   "execution_count": null,
   "metadata": {},
   "outputs": [],
   "source": []
  },
  {
   "cell_type": "code",
   "execution_count": 9,
   "metadata": {},
   "outputs": [],
   "source": [
    "run_path = 'basenji_best_128'"
   ]
  },
  {
   "cell_type": "code",
   "execution_count": 55,
   "metadata": {},
   "outputs": [
    {
     "name": "stdout",
     "output_type": "stream",
     "text": [
      "['GM21381' 'GM23338' 'HepG2' 'RWPE2' 'HG03575' 'K562' 'DND-41' 'GM12878'\n",
      " 'A549' 'HCT116' 'IMR-90' 'NCI-H929' 'Panc1' 'PC-3' 'MCF']\n"
     ]
    }
   ],
   "source": [
    "data_dir = '/home/shush/profile/QuantPred/datasets/chr8/complete/random_chop/i_2048_w_1/'\n",
    "sts = util.load_stats(data_dir)\n",
    "testset = util.make_dataset(data_dir, 'test', sts, batch_size=512, shuffle=False)\n",
    "targets = pd.read_csv(data_dir+'targets.txt', sep='\\t')['identifier'].values\n",
    "print(targets)"
   ]
  },
  {
   "cell_type": "code",
   "execution_count": 12,
   "metadata": {},
   "outputs": [
    {
     "name": "stdout",
     "output_type": "stream",
     "text": [
      "WARNING:tensorflow:No training configuration found in save file: the model was *not* compiled. Compile it manually.\n"
     ]
    },
    {
     "name": "stderr",
     "output_type": "stream",
     "text": [
      "137it [00:55,  2.48it/s]\n"
     ]
    }
   ],
   "source": [
    "all_truth, all_pred = get_true_pred(run_path, testset)"
   ]
  },
  {
   "cell_type": "code",
   "execution_count": 13,
   "metadata": {},
   "outputs": [],
   "source": [
    "scaling_factors = get_scaling_factors(all_truth, all_pred)"
   ]
  },
  {
   "cell_type": "code",
   "execution_count": 542,
   "metadata": {},
   "outputs": [],
   "source": [
    "run_path = '/mnt/31dac31c-c4e2-4704-97bd-0788af37c5eb/shush/wandb/wandb_elzar_2/run-20210905_204925-27nmtpjk'"
   ]
  },
  {
   "cell_type": "code",
   "execution_count": 370,
   "metadata": {},
   "outputs": [
    {
     "data": {
      "text/plain": [
       "32"
      ]
     },
     "execution_count": 370,
     "metadata": {},
     "output_type": "execute_result"
    }
   ],
   "source": [
    "bin_size_orig = get_config(run_path)['bin_size']['value']\n",
    "bin_size_orig"
   ]
  },
  {
   "cell_type": "code",
   "execution_count": 371,
   "metadata": {},
   "outputs": [
    {
     "name": "stdout",
     "output_type": "stream",
     "text": [
      "['GM21381']\n"
     ]
    }
   ],
   "source": [
    "cl_datasets = glob.glob('/home/shush/profile/QuantPred/datasets/cell_line_specific_test_sets/cell_line_0/complete/peak_centered/i_2048_w_1/')\n",
    "data_dir = cl_datasets[0]\n",
    "sts = util.load_stats(data_dir)\n",
    "testset_8 = util.make_dataset(data_dir, 'test', sts, batch_size=512, shuffle=False)\n",
    "targets = pd.read_csv(data_dir+'targets.txt', sep='\\t')['identifier'].values\n",
    "print(targets)"
   ]
  },
  {
   "cell_type": "code",
   "execution_count": 372,
   "metadata": {},
   "outputs": [
    {
     "name": "stdout",
     "output_type": "stream",
     "text": [
      "WARNING:tensorflow:No training configuration found in save file: the model was *not* compiled. Compile it manually.\n"
     ]
    },
    {
     "name": "stderr",
     "output_type": "stream",
     "text": [
      "5it [00:00,  5.58it/s]\n"
     ]
    }
   ],
   "source": [
    "truth, pred = get_true_pred(run_path, testset_8)\n"
   ]
  },
  {
   "cell_type": "code",
   "execution_count": 373,
   "metadata": {},
   "outputs": [],
   "source": [
    "N, L, C  = truth.shape\n",
    "eval_bin = 32\n",
    "binned_truth = truth.reshape(N, eval_bin//bin_size_orig, 2048//eval_bin, C).mean(axis=1)\n",
    "N, L, C  = pred.shape\n",
    "binned_pred = pred.reshape(N, eval_bin//bin_size_orig, 2048//eval_bin, C).mean(axis=1)"
   ]
  },
  {
   "cell_type": "code",
   "execution_count": 374,
   "metadata": {},
   "outputs": [],
   "source": [
    "i = int(data_dir.split('cell_line_')[-1].split('/complete')[0])"
   ]
  },
  {
   "cell_type": "code",
   "execution_count": 375,
   "metadata": {},
   "outputs": [],
   "source": [
    "pred_i = np.expand_dims(binned_pred[:,:,i], axis=-1)"
   ]
  },
  {
   "cell_type": "code",
   "execution_count": 376,
   "metadata": {},
   "outputs": [
    {
     "data": {
      "image/png": "[encoded data removed]",
      "text/plain": [
       "<Figure size 432x288 with 1 Axes>"
      ]
     },
     "metadata": {
      "needs_background": "light"
     },
     "output_type": "display_data"
    }
   ],
   "source": [
    "plt.plot(binned_truth[:10,:,0].T);"
   ]
  },
  {
   "cell_type": "code",
   "execution_count": 377,
   "metadata": {},
   "outputs": [
    {
     "name": "stdout",
     "output_type": "stream",
     "text": [
      "Per sequence average pearson r for IDRs of cell line 8 =  0.8022013187236737\n"
     ]
    }
   ],
   "source": [
    "avg_per_seq = np_pr_per_seq(binned_truth, pred_i)\n",
    "print('Per sequence average pearson r for IDRs of cell line 8 = ', avg_per_seq[0])"
   ]
  },
  {
   "cell_type": "code",
   "execution_count": 378,
   "metadata": {},
   "outputs": [
    {
     "name": "stdout",
     "output_type": "stream",
     "text": [
      "Concatenated pearson r = for IDRs of cell line 8 = 0.6789734088825553\n"
     ]
    }
   ],
   "source": [
    "conc_pr = np_pr_concatenated(binned_truth, pred_i)\n",
    "print('Concatenated pearson r = for IDRs of cell line 8 =', conc_pr[0])"
   ]
  },
  {
   "cell_type": "markdown",
   "metadata": {},
   "source": [
    "# peak centered test set"
   ]
  },
  {
   "cell_type": "code",
   "execution_count": 379,
   "metadata": {},
   "outputs": [],
   "source": [
    "peak_centered_test = '/mnt/1a18a49e-9a31-4dbf-accd-3fb8abbfab2d/shush/peak_centered_test/i_2048_w_1/'"
   ]
  },
  {
   "cell_type": "code",
   "execution_count": 380,
   "metadata": {},
   "outputs": [],
   "source": [
    "sts = util.load_stats(peak_centered_test)\n",
    "peak_centered_testset = util.make_dataset(peak_centered_test, 'test', sts, batch_size=512, shuffle=False)\n",
    "targets = pd.read_csv(peak_centered_test+'targets.txt', sep='\\t')['identifier'].values"
   ]
  },
  {
   "cell_type": "code",
   "execution_count": 381,
   "metadata": {},
   "outputs": [
    {
     "name": "stdout",
     "output_type": "stream",
     "text": [
      "WARNING:tensorflow:No training configuration found in save file: the model was *not* compiled. Compile it manually.\n"
     ]
    },
    {
     "name": "stderr",
     "output_type": "stream",
     "text": [
      "24it [00:08,  2.74it/s]\n"
     ]
    }
   ],
   "source": [
    "truth_pc, pred_pc = get_true_pred(run_path, peak_centered_testset)"
   ]
  },
  {
   "cell_type": "code",
   "execution_count": 382,
   "metadata": {},
   "outputs": [],
   "source": [
    "truth_i = np.expand_dims(truth_pc[:,:,i], axis=-1)\n",
    "pred_i = np.expand_dims(pred_pc[:,:,i], axis=-1)"
   ]
  },
  {
   "cell_type": "code",
   "execution_count": 383,
   "metadata": {},
   "outputs": [
    {
     "data": {
      "text/plain": [
       "(12054, 64, 1)"
      ]
     },
     "execution_count": 383,
     "metadata": {},
     "output_type": "execute_result"
    }
   ],
   "source": [
    "truth_i.shape"
   ]
  },
  {
   "cell_type": "code",
   "execution_count": 384,
   "metadata": {},
   "outputs": [
    {
     "data": {
      "image/png": "[encoded data removed]",
      "text/plain": [
       "<Figure size 432x288 with 1 Axes>"
      ]
     },
     "metadata": {
      "needs_background": "light"
     },
     "output_type": "display_data"
    }
   ],
   "source": [
    "plt.plot(truth[:20,:,0].T);"
   ]
  },
  {
   "cell_type": "code",
   "execution_count": 385,
   "metadata": {},
   "outputs": [
    {
     "name": "stderr",
     "output_type": "stream",
     "text": [
      "/home/shush/tf_2/lib/python3.7/site-packages/scipy/stats/stats.py:4023: PearsonRConstantInputWarning: An input array is constant; the correlation coefficient is not defined.\n",
      "  warnings.warn(PearsonRConstantInputWarning())\n"
     ]
    },
    {
     "name": "stdout",
     "output_type": "stream",
     "text": [
      "Per sequence average pearson r for peak centered cell line 8 =  0.49649695349413503\n"
     ]
    }
   ],
   "source": [
    "per_seq_pr_pc = np_pr_per_seq(truth_i, pred_i)\n",
    "print('Per sequence average pearson r for peak centered cell line 8 = ', per_seq_pr_pc[0])"
   ]
  },
  {
   "cell_type": "code",
   "execution_count": 386,
   "metadata": {},
   "outputs": [
    {
     "name": "stdout",
     "output_type": "stream",
     "text": [
      "Concatenated pearson r for peak centered cell line 8 =  0.622545373464416\n"
     ]
    }
   ],
   "source": [
    "conc_pr_pc = np_pr_concatenated(truth_i, pred_i)\n",
    "print('Concatenated pearson r for peak centered cell line 8 = ', conc_pr_pc[0])"
   ]
  },
  {
   "cell_type": "code",
   "execution_count": 387,
   "metadata": {},
   "outputs": [
    {
     "data": {
      "text/plain": [
       "[0.49649695349413503]"
      ]
     },
     "execution_count": 387,
     "metadata": {},
     "output_type": "execute_result"
    }
   ],
   "source": [
    "np_pr_per_seq(truth_i, pred_i)"
   ]
  },
  {
   "cell_type": "code",
   "execution_count": 388,
   "metadata": {},
   "outputs": [
    {
     "data": {
      "text/plain": [
       "[0.622545373464416]"
      ]
     },
     "execution_count": 388,
     "metadata": {},
     "output_type": "execute_result"
    }
   ],
   "source": [
    "np_pr_concatenated(truth_i, pred_i)"
   ]
  },
  {
   "cell_type": "markdown",
   "metadata": {},
   "source": [
    "# 6K per cell line IDR input, per chunk pearson r"
   ]
  },
  {
   "cell_type": "code",
   "execution_count": 8,
   "metadata": {},
   "outputs": [
    {
     "name": "stdout",
     "output_type": "stream",
     "text": [
      "['GM21381']\n"
     ]
    }
   ],
   "source": [
    "cl_datasets = glob.glob('/mnt/1a18a49e-9a31-4dbf-accd-3fb8abbfab2d/shush/15_IDR_test_sets_6K/cell_line_0/i_6144_w_1/')\n",
    "data_dir = cl_datasets[0]\n",
    "sts = util.load_stats(data_dir)\n",
    "testset_6K = util.make_dataset(data_dir, 'test', sts, batch_size=512, shuffle=False)\n",
    "targets = pd.read_csv(data_dir+'targets.txt', sep='\\t')['identifier'].values\n",
    "i = int(data_dir.split('cell_line_')[-1].split('/')[0])\n",
    "print(targets)"
   ]
  },
  {
   "cell_type": "code",
   "execution_count": 12,
   "metadata": {},
   "outputs": [],
   "source": [
    "testset_2K = testset_6K.map(lambda x,y: (split_into_2k_chunks(x), split_into_2k_chunks(y)))\n",
    "\n"
   ]
  },
  {
   "cell_type": "code",
   "execution_count": 34,
   "metadata": {},
   "outputs": [
    {
     "name": "stdout",
     "output_type": "stream",
     "text": [
      "WARNING:tensorflow:No training configuration found in save file: the model was *not* compiled. Compile it manually.\n"
     ]
    },
    {
     "name": "stderr",
     "output_type": "stream",
     "text": [
      "4it [00:01,  2.01it/s]\n"
     ]
    }
   ],
   "source": [
    "idr_df = evaluate_run_idr(run_path, {(i, targets[0]):testset_2K}, scaling_factors)"
   ]
  },
  {
   "cell_type": "code",
   "execution_count": 35,
   "metadata": {},
   "outputs": [],
   "source": [
    "config = get_config(run_path)\n",
    "relevant_config = {k:[config[k]['value']] for k in config.keys() if k not in ['wandb_version', '_wandb']}"
   ]
  },
  {
   "cell_type": "code",
   "execution_count": 36,
   "metadata": {},
   "outputs": [
    {
     "data": {
      "text/html": [
       "<div>\n",
       "<style scoped>\n",
       "    .dataframe tbody tr th:only-of-type {\n",
       "        vertical-align: middle;\n",
       "    }\n",
       "\n",
       "    .dataframe tbody tr th {\n",
       "        vertical-align: top;\n",
       "    }\n",
       "\n",
       "    .dataframe thead th {\n",
       "        text-align: right;\n",
       "    }\n",
       "</style>\n",
       "<table border=\"1\" class=\"dataframe\">\n",
       "  <thead>\n",
       "    <tr style=\"text-align: right;\">\n",
       "      <th></th>\n",
       "      <th>mse</th>\n",
       "      <th>js_per_seq</th>\n",
       "      <th>js_conc</th>\n",
       "      <th>poiss</th>\n",
       "      <th>pr</th>\n",
       "      <th>targets</th>\n",
       "      <th>pred type</th>\n",
       "      <th>eval type</th>\n",
       "      <th>add_dropout</th>\n",
       "      <th>bin_size</th>\n",
       "      <th>data_dir</th>\n",
       "      <th>epochN</th>\n",
       "      <th>filtN_1</th>\n",
       "      <th>filtN_2</th>\n",
       "      <th>filtN_4</th>\n",
       "      <th>filtN_5</th>\n",
       "      <th>l_rate</th>\n",
       "      <th>loss_fn</th>\n",
       "      <th>model_fn</th>\n",
       "      <th>window_size</th>\n",
       "    </tr>\n",
       "  </thead>\n",
       "  <tbody>\n",
       "    <tr>\n",
       "      <th>0</th>\n",
       "      <td>3.138485</td>\n",
       "      <td>0.261024</td>\n",
       "      <td>0.282450</td>\n",
       "      <td>0.067159</td>\n",
       "      <td>0.784579</td>\n",
       "      <td>GM21381</td>\n",
       "      <td>raw</td>\n",
       "      <td>idr</td>\n",
       "      <td>False</td>\n",
       "      <td>128</td>\n",
       "      <td>/mnt/1a18a49e-9a31-4dbf-accd-3fb8abbfab2d/shus...</td>\n",
       "      <td>30</td>\n",
       "      <td>128</td>\n",
       "      <td>256</td>\n",
       "      <td>256</td>\n",
       "      <td>256</td>\n",
       "      <td>0.001</td>\n",
       "      <td>log_poisson</td>\n",
       "      <td>basenjimod</td>\n",
       "      <td>2048</td>\n",
       "    </tr>\n",
       "    <tr>\n",
       "      <th>0</th>\n",
       "      <td>4.505164</td>\n",
       "      <td>0.149448</td>\n",
       "      <td>0.188959</td>\n",
       "      <td>-0.580713</td>\n",
       "      <td>0.784579</td>\n",
       "      <td>GM21381</td>\n",
       "      <td>scaled</td>\n",
       "      <td>idr</td>\n",
       "      <td>False</td>\n",
       "      <td>128</td>\n",
       "      <td>/mnt/1a18a49e-9a31-4dbf-accd-3fb8abbfab2d/shus...</td>\n",
       "      <td>30</td>\n",
       "      <td>128</td>\n",
       "      <td>256</td>\n",
       "      <td>256</td>\n",
       "      <td>256</td>\n",
       "      <td>0.001</td>\n",
       "      <td>log_poisson</td>\n",
       "      <td>basenjimod</td>\n",
       "      <td>2048</td>\n",
       "    </tr>\n",
       "  </tbody>\n",
       "</table>\n",
       "</div>"
      ],
      "text/plain": [
       "        mse  js_per_seq   js_conc     poiss        pr  targets pred type  \\\n",
       "0  3.138485    0.261024  0.282450  0.067159  0.784579  GM21381       raw   \n",
       "0  4.505164    0.149448  0.188959 -0.580713  0.784579  GM21381    scaled   \n",
       "\n",
       "  eval type  add_dropout  bin_size  \\\n",
       "0       idr        False       128   \n",
       "0       idr        False       128   \n",
       "\n",
       "                                            data_dir  epochN  filtN_1  \\\n",
       "0  /mnt/1a18a49e-9a31-4dbf-accd-3fb8abbfab2d/shus...      30      128   \n",
       "0  /mnt/1a18a49e-9a31-4dbf-accd-3fb8abbfab2d/shus...      30      128   \n",
       "\n",
       "   filtN_2  filtN_4  filtN_5  l_rate      loss_fn    model_fn  window_size  \n",
       "0      256      256      256   0.001  log_poisson  basenjimod         2048  \n",
       "0      256      256      256   0.001  log_poisson  basenjimod         2048  "
      ]
     },
     "execution_count": 36,
     "metadata": {},
     "output_type": "execute_result"
    }
   ],
   "source": [
    "pd.concat([idr_df, pd.DataFrame(relevant_config)], axis=1)"
   ]
  },
  {
   "cell_type": "code",
   "execution_count": 21,
   "metadata": {},
   "outputs": [],
   "source": [
    "target_dataset = extract_datasets()"
   ]
  },
  {
   "cell_type": "code",
   "execution_count": 22,
   "metadata": {
    "scrolled": true
   },
   "outputs": [
    {
     "name": "stdout",
     "output_type": "stream",
     "text": [
      "WARNING:tensorflow:No training configuration found in save file: the model was *not* compiled. Compile it manually.\n"
     ]
    },
    {
     "name": "stderr",
     "output_type": "stream",
     "text": [
      "137it [00:53,  2.56it/s]\n"
     ]
    },
    {
     "name": "stdout",
     "output_type": "stream",
     "text": [
      "WARNING:tensorflow:No training configuration found in save file: the model was *not* compiled. Compile it manually.\n"
     ]
    },
    {
     "name": "stderr",
     "output_type": "stream",
     "text": [
      "5it [00:02,  2.26it/s]\n"
     ]
    },
    {
     "name": "stdout",
     "output_type": "stream",
     "text": [
      "WARNING:tensorflow:No training configuration found in save file: the model was *not* compiled. Compile it manually.\n"
     ]
    },
    {
     "name": "stderr",
     "output_type": "stream",
     "text": [
      "3it [00:01,  2.22it/s]\n"
     ]
    },
    {
     "name": "stdout",
     "output_type": "stream",
     "text": [
      "WARNING:tensorflow:No training configuration found in save file: the model was *not* compiled. Compile it manually.\n"
     ]
    },
    {
     "name": "stderr",
     "output_type": "stream",
     "text": [
      "6it [00:02,  2.44it/s]\n"
     ]
    },
    {
     "name": "stdout",
     "output_type": "stream",
     "text": [
      "WARNING:tensorflow:No training configuration found in save file: the model was *not* compiled. Compile it manually.\n"
     ]
    },
    {
     "name": "stderr",
     "output_type": "stream",
     "text": [
      "4it [00:02,  2.00it/s]\n"
     ]
    },
    {
     "name": "stdout",
     "output_type": "stream",
     "text": [
      "WARNING:tensorflow:No training configuration found in save file: the model was *not* compiled. Compile it manually.\n"
     ]
    },
    {
     "name": "stderr",
     "output_type": "stream",
     "text": [
      "4it [00:02,  1.93it/s]\n"
     ]
    },
    {
     "name": "stdout",
     "output_type": "stream",
     "text": [
      "WARNING:tensorflow:No training configuration found in save file: the model was *not* compiled. Compile it manually.\n"
     ]
    },
    {
     "name": "stderr",
     "output_type": "stream",
     "text": [
      "5it [00:02,  2.18it/s]\n"
     ]
    },
    {
     "name": "stdout",
     "output_type": "stream",
     "text": [
      "WARNING:tensorflow:No training configuration found in save file: the model was *not* compiled. Compile it manually.\n"
     ]
    },
    {
     "name": "stderr",
     "output_type": "stream",
     "text": [
      "6it [00:02,  2.41it/s]\n"
     ]
    },
    {
     "name": "stdout",
     "output_type": "stream",
     "text": [
      "WARNING:tensorflow:No training configuration found in save file: the model was *not* compiled. Compile it manually.\n"
     ]
    },
    {
     "name": "stderr",
     "output_type": "stream",
     "text": [
      "3it [00:01,  1.87it/s]\n"
     ]
    },
    {
     "name": "stdout",
     "output_type": "stream",
     "text": [
      "WARNING:tensorflow:No training configuration found in save file: the model was *not* compiled. Compile it manually.\n"
     ]
    },
    {
     "name": "stderr",
     "output_type": "stream",
     "text": [
      "5it [00:03,  1.65it/s]\n"
     ]
    },
    {
     "name": "stdout",
     "output_type": "stream",
     "text": [
      "WARNING:tensorflow:No training configuration found in save file: the model was *not* compiled. Compile it manually.\n"
     ]
    },
    {
     "name": "stderr",
     "output_type": "stream",
     "text": [
      "6it [00:02,  2.29it/s]\n"
     ]
    },
    {
     "name": "stdout",
     "output_type": "stream",
     "text": [
      "WARNING:tensorflow:No training configuration found in save file: the model was *not* compiled. Compile it manually.\n"
     ]
    },
    {
     "name": "stderr",
     "output_type": "stream",
     "text": [
      "7it [00:02,  2.60it/s]\n"
     ]
    },
    {
     "name": "stdout",
     "output_type": "stream",
     "text": [
      "WARNING:tensorflow:No training configuration found in save file: the model was *not* compiled. Compile it manually.\n"
     ]
    },
    {
     "name": "stderr",
     "output_type": "stream",
     "text": [
      "5it [00:02,  2.10it/s]\n"
     ]
    },
    {
     "name": "stdout",
     "output_type": "stream",
     "text": [
      "WARNING:tensorflow:No training configuration found in save file: the model was *not* compiled. Compile it manually.\n"
     ]
    },
    {
     "name": "stderr",
     "output_type": "stream",
     "text": [
      "7it [00:02,  2.44it/s]\n"
     ]
    },
    {
     "name": "stdout",
     "output_type": "stream",
     "text": [
      "WARNING:tensorflow:No training configuration found in save file: the model was *not* compiled. Compile it manually.\n"
     ]
    },
    {
     "name": "stderr",
     "output_type": "stream",
     "text": [
      "3it [00:01,  1.71it/s]\n"
     ]
    },
    {
     "name": "stdout",
     "output_type": "stream",
     "text": [
      "WARNING:tensorflow:No training configuration found in save file: the model was *not* compiled. Compile it manually.\n"
     ]
    },
    {
     "name": "stderr",
     "output_type": "stream",
     "text": [
      "7it [00:03,  2.29it/s]\n"
     ]
    }
   ],
   "source": [
    "df = evaluate_run_whole_idr(run_path, testset,targets, target_dataset)\n",
    "\n"
   ]
  },
  {
   "cell_type": "code",
   "execution_count": 18,
   "metadata": {},
   "outputs": [
    {
     "name": "stdout",
     "output_type": "stream",
     "text": [
      "WARNING:tensorflow:No training configuration found in save file: the model was *not* compiled. Compile it manually.\n"
     ]
    },
    {
     "name": "stderr",
     "output_type": "stream",
     "text": [
      "5it [00:02,  2.16it/s]\n"
     ]
    }
   ],
   "source": [
    "truth, all_pred = get_true_pred(run_path, target_dataset[('14', 'MCF')])"
   ]
  },
  {
   "cell_type": "code",
   "execution_count": 23,
   "metadata": {},
   "outputs": [
    {
     "data": {
      "text/html": [
       "<div>\n",
       "<style scoped>\n",
       "    .dataframe tbody tr th:only-of-type {\n",
       "        vertical-align: middle;\n",
       "    }\n",
       "\n",
       "    .dataframe tbody tr th {\n",
       "        vertical-align: top;\n",
       "    }\n",
       "\n",
       "    .dataframe thead th {\n",
       "        text-align: right;\n",
       "    }\n",
       "</style>\n",
       "<table border=\"1\" class=\"dataframe\">\n",
       "  <thead>\n",
       "    <tr style=\"text-align: right;\">\n",
       "      <th></th>\n",
       "      <th>index</th>\n",
       "      <th>mse</th>\n",
       "      <th>js_per_seq</th>\n",
       "      <th>js_conc</th>\n",
       "      <th>poiss</th>\n",
       "      <th>pr</th>\n",
       "      <th>targets</th>\n",
       "      <th>pred type</th>\n",
       "      <th>eval type</th>\n",
       "      <th>0</th>\n",
       "      <th>...</th>\n",
       "      <th>2</th>\n",
       "      <th>3</th>\n",
       "      <th>4</th>\n",
       "      <th>5</th>\n",
       "      <th>6</th>\n",
       "      <th>7</th>\n",
       "      <th>8</th>\n",
       "      <th>9</th>\n",
       "      <th>10</th>\n",
       "      <th>11</th>\n",
       "    </tr>\n",
       "  </thead>\n",
       "  <tbody>\n",
       "    <tr>\n",
       "      <th>0</th>\n",
       "      <td>0</td>\n",
       "      <td>0.507141</td>\n",
       "      <td>0.228383</td>\n",
       "      <td>0.268156</td>\n",
       "      <td>0.755236</td>\n",
       "      <td>0.601824</td>\n",
       "      <td>GM21381</td>\n",
       "      <td>raw</td>\n",
       "      <td>whole</td>\n",
       "      <td>False</td>\n",
       "      <td>...</td>\n",
       "      <td>/mnt/1a18a49e-9a31-4dbf-accd-3fb8abbfab2d/shus...</td>\n",
       "      <td>30</td>\n",
       "      <td>128</td>\n",
       "      <td>256</td>\n",
       "      <td>256</td>\n",
       "      <td>256</td>\n",
       "      <td>0.001</td>\n",
       "      <td>log_poisson</td>\n",
       "      <td>basenjimod</td>\n",
       "      <td>2048</td>\n",
       "    </tr>\n",
       "    <tr>\n",
       "      <th>1</th>\n",
       "      <td>1</td>\n",
       "      <td>0.496757</td>\n",
       "      <td>0.215701</td>\n",
       "      <td>0.280730</td>\n",
       "      <td>0.791044</td>\n",
       "      <td>0.694031</td>\n",
       "      <td>GM23338</td>\n",
       "      <td>raw</td>\n",
       "      <td>whole</td>\n",
       "      <td>False</td>\n",
       "      <td>...</td>\n",
       "      <td>/mnt/1a18a49e-9a31-4dbf-accd-3fb8abbfab2d/shus...</td>\n",
       "      <td>30</td>\n",
       "      <td>128</td>\n",
       "      <td>256</td>\n",
       "      <td>256</td>\n",
       "      <td>256</td>\n",
       "      <td>0.001</td>\n",
       "      <td>log_poisson</td>\n",
       "      <td>basenjimod</td>\n",
       "      <td>2048</td>\n",
       "    </tr>\n",
       "    <tr>\n",
       "      <th>2</th>\n",
       "      <td>2</td>\n",
       "      <td>0.377824</td>\n",
       "      <td>0.204101</td>\n",
       "      <td>0.263656</td>\n",
       "      <td>0.841401</td>\n",
       "      <td>0.661475</td>\n",
       "      <td>HepG2</td>\n",
       "      <td>raw</td>\n",
       "      <td>whole</td>\n",
       "      <td>False</td>\n",
       "      <td>...</td>\n",
       "      <td>/mnt/1a18a49e-9a31-4dbf-accd-3fb8abbfab2d/shus...</td>\n",
       "      <td>30</td>\n",
       "      <td>128</td>\n",
       "      <td>256</td>\n",
       "      <td>256</td>\n",
       "      <td>256</td>\n",
       "      <td>0.001</td>\n",
       "      <td>log_poisson</td>\n",
       "      <td>basenjimod</td>\n",
       "      <td>2048</td>\n",
       "    </tr>\n",
       "    <tr>\n",
       "      <th>3</th>\n",
       "      <td>3</td>\n",
       "      <td>0.843394</td>\n",
       "      <td>0.330217</td>\n",
       "      <td>0.354044</td>\n",
       "      <td>0.772139</td>\n",
       "      <td>0.620752</td>\n",
       "      <td>RWPE2</td>\n",
       "      <td>raw</td>\n",
       "      <td>whole</td>\n",
       "      <td>False</td>\n",
       "      <td>...</td>\n",
       "      <td>/mnt/1a18a49e-9a31-4dbf-accd-3fb8abbfab2d/shus...</td>\n",
       "      <td>30</td>\n",
       "      <td>128</td>\n",
       "      <td>256</td>\n",
       "      <td>256</td>\n",
       "      <td>256</td>\n",
       "      <td>0.001</td>\n",
       "      <td>log_poisson</td>\n",
       "      <td>basenjimod</td>\n",
       "      <td>2048</td>\n",
       "    </tr>\n",
       "    <tr>\n",
       "      <th>4</th>\n",
       "      <td>4</td>\n",
       "      <td>0.845184</td>\n",
       "      <td>0.360112</td>\n",
       "      <td>0.381869</td>\n",
       "      <td>0.736651</td>\n",
       "      <td>0.473902</td>\n",
       "      <td>HG03575</td>\n",
       "      <td>raw</td>\n",
       "      <td>whole</td>\n",
       "      <td>False</td>\n",
       "      <td>...</td>\n",
       "      <td>/mnt/1a18a49e-9a31-4dbf-accd-3fb8abbfab2d/shus...</td>\n",
       "      <td>30</td>\n",
       "      <td>128</td>\n",
       "      <td>256</td>\n",
       "      <td>256</td>\n",
       "      <td>256</td>\n",
       "      <td>0.001</td>\n",
       "      <td>log_poisson</td>\n",
       "      <td>basenjimod</td>\n",
       "      <td>2048</td>\n",
       "    </tr>\n",
       "    <tr>\n",
       "      <th>5</th>\n",
       "      <td>5</td>\n",
       "      <td>0.289988</td>\n",
       "      <td>0.178143</td>\n",
       "      <td>0.244383</td>\n",
       "      <td>0.832707</td>\n",
       "      <td>0.673132</td>\n",
       "      <td>K562</td>\n",
       "      <td>raw</td>\n",
       "      <td>whole</td>\n",
       "      <td>False</td>\n",
       "      <td>...</td>\n",
       "      <td>/mnt/1a18a49e-9a31-4dbf-accd-3fb8abbfab2d/shus...</td>\n",
       "      <td>30</td>\n",
       "      <td>128</td>\n",
       "      <td>256</td>\n",
       "      <td>256</td>\n",
       "      <td>256</td>\n",
       "      <td>0.001</td>\n",
       "      <td>log_poisson</td>\n",
       "      <td>basenjimod</td>\n",
       "      <td>2048</td>\n",
       "    </tr>\n",
       "    <tr>\n",
       "      <th>6</th>\n",
       "      <td>6</td>\n",
       "      <td>0.659688</td>\n",
       "      <td>0.403396</td>\n",
       "      <td>0.427876</td>\n",
       "      <td>0.861363</td>\n",
       "      <td>0.570803</td>\n",
       "      <td>DND-41</td>\n",
       "      <td>raw</td>\n",
       "      <td>whole</td>\n",
       "      <td>False</td>\n",
       "      <td>...</td>\n",
       "      <td>/mnt/1a18a49e-9a31-4dbf-accd-3fb8abbfab2d/shus...</td>\n",
       "      <td>30</td>\n",
       "      <td>128</td>\n",
       "      <td>256</td>\n",
       "      <td>256</td>\n",
       "      <td>256</td>\n",
       "      <td>0.001</td>\n",
       "      <td>log_poisson</td>\n",
       "      <td>basenjimod</td>\n",
       "      <td>2048</td>\n",
       "    </tr>\n",
       "    <tr>\n",
       "      <th>7</th>\n",
       "      <td>7</td>\n",
       "      <td>0.436881</td>\n",
       "      <td>0.194736</td>\n",
       "      <td>0.272982</td>\n",
       "      <td>0.835927</td>\n",
       "      <td>0.631666</td>\n",
       "      <td>GM12878</td>\n",
       "      <td>raw</td>\n",
       "      <td>whole</td>\n",
       "      <td>False</td>\n",
       "      <td>...</td>\n",
       "      <td>/mnt/1a18a49e-9a31-4dbf-accd-3fb8abbfab2d/shus...</td>\n",
       "      <td>30</td>\n",
       "      <td>128</td>\n",
       "      <td>256</td>\n",
       "      <td>256</td>\n",
       "      <td>256</td>\n",
       "      <td>0.001</td>\n",
       "      <td>log_poisson</td>\n",
       "      <td>basenjimod</td>\n",
       "      <td>2048</td>\n",
       "    </tr>\n",
       "    <tr>\n",
       "      <th>8</th>\n",
       "      <td>8</td>\n",
       "      <td>0.269623</td>\n",
       "      <td>0.172375</td>\n",
       "      <td>0.224574</td>\n",
       "      <td>0.813728</td>\n",
       "      <td>0.711450</td>\n",
       "      <td>A549</td>\n",
       "      <td>raw</td>\n",
       "      <td>whole</td>\n",
       "      <td>False</td>\n",
       "      <td>...</td>\n",
       "      <td>/mnt/1a18a49e-9a31-4dbf-accd-3fb8abbfab2d/shus...</td>\n",
       "      <td>30</td>\n",
       "      <td>128</td>\n",
       "      <td>256</td>\n",
       "      <td>256</td>\n",
       "      <td>256</td>\n",
       "      <td>0.001</td>\n",
       "      <td>log_poisson</td>\n",
       "      <td>basenjimod</td>\n",
       "      <td>2048</td>\n",
       "    </tr>\n",
       "    <tr>\n",
       "      <th>9</th>\n",
       "      <td>9</td>\n",
       "      <td>0.617555</td>\n",
       "      <td>0.321039</td>\n",
       "      <td>0.350837</td>\n",
       "      <td>0.805368</td>\n",
       "      <td>0.654856</td>\n",
       "      <td>HCT116</td>\n",
       "      <td>raw</td>\n",
       "      <td>whole</td>\n",
       "      <td>False</td>\n",
       "      <td>...</td>\n",
       "      <td>/mnt/1a18a49e-9a31-4dbf-accd-3fb8abbfab2d/shus...</td>\n",
       "      <td>30</td>\n",
       "      <td>128</td>\n",
       "      <td>256</td>\n",
       "      <td>256</td>\n",
       "      <td>256</td>\n",
       "      <td>0.001</td>\n",
       "      <td>log_poisson</td>\n",
       "      <td>basenjimod</td>\n",
       "      <td>2048</td>\n",
       "    </tr>\n",
       "    <tr>\n",
       "      <th>10</th>\n",
       "      <td>10</td>\n",
       "      <td>0.745731</td>\n",
       "      <td>0.357155</td>\n",
       "      <td>0.390472</td>\n",
       "      <td>0.815808</td>\n",
       "      <td>0.608894</td>\n",
       "      <td>IMR-90</td>\n",
       "      <td>raw</td>\n",
       "      <td>whole</td>\n",
       "      <td>False</td>\n",
       "      <td>...</td>\n",
       "      <td>/mnt/1a18a49e-9a31-4dbf-accd-3fb8abbfab2d/shus...</td>\n",
       "      <td>30</td>\n",
       "      <td>128</td>\n",
       "      <td>256</td>\n",
       "      <td>256</td>\n",
       "      <td>256</td>\n",
       "      <td>0.001</td>\n",
       "      <td>log_poisson</td>\n",
       "      <td>basenjimod</td>\n",
       "      <td>2048</td>\n",
       "    </tr>\n",
       "    <tr>\n",
       "      <th>11</th>\n",
       "      <td>11</td>\n",
       "      <td>0.484875</td>\n",
       "      <td>0.198962</td>\n",
       "      <td>0.251858</td>\n",
       "      <td>0.730933</td>\n",
       "      <td>0.628047</td>\n",
       "      <td>NCI-H929</td>\n",
       "      <td>raw</td>\n",
       "      <td>whole</td>\n",
       "      <td>False</td>\n",
       "      <td>...</td>\n",
       "      <td>/mnt/1a18a49e-9a31-4dbf-accd-3fb8abbfab2d/shus...</td>\n",
       "      <td>30</td>\n",
       "      <td>128</td>\n",
       "      <td>256</td>\n",
       "      <td>256</td>\n",
       "      <td>256</td>\n",
       "      <td>0.001</td>\n",
       "      <td>log_poisson</td>\n",
       "      <td>basenjimod</td>\n",
       "      <td>2048</td>\n",
       "    </tr>\n",
       "    <tr>\n",
       "      <th>12</th>\n",
       "      <td>12</td>\n",
       "      <td>0.287145</td>\n",
       "      <td>0.330284</td>\n",
       "      <td>0.355841</td>\n",
       "      <td>0.871785</td>\n",
       "      <td>0.636809</td>\n",
       "      <td>Panc1</td>\n",
       "      <td>raw</td>\n",
       "      <td>whole</td>\n",
       "      <td>False</td>\n",
       "      <td>...</td>\n",
       "      <td>/mnt/1a18a49e-9a31-4dbf-accd-3fb8abbfab2d/shus...</td>\n",
       "      <td>30</td>\n",
       "      <td>128</td>\n",
       "      <td>256</td>\n",
       "      <td>256</td>\n",
       "      <td>256</td>\n",
       "      <td>0.001</td>\n",
       "      <td>log_poisson</td>\n",
       "      <td>basenjimod</td>\n",
       "      <td>2048</td>\n",
       "    </tr>\n",
       "    <tr>\n",
       "      <th>13</th>\n",
       "      <td>13</td>\n",
       "      <td>1.057226</td>\n",
       "      <td>0.350251</td>\n",
       "      <td>0.414753</td>\n",
       "      <td>0.786856</td>\n",
       "      <td>0.571776</td>\n",
       "      <td>PC-3</td>\n",
       "      <td>raw</td>\n",
       "      <td>whole</td>\n",
       "      <td>False</td>\n",
       "      <td>...</td>\n",
       "      <td>/mnt/1a18a49e-9a31-4dbf-accd-3fb8abbfab2d/shus...</td>\n",
       "      <td>30</td>\n",
       "      <td>128</td>\n",
       "      <td>256</td>\n",
       "      <td>256</td>\n",
       "      <td>256</td>\n",
       "      <td>0.001</td>\n",
       "      <td>log_poisson</td>\n",
       "      <td>basenjimod</td>\n",
       "      <td>2048</td>\n",
       "    </tr>\n",
       "    <tr>\n",
       "      <th>14</th>\n",
       "      <td>14</td>\n",
       "      <td>0.783204</td>\n",
       "      <td>0.333908</td>\n",
       "      <td>0.382424</td>\n",
       "      <td>0.812000</td>\n",
       "      <td>0.617405</td>\n",
       "      <td>MCF</td>\n",
       "      <td>raw</td>\n",
       "      <td>whole</td>\n",
       "      <td>False</td>\n",
       "      <td>...</td>\n",
       "      <td>/mnt/1a18a49e-9a31-4dbf-accd-3fb8abbfab2d/shus...</td>\n",
       "      <td>30</td>\n",
       "      <td>128</td>\n",
       "      <td>256</td>\n",
       "      <td>256</td>\n",
       "      <td>256</td>\n",
       "      <td>0.001</td>\n",
       "      <td>log_poisson</td>\n",
       "      <td>basenjimod</td>\n",
       "      <td>2048</td>\n",
       "    </tr>\n",
       "    <tr>\n",
       "      <th>15</th>\n",
       "      <td>0</td>\n",
       "      <td>1.491142</td>\n",
       "      <td>0.111884</td>\n",
       "      <td>0.159795</td>\n",
       "      <td>0.257462</td>\n",
       "      <td>0.601824</td>\n",
       "      <td>GM21381</td>\n",
       "      <td>scaled</td>\n",
       "      <td>whole</td>\n",
       "      <td>False</td>\n",
       "      <td>...</td>\n",
       "      <td>/mnt/1a18a49e-9a31-4dbf-accd-3fb8abbfab2d/shus...</td>\n",
       "      <td>30</td>\n",
       "      <td>128</td>\n",
       "      <td>256</td>\n",
       "      <td>256</td>\n",
       "      <td>256</td>\n",
       "      <td>0.001</td>\n",
       "      <td>log_poisson</td>\n",
       "      <td>basenjimod</td>\n",
       "      <td>2048</td>\n",
       "    </tr>\n",
       "    <tr>\n",
       "      <th>16</th>\n",
       "      <td>1</td>\n",
       "      <td>1.491324</td>\n",
       "      <td>0.158534</td>\n",
       "      <td>0.239016</td>\n",
       "      <td>0.433415</td>\n",
       "      <td>0.694031</td>\n",
       "      <td>GM23338</td>\n",
       "      <td>scaled</td>\n",
       "      <td>whole</td>\n",
       "      <td>False</td>\n",
       "      <td>...</td>\n",
       "      <td>/mnt/1a18a49e-9a31-4dbf-accd-3fb8abbfab2d/shus...</td>\n",
       "      <td>30</td>\n",
       "      <td>128</td>\n",
       "      <td>256</td>\n",
       "      <td>256</td>\n",
       "      <td>256</td>\n",
       "      <td>0.001</td>\n",
       "      <td>log_poisson</td>\n",
       "      <td>basenjimod</td>\n",
       "      <td>2048</td>\n",
       "    </tr>\n",
       "    <tr>\n",
       "      <th>17</th>\n",
       "      <td>2</td>\n",
       "      <td>1.376809</td>\n",
       "      <td>0.142671</td>\n",
       "      <td>0.220908</td>\n",
       "      <td>0.502783</td>\n",
       "      <td>0.661475</td>\n",
       "      <td>HepG2</td>\n",
       "      <td>scaled</td>\n",
       "      <td>whole</td>\n",
       "      <td>False</td>\n",
       "      <td>...</td>\n",
       "      <td>/mnt/1a18a49e-9a31-4dbf-accd-3fb8abbfab2d/shus...</td>\n",
       "      <td>30</td>\n",
       "      <td>128</td>\n",
       "      <td>256</td>\n",
       "      <td>256</td>\n",
       "      <td>256</td>\n",
       "      <td>0.001</td>\n",
       "      <td>log_poisson</td>\n",
       "      <td>basenjimod</td>\n",
       "      <td>2048</td>\n",
       "    </tr>\n",
       "    <tr>\n",
       "      <th>18</th>\n",
       "      <td>3</td>\n",
       "      <td>1.834622</td>\n",
       "      <td>0.153068</td>\n",
       "      <td>0.225419</td>\n",
       "      <td>0.384244</td>\n",
       "      <td>0.620752</td>\n",
       "      <td>RWPE2</td>\n",
       "      <td>scaled</td>\n",
       "      <td>whole</td>\n",
       "      <td>False</td>\n",
       "      <td>...</td>\n",
       "      <td>/mnt/1a18a49e-9a31-4dbf-accd-3fb8abbfab2d/shus...</td>\n",
       "      <td>30</td>\n",
       "      <td>128</td>\n",
       "      <td>256</td>\n",
       "      <td>256</td>\n",
       "      <td>256</td>\n",
       "      <td>0.001</td>\n",
       "      <td>log_poisson</td>\n",
       "      <td>basenjimod</td>\n",
       "      <td>2048</td>\n",
       "    </tr>\n",
       "    <tr>\n",
       "      <th>19</th>\n",
       "      <td>4</td>\n",
       "      <td>1.806225</td>\n",
       "      <td>0.143426</td>\n",
       "      <td>0.182252</td>\n",
       "      <td>0.196259</td>\n",
       "      <td>0.473902</td>\n",
       "      <td>HG03575</td>\n",
       "      <td>scaled</td>\n",
       "      <td>whole</td>\n",
       "      <td>False</td>\n",
       "      <td>...</td>\n",
       "      <td>/mnt/1a18a49e-9a31-4dbf-accd-3fb8abbfab2d/shus...</td>\n",
       "      <td>30</td>\n",
       "      <td>128</td>\n",
       "      <td>256</td>\n",
       "      <td>256</td>\n",
       "      <td>256</td>\n",
       "      <td>0.001</td>\n",
       "      <td>log_poisson</td>\n",
       "      <td>basenjimod</td>\n",
       "      <td>2048</td>\n",
       "    </tr>\n",
       "    <tr>\n",
       "      <th>20</th>\n",
       "      <td>5</td>\n",
       "      <td>1.287625</td>\n",
       "      <td>0.120926</td>\n",
       "      <td>0.186645</td>\n",
       "      <td>0.448029</td>\n",
       "      <td>0.673132</td>\n",
       "      <td>K562</td>\n",
       "      <td>scaled</td>\n",
       "      <td>whole</td>\n",
       "      <td>False</td>\n",
       "      <td>...</td>\n",
       "      <td>/mnt/1a18a49e-9a31-4dbf-accd-3fb8abbfab2d/shus...</td>\n",
       "      <td>30</td>\n",
       "      <td>128</td>\n",
       "      <td>256</td>\n",
       "      <td>256</td>\n",
       "      <td>256</td>\n",
       "      <td>0.001</td>\n",
       "      <td>log_poisson</td>\n",
       "      <td>basenjimod</td>\n",
       "      <td>2048</td>\n",
       "    </tr>\n",
       "    <tr>\n",
       "      <th>21</th>\n",
       "      <td>6</td>\n",
       "      <td>1.641823</td>\n",
       "      <td>0.146763</td>\n",
       "      <td>0.218457</td>\n",
       "      <td>0.531475</td>\n",
       "      <td>0.570803</td>\n",
       "      <td>DND-41</td>\n",
       "      <td>scaled</td>\n",
       "      <td>whole</td>\n",
       "      <td>False</td>\n",
       "      <td>...</td>\n",
       "      <td>/mnt/1a18a49e-9a31-4dbf-accd-3fb8abbfab2d/shus...</td>\n",
       "      <td>30</td>\n",
       "      <td>128</td>\n",
       "      <td>256</td>\n",
       "      <td>256</td>\n",
       "      <td>256</td>\n",
       "      <td>0.001</td>\n",
       "      <td>log_poisson</td>\n",
       "      <td>basenjimod</td>\n",
       "      <td>2048</td>\n",
       "    </tr>\n",
       "    <tr>\n",
       "      <th>22</th>\n",
       "      <td>7</td>\n",
       "      <td>1.432963</td>\n",
       "      <td>0.128193</td>\n",
       "      <td>0.198018</td>\n",
       "      <td>0.470892</td>\n",
       "      <td>0.631666</td>\n",
       "      <td>GM12878</td>\n",
       "      <td>scaled</td>\n",
       "      <td>whole</td>\n",
       "      <td>False</td>\n",
       "      <td>...</td>\n",
       "      <td>/mnt/1a18a49e-9a31-4dbf-accd-3fb8abbfab2d/shus...</td>\n",
       "      <td>30</td>\n",
       "      <td>128</td>\n",
       "      <td>256</td>\n",
       "      <td>256</td>\n",
       "      <td>256</td>\n",
       "      <td>0.001</td>\n",
       "      <td>log_poisson</td>\n",
       "      <td>basenjimod</td>\n",
       "      <td>2048</td>\n",
       "    </tr>\n",
       "    <tr>\n",
       "      <th>23</th>\n",
       "      <td>8</td>\n",
       "      <td>1.266457</td>\n",
       "      <td>0.125037</td>\n",
       "      <td>0.198884</td>\n",
       "      <td>0.416474</td>\n",
       "      <td>0.711450</td>\n",
       "      <td>A549</td>\n",
       "      <td>scaled</td>\n",
       "      <td>whole</td>\n",
       "      <td>False</td>\n",
       "      <td>...</td>\n",
       "      <td>/mnt/1a18a49e-9a31-4dbf-accd-3fb8abbfab2d/shus...</td>\n",
       "      <td>30</td>\n",
       "      <td>128</td>\n",
       "      <td>256</td>\n",
       "      <td>256</td>\n",
       "      <td>256</td>\n",
       "      <td>0.001</td>\n",
       "      <td>log_poisson</td>\n",
       "      <td>basenjimod</td>\n",
       "      <td>2048</td>\n",
       "    </tr>\n",
       "    <tr>\n",
       "      <th>24</th>\n",
       "      <td>9</td>\n",
       "      <td>1.603055</td>\n",
       "      <td>0.138914</td>\n",
       "      <td>0.225928</td>\n",
       "      <td>0.422667</td>\n",
       "      <td>0.654856</td>\n",
       "      <td>HCT116</td>\n",
       "      <td>scaled</td>\n",
       "      <td>whole</td>\n",
       "      <td>False</td>\n",
       "      <td>...</td>\n",
       "      <td>/mnt/1a18a49e-9a31-4dbf-accd-3fb8abbfab2d/shus...</td>\n",
       "      <td>30</td>\n",
       "      <td>128</td>\n",
       "      <td>256</td>\n",
       "      <td>256</td>\n",
       "      <td>256</td>\n",
       "      <td>0.001</td>\n",
       "      <td>log_poisson</td>\n",
       "      <td>basenjimod</td>\n",
       "      <td>2048</td>\n",
       "    </tr>\n",
       "    <tr>\n",
       "      <th>25</th>\n",
       "      <td>10</td>\n",
       "      <td>1.737442</td>\n",
       "      <td>0.146267</td>\n",
       "      <td>0.240600</td>\n",
       "      <td>0.473967</td>\n",
       "      <td>0.608894</td>\n",
       "      <td>IMR-90</td>\n",
       "      <td>scaled</td>\n",
       "      <td>whole</td>\n",
       "      <td>False</td>\n",
       "      <td>...</td>\n",
       "      <td>/mnt/1a18a49e-9a31-4dbf-accd-3fb8abbfab2d/shus...</td>\n",
       "      <td>30</td>\n",
       "      <td>128</td>\n",
       "      <td>256</td>\n",
       "      <td>256</td>\n",
       "      <td>256</td>\n",
       "      <td>0.001</td>\n",
       "      <td>log_poisson</td>\n",
       "      <td>basenjimod</td>\n",
       "      <td>2048</td>\n",
       "    </tr>\n",
       "    <tr>\n",
       "      <th>26</th>\n",
       "      <td>11</td>\n",
       "      <td>1.466190</td>\n",
       "      <td>0.115816</td>\n",
       "      <td>0.173121</td>\n",
       "      <td>0.224225</td>\n",
       "      <td>0.628047</td>\n",
       "      <td>NCI-H929</td>\n",
       "      <td>scaled</td>\n",
       "      <td>whole</td>\n",
       "      <td>False</td>\n",
       "      <td>...</td>\n",
       "      <td>/mnt/1a18a49e-9a31-4dbf-accd-3fb8abbfab2d/shus...</td>\n",
       "      <td>30</td>\n",
       "      <td>128</td>\n",
       "      <td>256</td>\n",
       "      <td>256</td>\n",
       "      <td>256</td>\n",
       "      <td>0.001</td>\n",
       "      <td>log_poisson</td>\n",
       "      <td>basenjimod</td>\n",
       "      <td>2048</td>\n",
       "    </tr>\n",
       "    <tr>\n",
       "      <th>27</th>\n",
       "      <td>12</td>\n",
       "      <td>1.283429</td>\n",
       "      <td>0.136811</td>\n",
       "      <td>0.211839</td>\n",
       "      <td>0.536449</td>\n",
       "      <td>0.636809</td>\n",
       "      <td>Panc1</td>\n",
       "      <td>scaled</td>\n",
       "      <td>whole</td>\n",
       "      <td>False</td>\n",
       "      <td>...</td>\n",
       "      <td>/mnt/1a18a49e-9a31-4dbf-accd-3fb8abbfab2d/shus...</td>\n",
       "      <td>30</td>\n",
       "      <td>128</td>\n",
       "      <td>256</td>\n",
       "      <td>256</td>\n",
       "      <td>256</td>\n",
       "      <td>0.001</td>\n",
       "      <td>log_poisson</td>\n",
       "      <td>basenjimod</td>\n",
       "      <td>2048</td>\n",
       "    </tr>\n",
       "    <tr>\n",
       "      <th>28</th>\n",
       "      <td>13</td>\n",
       "      <td>2.051336</td>\n",
       "      <td>0.157078</td>\n",
       "      <td>0.263579</td>\n",
       "      <td>0.417576</td>\n",
       "      <td>0.571776</td>\n",
       "      <td>PC-3</td>\n",
       "      <td>scaled</td>\n",
       "      <td>whole</td>\n",
       "      <td>False</td>\n",
       "      <td>...</td>\n",
       "      <td>/mnt/1a18a49e-9a31-4dbf-accd-3fb8abbfab2d/shus...</td>\n",
       "      <td>30</td>\n",
       "      <td>128</td>\n",
       "      <td>256</td>\n",
       "      <td>256</td>\n",
       "      <td>256</td>\n",
       "      <td>0.001</td>\n",
       "      <td>log_poisson</td>\n",
       "      <td>basenjimod</td>\n",
       "      <td>2048</td>\n",
       "    </tr>\n",
       "    <tr>\n",
       "      <th>29</th>\n",
       "      <td>14</td>\n",
       "      <td>1.785107</td>\n",
       "      <td>0.147549</td>\n",
       "      <td>0.253258</td>\n",
       "      <td>0.459591</td>\n",
       "      <td>0.617405</td>\n",
       "      <td>MCF</td>\n",
       "      <td>scaled</td>\n",
       "      <td>whole</td>\n",
       "      <td>False</td>\n",
       "      <td>...</td>\n",
       "      <td>/mnt/1a18a49e-9a31-4dbf-accd-3fb8abbfab2d/shus...</td>\n",
       "      <td>30</td>\n",
       "      <td>128</td>\n",
       "      <td>256</td>\n",
       "      <td>256</td>\n",
       "      <td>256</td>\n",
       "      <td>0.001</td>\n",
       "      <td>log_poisson</td>\n",
       "      <td>basenjimod</td>\n",
       "      <td>2048</td>\n",
       "    </tr>\n",
       "    <tr>\n",
       "      <th>30</th>\n",
       "      <td>0</td>\n",
       "      <td>4.771581</td>\n",
       "      <td>0.285821</td>\n",
       "      <td>0.326322</td>\n",
       "      <td>-0.012639</td>\n",
       "      <td>0.792942</td>\n",
       "      <td>PC-3</td>\n",
       "      <td>raw</td>\n",
       "      <td>idr</td>\n",
       "      <td>False</td>\n",
       "      <td>...</td>\n",
       "      <td>/mnt/1a18a49e-9a31-4dbf-accd-3fb8abbfab2d/shus...</td>\n",
       "      <td>30</td>\n",
       "      <td>128</td>\n",
       "      <td>256</td>\n",
       "      <td>256</td>\n",
       "      <td>256</td>\n",
       "      <td>0.001</td>\n",
       "      <td>log_poisson</td>\n",
       "      <td>basenjimod</td>\n",
       "      <td>2048</td>\n",
       "    </tr>\n",
       "    <tr>\n",
       "      <th>31</th>\n",
       "      <td>0</td>\n",
       "      <td>6.020486</td>\n",
       "      <td>0.196633</td>\n",
       "      <td>0.263015</td>\n",
       "      <td>-0.618013</td>\n",
       "      <td>0.792942</td>\n",
       "      <td>PC-3</td>\n",
       "      <td>scaled</td>\n",
       "      <td>idr</td>\n",
       "      <td>False</td>\n",
       "      <td>...</td>\n",
       "      <td>/mnt/1a18a49e-9a31-4dbf-accd-3fb8abbfab2d/shus...</td>\n",
       "      <td>30</td>\n",
       "      <td>128</td>\n",
       "      <td>256</td>\n",
       "      <td>256</td>\n",
       "      <td>256</td>\n",
       "      <td>0.001</td>\n",
       "      <td>log_poisson</td>\n",
       "      <td>basenjimod</td>\n",
       "      <td>2048</td>\n",
       "    </tr>\n",
       "  </tbody>\n",
       "</table>\n",
       "<p>32 rows × 21 columns</p>\n",
       "</div>"
      ],
      "text/plain": [
       "    index       mse  js_per_seq   js_conc     poiss        pr   targets  \\\n",
       "0       0  0.507141    0.228383  0.268156  0.755236  0.601824   GM21381   \n",
       "1       1  0.496757    0.215701  0.280730  0.791044  0.694031   GM23338   \n",
       "2       2  0.377824    0.204101  0.263656  0.841401  0.661475     HepG2   \n",
       "3       3  0.843394    0.330217  0.354044  0.772139  0.620752     RWPE2   \n",
       "4       4  0.845184    0.360112  0.381869  0.736651  0.473902   HG03575   \n",
       "5       5  0.289988    0.178143  0.244383  0.832707  0.673132      K562   \n",
       "6       6  0.659688    0.403396  0.427876  0.861363  0.570803    DND-41   \n",
       "7       7  0.436881    0.194736  0.272982  0.835927  0.631666   GM12878   \n",
       "8       8  0.269623    0.172375  0.224574  0.813728  0.711450      A549   \n",
       "9       9  0.617555    0.321039  0.350837  0.805368  0.654856    HCT116   \n",
       "10     10  0.745731    0.357155  0.390472  0.815808  0.608894    IMR-90   \n",
       "11     11  0.484875    0.198962  0.251858  0.730933  0.628047  NCI-H929   \n",
       "12     12  0.287145    0.330284  0.355841  0.871785  0.636809     Panc1   \n",
       "13     13  1.057226    0.350251  0.414753  0.786856  0.571776      PC-3   \n",
       "14     14  0.783204    0.333908  0.382424  0.812000  0.617405       MCF   \n",
       "15      0  1.491142    0.111884  0.159795  0.257462  0.601824   GM21381   \n",
       "16      1  1.491324    0.158534  0.239016  0.433415  0.694031   GM23338   \n",
       "17      2  1.376809    0.142671  0.220908  0.502783  0.661475     HepG2   \n",
       "18      3  1.834622    0.153068  0.225419  0.384244  0.620752     RWPE2   \n",
       "19      4  1.806225    0.143426  0.182252  0.196259  0.473902   HG03575   \n",
       "20      5  1.287625    0.120926  0.186645  0.448029  0.673132      K562   \n",
       "21      6  1.641823    0.146763  0.218457  0.531475  0.570803    DND-41   \n",
       "22      7  1.432963    0.128193  0.198018  0.470892  0.631666   GM12878   \n",
       "23      8  1.266457    0.125037  0.198884  0.416474  0.711450      A549   \n",
       "24      9  1.603055    0.138914  0.225928  0.422667  0.654856    HCT116   \n",
       "25     10  1.737442    0.146267  0.240600  0.473967  0.608894    IMR-90   \n",
       "26     11  1.466190    0.115816  0.173121  0.224225  0.628047  NCI-H929   \n",
       "27     12  1.283429    0.136811  0.211839  0.536449  0.636809     Panc1   \n",
       "28     13  2.051336    0.157078  0.263579  0.417576  0.571776      PC-3   \n",
       "29     14  1.785107    0.147549  0.253258  0.459591  0.617405       MCF   \n",
       "30      0  4.771581    0.285821  0.326322 -0.012639  0.792942      PC-3   \n",
       "31      0  6.020486    0.196633  0.263015 -0.618013  0.792942      PC-3   \n",
       "\n",
       "   pred type eval type      0  ...  \\\n",
       "0        raw     whole  False  ...   \n",
       "1        raw     whole  False  ...   \n",
       "2        raw     whole  False  ...   \n",
       "3        raw     whole  False  ...   \n",
       "4        raw     whole  False  ...   \n",
       "5        raw     whole  False  ...   \n",
       "6        raw     whole  False  ...   \n",
       "7        raw     whole  False  ...   \n",
       "8        raw     whole  False  ...   \n",
       "9        raw     whole  False  ...   \n",
       "10       raw     whole  False  ...   \n",
       "11       raw     whole  False  ...   \n",
       "12       raw     whole  False  ...   \n",
       "13       raw     whole  False  ...   \n",
       "14       raw     whole  False  ...   \n",
       "15    scaled     whole  False  ...   \n",
       "16    scaled     whole  False  ...   \n",
       "17    scaled     whole  False  ...   \n",
       "18    scaled     whole  False  ...   \n",
       "19    scaled     whole  False  ...   \n",
       "20    scaled     whole  False  ...   \n",
       "21    scaled     whole  False  ...   \n",
       "22    scaled     whole  False  ...   \n",
       "23    scaled     whole  False  ...   \n",
       "24    scaled     whole  False  ...   \n",
       "25    scaled     whole  False  ...   \n",
       "26    scaled     whole  False  ...   \n",
       "27    scaled     whole  False  ...   \n",
       "28    scaled     whole  False  ...   \n",
       "29    scaled     whole  False  ...   \n",
       "30       raw       idr  False  ...   \n",
       "31    scaled       idr  False  ...   \n",
       "\n",
       "                                                    2   3    4    5    6    7  \\\n",
       "0   /mnt/1a18a49e-9a31-4dbf-accd-3fb8abbfab2d/shus...  30  128  256  256  256   \n",
       "1   /mnt/1a18a49e-9a31-4dbf-accd-3fb8abbfab2d/shus...  30  128  256  256  256   \n",
       "2   /mnt/1a18a49e-9a31-4dbf-accd-3fb8abbfab2d/shus...  30  128  256  256  256   \n",
       "3   /mnt/1a18a49e-9a31-4dbf-accd-3fb8abbfab2d/shus...  30  128  256  256  256   \n",
       "4   /mnt/1a18a49e-9a31-4dbf-accd-3fb8abbfab2d/shus...  30  128  256  256  256   \n",
       "5   /mnt/1a18a49e-9a31-4dbf-accd-3fb8abbfab2d/shus...  30  128  256  256  256   \n",
       "6   /mnt/1a18a49e-9a31-4dbf-accd-3fb8abbfab2d/shus...  30  128  256  256  256   \n",
       "7   /mnt/1a18a49e-9a31-4dbf-accd-3fb8abbfab2d/shus...  30  128  256  256  256   \n",
       "8   /mnt/1a18a49e-9a31-4dbf-accd-3fb8abbfab2d/shus...  30  128  256  256  256   \n",
       "9   /mnt/1a18a49e-9a31-4dbf-accd-3fb8abbfab2d/shus...  30  128  256  256  256   \n",
       "10  /mnt/1a18a49e-9a31-4dbf-accd-3fb8abbfab2d/shus...  30  128  256  256  256   \n",
       "11  /mnt/1a18a49e-9a31-4dbf-accd-3fb8abbfab2d/shus...  30  128  256  256  256   \n",
       "12  /mnt/1a18a49e-9a31-4dbf-accd-3fb8abbfab2d/shus...  30  128  256  256  256   \n",
       "13  /mnt/1a18a49e-9a31-4dbf-accd-3fb8abbfab2d/shus...  30  128  256  256  256   \n",
       "14  /mnt/1a18a49e-9a31-4dbf-accd-3fb8abbfab2d/shus...  30  128  256  256  256   \n",
       "15  /mnt/1a18a49e-9a31-4dbf-accd-3fb8abbfab2d/shus...  30  128  256  256  256   \n",
       "16  /mnt/1a18a49e-9a31-4dbf-accd-3fb8abbfab2d/shus...  30  128  256  256  256   \n",
       "17  /mnt/1a18a49e-9a31-4dbf-accd-3fb8abbfab2d/shus...  30  128  256  256  256   \n",
       "18  /mnt/1a18a49e-9a31-4dbf-accd-3fb8abbfab2d/shus...  30  128  256  256  256   \n",
       "19  /mnt/1a18a49e-9a31-4dbf-accd-3fb8abbfab2d/shus...  30  128  256  256  256   \n",
       "20  /mnt/1a18a49e-9a31-4dbf-accd-3fb8abbfab2d/shus...  30  128  256  256  256   \n",
       "21  /mnt/1a18a49e-9a31-4dbf-accd-3fb8abbfab2d/shus...  30  128  256  256  256   \n",
       "22  /mnt/1a18a49e-9a31-4dbf-accd-3fb8abbfab2d/shus...  30  128  256  256  256   \n",
       "23  /mnt/1a18a49e-9a31-4dbf-accd-3fb8abbfab2d/shus...  30  128  256  256  256   \n",
       "24  /mnt/1a18a49e-9a31-4dbf-accd-3fb8abbfab2d/shus...  30  128  256  256  256   \n",
       "25  /mnt/1a18a49e-9a31-4dbf-accd-3fb8abbfab2d/shus...  30  128  256  256  256   \n",
       "26  /mnt/1a18a49e-9a31-4dbf-accd-3fb8abbfab2d/shus...  30  128  256  256  256   \n",
       "27  /mnt/1a18a49e-9a31-4dbf-accd-3fb8abbfab2d/shus...  30  128  256  256  256   \n",
       "28  /mnt/1a18a49e-9a31-4dbf-accd-3fb8abbfab2d/shus...  30  128  256  256  256   \n",
       "29  /mnt/1a18a49e-9a31-4dbf-accd-3fb8abbfab2d/shus...  30  128  256  256  256   \n",
       "30  /mnt/1a18a49e-9a31-4dbf-accd-3fb8abbfab2d/shus...  30  128  256  256  256   \n",
       "31  /mnt/1a18a49e-9a31-4dbf-accd-3fb8abbfab2d/shus...  30  128  256  256  256   \n",
       "\n",
       "        8            9          10    11  \n",
       "0   0.001  log_poisson  basenjimod  2048  \n",
       "1   0.001  log_poisson  basenjimod  2048  \n",
       "2   0.001  log_poisson  basenjimod  2048  \n",
       "3   0.001  log_poisson  basenjimod  2048  \n",
       "4   0.001  log_poisson  basenjimod  2048  \n",
       "5   0.001  log_poisson  basenjimod  2048  \n",
       "6   0.001  log_poisson  basenjimod  2048  \n",
       "7   0.001  log_poisson  basenjimod  2048  \n",
       "8   0.001  log_poisson  basenjimod  2048  \n",
       "9   0.001  log_poisson  basenjimod  2048  \n",
       "10  0.001  log_poisson  basenjimod  2048  \n",
       "11  0.001  log_poisson  basenjimod  2048  \n",
       "12  0.001  log_poisson  basenjimod  2048  \n",
       "13  0.001  log_poisson  basenjimod  2048  \n",
       "14  0.001  log_poisson  basenjimod  2048  \n",
       "15  0.001  log_poisson  basenjimod  2048  \n",
       "16  0.001  log_poisson  basenjimod  2048  \n",
       "17  0.001  log_poisson  basenjimod  2048  \n",
       "18  0.001  log_poisson  basenjimod  2048  \n",
       "19  0.001  log_poisson  basenjimod  2048  \n",
       "20  0.001  log_poisson  basenjimod  2048  \n",
       "21  0.001  log_poisson  basenjimod  2048  \n",
       "22  0.001  log_poisson  basenjimod  2048  \n",
       "23  0.001  log_poisson  basenjimod  2048  \n",
       "24  0.001  log_poisson  basenjimod  2048  \n",
       "25  0.001  log_poisson  basenjimod  2048  \n",
       "26  0.001  log_poisson  basenjimod  2048  \n",
       "27  0.001  log_poisson  basenjimod  2048  \n",
       "28  0.001  log_poisson  basenjimod  2048  \n",
       "29  0.001  log_poisson  basenjimod  2048  \n",
       "30  0.001  log_poisson  basenjimod  2048  \n",
       "31  0.001  log_poisson  basenjimod  2048  \n",
       "\n",
       "[32 rows x 21 columns]"
      ]
     },
     "execution_count": 23,
     "metadata": {},
     "output_type": "execute_result"
    }
   ],
   "source": [
    "df"
   ]
  },
  {
   "cell_type": "code",
   "execution_count": 19,
   "metadata": {},
   "outputs": [
    {
     "data": {
      "text/plain": [
       "array([[[1.7306669 ],\n",
       "        [3.7424598 ],\n",
       "        [7.3275366 ],\n",
       "        ...,\n",
       "        [0.6250138 ],\n",
       "        [0.57313526],\n",
       "        [0.44196734]],\n",
       "\n",
       "       [[0.28243205],\n",
       "        [0.51076466],\n",
       "        [0.76087284],\n",
       "        ...,\n",
       "        [0.7779578 ],\n",
       "        [0.5777492 ],\n",
       "        [0.3990924 ]],\n",
       "\n",
       "       [[0.517248  ],\n",
       "        [0.47020078],\n",
       "        [0.37353486],\n",
       "        ...,\n",
       "        [0.4856677 ],\n",
       "        [0.72867775],\n",
       "        [0.71270925]],\n",
       "\n",
       "       ...,\n",
       "\n",
       "       [[0.5504307 ],\n",
       "        [0.50039935],\n",
       "        [0.5683051 ],\n",
       "        ...,\n",
       "        [0.33759138],\n",
       "        [0.30725056],\n",
       "        [0.33233356]],\n",
       "\n",
       "       [[0.71542734],\n",
       "        [0.78273517],\n",
       "        [1.0528681 ],\n",
       "        ...,\n",
       "        [0.8466827 ],\n",
       "        [0.72920865],\n",
       "        [0.69668955]],\n",
       "\n",
       "       [[0.76306397],\n",
       "        [0.7986942 ],\n",
       "        [0.7152365 ],\n",
       "        ...,\n",
       "        [0.5430992 ],\n",
       "        [0.4751027 ],\n",
       "        [0.41024312]]], dtype=float32)"
      ]
     },
     "execution_count": 19,
     "metadata": {},
     "output_type": "execute_result"
    }
   ],
   "source": [
    "np.expand_dims(all_pred[:,:,i], axis=-1)"
   ]
  },
  {
   "cell_type": "code",
   "execution_count": null,
   "metadata": {},
   "outputs": [],
   "source": []
  }
 ],
 "metadata": {
  "kernelspec": {
   "display_name": "Python 3",
   "language": "python",
   "name": "python3"
  },
  "language_info": {
   "codemirror_mode": {
    "name": "ipython",
    "version": 3
   },
   "file_extension": ".py",
   "mimetype": "text/x-python",
   "name": "python",
   "nbconvert_exporter": "python",
   "pygments_lexer": "ipython3",
   "version": "3.7.0b3"
  }
 },
 "nbformat": 4,
 "nbformat_minor": 4
}

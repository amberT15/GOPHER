{
 "cells": [
  {
   "cell_type": "code",
   "execution_count": 2,
   "metadata": {},
   "outputs": [
    {
     "name": "stdout",
     "output_type": "stream",
     "text": [
      "The autoreload extension is already loaded. To reload it, use:\n",
      "  %reload_ext autoreload\n"
     ]
    }
   ],
   "source": [
    "%load_ext autoreload\n",
    "%autoreload 2\n",
    "import sys\n",
    "sys.path.append(\"../\")\n",
    "import paper_experiments"
   ]
  },
  {
   "cell_type": "code",
   "execution_count": null,
   "metadata": {},
   "outputs": [],
   "source": [
    "# load and get model layer\n",
    "run_path = '../'+'paper_runs/new_models/32_res/run-20211023_095131-w6okxt01'\n",
    "layer = -3\n",
    "model, bin_size = read_model(run_path, compile_model=False)\n",
    "aux_model = tf.keras.Model(inputs=model.inputs, outputs=model.layers[layer].output)\n",
    "testset, targets = tfr_evaluate.collect_whole_testset(coords=True)\n",
    "threshold = 2\n",
    "cell_line = 13\n",
    "\n",
    "thresholded_C, thresholded_X, thresholded_Y = embed.threshold_cell_line_testset(testset, cell_line)\n",
    "predictions = embed.predict_np(thresholded_X, model, batch_size=32, reshape_to_2D=False)\n",
    "\n"
   ]
  }
 ],
 "metadata": {
  "kernelspec": {
   "display_name": "Python 3",
   "language": "python",
   "name": "python3"
  },
  "language_info": {
   "codemirror_mode": {
    "name": "ipython",
    "version": 3
   },
   "file_extension": ".py",
   "mimetype": "text/x-python",
   "name": "python",
   "nbconvert_exporter": "python",
   "pygments_lexer": "ipython3",
   "version": "3.7.0b3"
  }
 },
 "nbformat": 4,
 "nbformat_minor": 4
}

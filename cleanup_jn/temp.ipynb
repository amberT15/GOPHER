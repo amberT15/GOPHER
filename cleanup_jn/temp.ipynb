{
 "cells": [
  {
   "cell_type": "code",
   "execution_count": 16,
   "metadata": {},
   "outputs": [],
   "source": [
    "%load_ext autoreload\n",
    "%autoreload 2\n",
    "import wandb_train, util\n",
    "data_dir = '/mnt/1a18a49e-9a31-4dbf-accd-3fb8abbfab2d/shush/4grid_atac/lite/random_chop/i_3072_w_1'\n",
    "validset = util.make_dataset(data_dir, 'valid', util.load_stats(data_dir))\n",
    "wandb_train.fit_robust('residual_profile_task_conv_32', 'mse',\n",
    "                       2048, 32, '/mnt/1a18a49e-9a31-4dbf-accd-3fb8abbfab2d/shush/4grid_atac/lite/random_chop/i_3072_w_1',\n",
    "                       output_dir='testground',\n",
    "                       config={'log_wandb':False, 'num_epochs':2})\n",
    "\n"
   ]
  },
  {
   "cell_type": "code",
   "execution_count": 3,
   "metadata": {},
   "outputs": [],
   "source": [
    "import util\n",
    "import h5py\n",
    "from tqdm import tqdm"
   ]
  },
  {
   "cell_type": "code",
   "execution_count": 4,
   "metadata": {},
   "outputs": [],
   "source": [
    "data_dir = '/mnt/1a18a49e-9a31-4dbf-accd-3fb8abbfab2d/shush/4grid_atac/complete/random_chop/i_2048_w_1/'\n",
    "sts = util.load_stats(data_dir)\n",
    "batch_size = 512\n",
    "prefix_filename = 'random_chop_2K_15_ATAC'"
   ]
  },
  {
   "cell_type": "code",
   "execution_count": 5,
   "metadata": {},
   "outputs": [
    {
     "name": "stderr",
     "output_type": "stream",
     "text": [
      "2123it [09:58,  3.55it/s]\n",
      "99it [00:39,  2.52it/s]\n"
     ]
    }
   ],
   "source": [
    "for fold in ['train', 'valid']:\n",
    "    foldset = util.make_dataset(data_dir, fold, sts, batch_size=batch_size, drop_remainder=True)\n",
    "    h5_filepath = '{}_{}.h5'.format(prefix_filename, fold)\n",
    "    hf = h5py.File(h5_filepath, 'w')\n",
    "    N_seqs = sts[fold+'_seqs']\n",
    "    hf.create_dataset('X', shape = (N_seqs, 2048, 4))\n",
    "    hf.create_dataset('Y',shape = (N_seqs, 2048, 15))\n",
    "    hf.close()\n",
    "    with h5py.File(h5_filepath, 'a') as f:\n",
    "        start = 0\n",
    "        for i, (x, y) in tqdm(enumerate(iter(foldset))):\n",
    "            start = i*batch_size  \n",
    "            f['X'][start:start+batch_size] = x\n",
    "            f['Y'][start:start+batch_size] = y"
   ]
  },
  {
   "cell_type": "code",
   "execution_count": null,
   "metadata": {},
   "outputs": [],
   "source": []
  }
 ],
 "metadata": {
  "kernelspec": {
   "display_name": "Python 3",
   "language": "python",
   "name": "python3"
  },
  "language_info": {
   "codemirror_mode": {
    "name": "ipython",
    "version": 3
   },
   "file_extension": ".py",
   "mimetype": "text/x-python",
   "name": "python",
   "nbconvert_exporter": "python",
   "pygments_lexer": "ipython3",
   "version": "3.7.0b3"
  }
 },
 "nbformat": 4,
 "nbformat_minor": 4
}

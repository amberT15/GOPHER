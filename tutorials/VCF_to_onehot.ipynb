{
 "cells": [
  {
   "cell_type": "code",
   "execution_count": null,
   "metadata": {},
   "outputs": [],
   "source": [
    "import numpy as np\n",
    "import os, h5py\n",
    "import pandas as pd\n",
    "import variant_effect"
   ]
  },
  {
   "cell_type": "code",
   "execution_count": null,
   "metadata": {},
   "outputs": [],
   "source": [
    "# read df and add strand\n",
    "all_dfs = []\n",
    "cagi_data = '/home/shush/profile/QuantPred/datasets/CAGI'\n",
    "combined_filename = 'combined_cagi.bed'\n",
    "for filename in os.listdir(cagi_data):\n",
    "    prefix, regulator = filename.split('.tsv')[0].split('_')\n",
    "\n",
    "    one_reg = pd.read_csv(os.path.join(cagi_data,filename), skiprows=7, sep='\\t', header=None)\n",
    "    one_reg['regulator'] = regulator\n",
    "    one_reg['set'] = prefix\n",
    "    all_dfs.append(one_reg)\n",
    "    \n",
    "\n",
    "combined_cagi = pd.concat(all_dfs)\n",
    "combined_cagi.insert(4, 'strand', '+')\n",
    "combined_cagi.insert(2,'end',combined_cagi.iloc[:,1]+1)\n",
    "combined_cagi.iloc[:,0] = 'chr'+combined_cagi.iloc[:,0].astype(str)\n",
    "combined_cagi.to_csv(combined_filename, sep='\\t', header=False, index=None)"
   ]
  },
  {
   "cell_type": "code",
   "execution_count": null,
   "metadata": {},
   "outputs": [],
   "source": [
    "output_filename = 'nonneg_cagi_3K.bed'\n",
    "expand_range(combined_filename, output_filename)"
   ]
  },
  {
   "cell_type": "code",
   "execution_count": null,
   "metadata": {},
   "outputs": [],
   "source": [
    "fa_filename = 'cagi_3k.fa'\n",
    "coords_list, seqs_list = variant_effect.convert_bed_to_seq(output_filename, fa_filename, genomefile='/home/shush/genomes/hg19.fa')"
   ]
  },
  {
   "cell_type": "code",
   "execution_count": null,
   "metadata": {},
   "outputs": [],
   "source": [
    "window = 3072\n",
    "bad_lines = []\n",
    "N = len(seqs_list)\n",
    "nonneg_df = pd.read_csv(output_filename, sep='\\t', header=None)\n",
    "mid = window // 2\n",
    "onehot_ref = []\n",
    "onehot_alt = []\n",
    "coord_np = np.empty((N, 4)) # chrom, start, end coordinate array\n",
    "pos_dict = {'+': 1535, '-':1536}\n",
    "for i,(chr_s_e, seq) in enumerate(zip(coords_list, seqs_list)):\n",
    "    alt = ''\n",
    "    strand = chr_s_e.split('(')[-1].split(')')[0]\n",
    "    pos = pos_dict[strand]\n",
    "#     coord_np[i,3] = pos_dict[strand] - 1535\n",
    "\n",
    "    if seq[pos] != nonneg_df.iloc[i, 3]:\n",
    "#         print('Error in line ' + str(i))\n",
    "        bad_lines.append(i)\n",
    "    else:\n",
    "        alt = nonneg_df.iloc[i,4]\n",
    "\n",
    "        onehot = variant_effect.dna_one_hot(seq)\n",
    "        mutated_onehot = onehot.copy()\n",
    "        mutated_onehot[pos] = variant_effect.dna_one_hot(alt)[0]\n",
    "        onehot_ref.append(onehot)\n",
    "\n",
    "        onehot_alt.append(mutated_onehot) \n",
    "\n",
    "onehot_alt = np.array(onehot_alt)\n",
    "onehot_ref = np.array(onehot_ref)"
   ]
  },
  {
   "cell_type": "code",
   "execution_count": null,
   "metadata": {},
   "outputs": [],
   "source": [
    "included_df = nonneg_df[~nonneg_df.index.isin(bad_lines)]\n",
    "included_df.to_csv('/mnt/31dac31c-c4e2-4704-97bd-0788af37c5eb/shush/CAGI5/final_cagi_metadata.csv')"
   ]
  },
  {
   "cell_type": "code",
   "execution_count": null,
   "metadata": {},
   "outputs": [],
   "source": [
    "onehot_ref_alt = h5py.File('/mnt/31dac31c-c4e2-4704-97bd-0788af37c5eb/shush/CAGI5/CAGI_onehot.h5', 'w')\n",
    "onehot_ref_alt.create_dataset('ref', data=onehot_ref)\n",
    "onehot_ref_alt.create_dataset('alt', data=onehot_alt)\n",
    "onehot_ref_alt.close()"
   ]
  },
  {
   "cell_type": "code",
   "execution_count": null,
   "metadata": {},
   "outputs": [],
   "source": []
  },
  {
   "cell_type": "code",
   "execution_count": null,
   "metadata": {},
   "outputs": [],
   "source": []
  }
 ],
 "metadata": {
  "kernelspec": {
   "display_name": "Python 3",
   "language": "python",
   "name": "python3"
  },
  "language_info": {
   "codemirror_mode": {
    "name": "ipython",
    "version": 3
   },
   "file_extension": ".py",
   "mimetype": "text/x-python",
   "name": "python",
   "nbconvert_exporter": "python",
   "pygments_lexer": "ipython3",
   "version": "3.7.0b3"
  }
 },
 "nbformat": 4,
 "nbformat_minor": 4
}

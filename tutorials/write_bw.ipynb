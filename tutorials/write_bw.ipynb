{
 "cells": [
  {
   "cell_type": "code",
   "execution_count": null,
   "metadata": {},
   "outputs": [],
   "source": [
    "import sys\n",
    "sys.path.append(\"../\")\n",
    "import os\n",
    "import pandas as pd\n",
    "import numpy as np\n",
    "import glob\n",
    "import subprocess\n",
    "import os"
   ]
  },
  {
   "cell_type": "code",
   "execution_count": null,
   "metadata": {},
   "outputs": [],
   "source": [
    "best_model = 'BEST_MODEL_EVER' #model you want to use for getting predictions\n",
    "dataset_path = 'ORDERED_TESTSET' # testset that is NOT shuffled\n",
    "targets_i = 0 #which target or cell line to write as bw\n",
    "out_dir = utils.make_dir('OUTPUT_DIR')\n",
    "chrom_size_path='GENOME_SIZE_PATH'\n",
    "model, bin_size = tfr_evaluate.read_model(best_model)"
   ]
  },
  {
   "cell_type": "code",
   "execution_count": null,
   "metadata": {},
   "outputs": [],
   "source": [
    "testset, targets = tfr_evaluate.collect_whole_testset(data_dir=dataset_path, \n",
    "                                                      coords=True) # load testset\n",
    "C, X, Y = utils.convert_tfr_to_np(testset, 3) # convert to np\n",
    "preds = embed.predict_np(X, model, batch_size=32, reshape_to_2D=False) # get predictions"
   ]
  },
  {
   "cell_type": "code",
   "execution_count": null,
   "metadata": {},
   "outputs": [],
   "source": [
    "# create paths for new bs files\n",
    "pred_bw_filename = os.path.join(out_dir, 'pred_{}.bw'.format(targets[targets_i]))\n",
    "truth_bw_filename = os.path.join(out_dir, 'truth_{}.bw'.format(targets[targets_i]))\n",
    "# open 2 bws\n",
    "pred_bw = test_to_bw_fast.open_bw(pred_bw_filename, chrom_size_path)\n",
    "truth_bw = test_to_bw_fast.open_bw(truth_bw_filename, chrom_size_path)"
   ]
  },
  {
   "cell_type": "code",
   "execution_count": null,
   "metadata": {},
   "outputs": [],
   "source": [
    "clean_C = [str(c).strip('b\\'').strip('\\'') for c in C]\n",
    "for i in range(preds.shape[0]): # per data point \n",
    "    chrom, start, end = clean_C[i].split('_') # get chr, start, end\n",
    "    start = int(start) # to feed into bw making function\n",
    "    # for cell_line in [8]: # per cell line\n",
    "    for t in [targets_i]: # per cell line\n",
    "        # write to ground truth file\n",
    "        truth_bw.addEntries(chrom, start,\n",
    "            values=np.array(np.squeeze(Y[i,:,t]), dtype='float64'),\n",
    "            span=1, step=1)\n",
    "        # write to prediction bw file\n",
    "        pred_bw.addEntries(chrom, start,\n",
    "            values=np.array(np.squeeze(preds[i,:,t]), dtype='float64'),\n",
    "            span=bin_size, step=bin_size)"
   ]
  },
  {
   "cell_type": "code",
   "execution_count": null,
   "metadata": {},
   "outputs": [],
   "source": [
    "truth_bw.close()\n",
    "pred_bw.close()"
   ]
  },
  {
   "cell_type": "code",
   "execution_count": null,
   "metadata": {},
   "outputs": [],
   "source": []
  }
 ],
 "metadata": {
  "kernelspec": {
   "display_name": "Python 3",
   "language": "python",
   "name": "python3"
  },
  "language_info": {
   "codemirror_mode": {
    "name": "ipython",
    "version": 3
   },
   "file_extension": ".py",
   "mimetype": "text/x-python",
   "name": "python",
   "nbconvert_exporter": "python",
   "pygments_lexer": "ipython3",
   "version": "3.7.0b3"
  }
 },
 "nbformat": 4,
 "nbformat_minor": 4
}

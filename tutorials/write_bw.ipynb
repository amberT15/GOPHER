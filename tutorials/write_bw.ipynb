{
 "cells": [
  {
   "cell_type": "code",
   "execution_count": 41,
   "metadata": {},
   "outputs": [
    {
     "name": "stdout",
     "output_type": "stream",
     "text": [
      "The autoreload extension is already loaded. To reload it, use:\n",
      "  %reload_ext autoreload\n"
     ]
    }
   ],
   "source": [
    "%load_ext autoreload\n",
    "%autoreload 2\n",
    "import sys\n",
    "sys.path.append(\"../scripts/\")\n",
    "import os\n",
    "import pyBigWig\n",
    "import pandas as pd\n",
    "import numpy as np\n",
    "import glob\n",
    "import subprocess\n",
    "import utils\n",
    "import os\n",
    "import evaluate\n",
    "import matplotlib.pyplot as plt"
   ]
  },
  {
   "cell_type": "code",
   "execution_count": 4,
   "metadata": {},
   "outputs": [
    {
     "name": "stdout",
     "output_type": "stream",
     "text": [
      "WARNING:tensorflow:No training configuration found in save file: the model was *not* compiled. Compile it manually.\n"
     ]
    }
   ],
   "source": [
    "best_model = 'tutorial_outputs/' #model you want to use for getting predictions\n",
    "dataset_path = '../data/tfr_datasets/i_2048_w_1/' # testset that is NOT shuffled\n",
    "targets_i = 0  # which target or cell line to write as bw\n",
    "out_dir = utils.make_dir('bw_tracks')\n",
    "chrom_size_path='/home/shush/genomes/GRCh38_EBV.chrom.sizes.tsv'\n",
    "model, bin_size = utils.read_model(best_model)"
   ]
  },
  {
   "cell_type": "code",
   "execution_count": 33,
   "metadata": {},
   "outputs": [],
   "source": [
    "testset, targets = evaluate.collect_whole_testset(data_dir=dataset_path, \n",
    "                                                      coords=True) # load testset\n",
    "C, X, Y = utils.convert_tfr_to_np(testset) # convert to np\n",
    "preds = utils.predict_np(X, model, batch_size=32, reshape_to_2D=False) # get predictions"
   ]
  },
  {
   "cell_type": "code",
   "execution_count": 8,
   "metadata": {},
   "outputs": [],
   "source": [
    "# create paths for new bs files\n",
    "pred_bw_filename = os.path.join(out_dir, 'pred_{}.bw'.format(targets[targets_i]))\n",
    "truth_bw_filename = os.path.join(out_dir, 'truth_{}.bw'.format(targets[targets_i]))\n",
    "# open 2 bws\n",
    "pred_bw = utils.open_bw(pred_bw_filename, chrom_size_path)\n",
    "truth_bw = utils.open_bw(truth_bw_filename, chrom_size_path)"
   ]
  },
  {
   "cell_type": "code",
   "execution_count": 9,
   "metadata": {},
   "outputs": [],
   "source": [
    "clean_C = [str(c).strip('b\\'').strip('\\'') for c in C]\n",
    "for i in range(preds.shape[0]): # per data point \n",
    "    chrom, start, end = clean_C[i].split('_') # get chr, start, end\n",
    "    start = int(start) # to feed into bw making function\n",
    "    # for cell_line in [8]: # per cell line\n",
    "    for t in [targets_i]: # per cell line\n",
    "        # write to ground truth file\n",
    "        truth_bw.addEntries(chrom, start,\n",
    "            values=np.array(np.squeeze(Y[i,:,t]), dtype='float64'),\n",
    "            span=1, step=1)\n",
    "        # write to prediction bw file\n",
    "        pred_bw.addEntries(chrom, start,\n",
    "            values=np.array(np.squeeze(preds[i,:,t]), dtype='float64'),\n",
    "            span=bin_size, step=bin_size)"
   ]
  },
  {
   "cell_type": "code",
   "execution_count": 10,
   "metadata": {},
   "outputs": [],
   "source": [
    "truth_bw.close()\n",
    "pred_bw.close()"
   ]
  },
  {
   "cell_type": "code",
   "execution_count": 42,
   "metadata": {},
   "outputs": [],
   "source": [
    "bw = pyBigWig.open('bw_tracks/truth_PC-3_replicate_1.bw')"
   ]
  },
  {
   "cell_type": "code",
   "execution_count": 52,
   "metadata": {},
   "outputs": [],
   "source": [
    "clean_C = [str(c).strip('b\\'').strip('\\'') for c in C]\n",
    "\n",
    "chrom, s, e = clean_C[6000].split('_')"
   ]
  },
  {
   "cell_type": "code",
   "execution_count": 53,
   "metadata": {},
   "outputs": [],
   "source": [
    "coverage = bw.values(chrom, int(s), int(e))"
   ]
  },
  {
   "cell_type": "code",
   "execution_count": 54,
   "metadata": {},
   "outputs": [
    {
     "data": {
      "text/plain": [
       "[<matplotlib.lines.Line2D at 0x7f48325284e0>]"
      ]
     },
     "execution_count": 54,
     "metadata": {},
     "output_type": "execute_result"
    },
    {
     "data": {
      "image/png": "[encoded data removed]",
      "text/plain": [
       "<Figure size 432x288 with 1 Axes>"
      ]
     },
     "metadata": {
      "needs_background": "light"
     },
     "output_type": "display_data"
    }
   ],
   "source": [
    "plt.plot(coverage)"
   ]
  },
  {
   "cell_type": "code",
   "execution_count": null,
   "metadata": {},
   "outputs": [],
   "source": []
  }
 ],
 "metadata": {
  "kernelspec": {
   "display_name": "Python 3",
   "language": "python",
   "name": "python3"
  },
  "language_info": {
   "codemirror_mode": {
    "name": "ipython",
    "version": 3
   },
   "file_extension": ".py",
   "mimetype": "text/x-python",
   "name": "python",
   "nbconvert_exporter": "python",
   "pygments_lexer": "ipython3",
   "version": "3.7.0b3"
  }
 },
 "nbformat": 4,
 "nbformat_minor": 4
}

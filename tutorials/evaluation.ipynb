{
 "cells": [
  {
   "cell_type": "markdown",
   "metadata": {},
   "source": [
    "# This notebook illsutrates how to evaluate the performance of runs\n",
    "\n",
    "The main function used is evaluate_project from evaluate.py. To use the function 2 main thigs need to be defined:\n",
    "- which dataset directories to use:\n",
    "    - `data_dir` = for test set to use \n",
    "- which models to evaluate. To supply these **ONE** of 3 options need to be done:\n",
    "    - `run_dir_list`  = list of pre-defined runs \n",
    "    - `project_dir` = a directory that contains subdirectories of models that will be evaluated\n",
    "    - `wandb_project_name` = project completed in WandB. If using this option must also provide `wandb_dir` = a directory path where the outputs of the project are saved\n",
    "\n",
    "Optionally output path `output_dir`, filename `output_prefix` can be defined and `batch_size` can be defined. Set batch size to smaller values for bigger models (at the cost of longer duration)\n",
    "\n",
    "The outputs are:\n",
    "- csv of the evaluation results wih 2 rows per target of a model corresponding to scaled or raw results (so the csv is made up of *N(models) * N(targets) * 2 rows*\n",
    "\n",
    "If only MSE and Pearson's r are needed as an output you can set the flag for evaluation `fast=True` to compute running metrics.\n"
   ]
  },
  {
   "cell_type": "code",
   "execution_count": 1,
   "metadata": {},
   "outputs": [],
   "source": [
    "%load_ext autoreload\n",
    "%autoreload 2\n",
    "import sys\n",
    "sys.path.append('../scripts')\n",
    "import evaluate\n",
    "import pandas as pd"
   ]
  },
  {
   "cell_type": "code",
   "execution_count": 2,
   "metadata": {},
   "outputs": [
    {
     "name": "stdout",
     "output_type": "stream",
     "text": [
      "USING PREDEFINED LIST OF RUNS\n"
     ]
    },
    {
     "name": "stderr",
     "output_type": "stream",
     "text": [
      "2022-04-08 14:35:10.505054: I tensorflow/core/platform/cpu_feature_guard.cc:151] This TensorFlow binary is optimized with oneAPI Deep Neural Network Library (oneDNN) to use the following CPU instructions in performance-critical operations:  AVX2 FMA\n",
      "To enable them in other operations, rebuild TensorFlow with the appropriate compiler flags.\n",
      "2022-04-08 14:35:10.951940: I tensorflow/core/common_runtime/gpu/gpu_device.cc:1525] Created device /job:localhost/replica:0/task:0/device:GPU:0 with 14257 MB memory:  -> device: 0, name: NVIDIA RTX A4000, pci bus id: 0000:c1:00.0, compute capability: 8.6\n"
     ]
    },
    {
     "name": "stdout",
     "output_type": "stream",
     "text": [
      "../tutorial_outputs\n",
      "WARNING:tensorflow:No training configuration found in the save file, so the model was *not* compiled. Compile it manually.\n"
     ]
    },
    {
     "name": "stderr",
     "output_type": "stream",
     "text": [
      "2022-04-08 14:35:12.441744: I tensorflow/stream_executor/cuda/cuda_dnn.cc:368] Loaded cuDNN version 8100\n",
      "2022-04-08 14:35:13.757988: I tensorflow/stream_executor/cuda/cuda_blas.cc:1786] TensorFloat-32 will be used for the matrix multiplication. This will only be logged once.\n"
     ]
    },
    {
     "name": "stdout",
     "output_type": "stream",
     "text": [
      "CPU times: user 6.9 s, sys: 9.59 s, total: 16.5 s\n",
      "Wall time: 11.1 s\n"
     ]
    }
   ],
   "source": [
    "%%time\n",
    "# use list of run directories\n",
    "output_dir = '../tutorial_outputs/'\n",
    "evaluate.evaluate_project(data_dir='../data/tfr_datasets/i_2048_w_1/',\n",
    "                          run_dir_list=['../tutorial_outputs'], output_dir=output_dir,\n",
    "                         batch_size=512)"
   ]
  },
  {
   "cell_type": "code",
   "execution_count": 3,
   "metadata": {},
   "outputs": [
    {
     "data": {
      "text/html": [
       "<div>\n",
       "<style scoped>\n",
       "    .dataframe tbody tr th:only-of-type {\n",
       "        vertical-align: middle;\n",
       "    }\n",
       "\n",
       "    .dataframe tbody tr th {\n",
       "        vertical-align: top;\n",
       "    }\n",
       "\n",
       "    .dataframe thead th {\n",
       "        text-align: right;\n",
       "    }\n",
       "</style>\n",
       "<table border=\"1\" class=\"dataframe\">\n",
       "  <thead>\n",
       "    <tr style=\"text-align: right;\">\n",
       "      <th></th>\n",
       "      <th>mse</th>\n",
       "      <th>js_per_seq</th>\n",
       "      <th>js_conc</th>\n",
       "      <th>poiss</th>\n",
       "      <th>pr_corr</th>\n",
       "      <th>sp_corr</th>\n",
       "      <th>targets</th>\n",
       "      <th>pred type</th>\n",
       "      <th>eval type</th>\n",
       "      <th>alpha</th>\n",
       "      <th>...</th>\n",
       "      <th>metrics</th>\n",
       "      <th>model_fn</th>\n",
       "      <th>num_epochs</th>\n",
       "      <th>record_test</th>\n",
       "      <th>rev_comp</th>\n",
       "      <th>shuffle</th>\n",
       "      <th>sigma</th>\n",
       "      <th>verbose</th>\n",
       "      <th>run_dir</th>\n",
       "      <th>scaling_factors</th>\n",
       "    </tr>\n",
       "    <tr>\n",
       "      <th>index</th>\n",
       "      <th></th>\n",
       "      <th></th>\n",
       "      <th></th>\n",
       "      <th></th>\n",
       "      <th></th>\n",
       "      <th></th>\n",
       "      <th></th>\n",
       "      <th></th>\n",
       "      <th></th>\n",
       "      <th></th>\n",
       "      <th></th>\n",
       "      <th></th>\n",
       "      <th></th>\n",
       "      <th></th>\n",
       "      <th></th>\n",
       "      <th></th>\n",
       "      <th></th>\n",
       "      <th></th>\n",
       "      <th></th>\n",
       "      <th></th>\n",
       "      <th></th>\n",
       "    </tr>\n",
       "  </thead>\n",
       "  <tbody>\n",
       "    <tr>\n",
       "      <th>0</th>\n",
       "      <td>0.614011</td>\n",
       "      <td>0.517753</td>\n",
       "      <td>0.618847</td>\n",
       "      <td>0.976301</td>\n",
       "      <td>0.298980</td>\n",
       "      <td>0.163939</td>\n",
       "      <td>PC-3_replicate_1</td>\n",
       "      <td>raw</td>\n",
       "      <td>whole</td>\n",
       "      <td>False</td>\n",
       "      <td>...</td>\n",
       "      <td>['mse', 'pearsonr', 'poisson']</td>\n",
       "      <td>basenjimod</td>\n",
       "      <td>2</td>\n",
       "      <td>False</td>\n",
       "      <td>True</td>\n",
       "      <td>True</td>\n",
       "      <td>20</td>\n",
       "      <td>True</td>\n",
       "      <td>../tutorial_outputs</td>\n",
       "      <td>NaN</td>\n",
       "    </tr>\n",
       "    <tr>\n",
       "      <th>1</th>\n",
       "      <td>0.313320</td>\n",
       "      <td>0.481459</td>\n",
       "      <td>0.497185</td>\n",
       "      <td>0.960087</td>\n",
       "      <td>0.429559</td>\n",
       "      <td>0.331635</td>\n",
       "      <td>Panc1_replicate_1</td>\n",
       "      <td>raw</td>\n",
       "      <td>whole</td>\n",
       "      <td>False</td>\n",
       "      <td>...</td>\n",
       "      <td>['mse', 'pearsonr', 'poisson']</td>\n",
       "      <td>basenjimod</td>\n",
       "      <td>2</td>\n",
       "      <td>False</td>\n",
       "      <td>True</td>\n",
       "      <td>True</td>\n",
       "      <td>20</td>\n",
       "      <td>True</td>\n",
       "      <td>../tutorial_outputs</td>\n",
       "      <td>NaN</td>\n",
       "    </tr>\n",
       "  </tbody>\n",
       "</table>\n",
       "<p>2 rows × 37 columns</p>\n",
       "</div>"
      ],
      "text/plain": [
       "            mse  js_per_seq   js_conc     poiss   pr_corr   sp_corr  \\\n",
       "index                                                                 \n",
       "0      0.614011    0.517753  0.618847  0.976301  0.298980  0.163939   \n",
       "1      0.313320    0.481459  0.497185  0.960087  0.429559  0.331635   \n",
       "\n",
       "                 targets pred type eval type  alpha  ...  \\\n",
       "index                                                ...   \n",
       "0       PC-3_replicate_1       raw     whole  False  ...   \n",
       "1      Panc1_replicate_1       raw     whole  False  ...   \n",
       "\n",
       "                              metrics    model_fn  num_epochs record_test  \\\n",
       "index                                                                       \n",
       "0      ['mse', 'pearsonr', 'poisson']  basenjimod           2       False   \n",
       "1      ['mse', 'pearsonr', 'poisson']  basenjimod           2       False   \n",
       "\n",
       "      rev_comp shuffle  sigma  verbose              run_dir  scaling_factors  \n",
       "index                                                                         \n",
       "0         True    True     20     True  ../tutorial_outputs              NaN  \n",
       "1         True    True     20     True  ../tutorial_outputs              NaN  \n",
       "\n",
       "[2 rows x 37 columns]"
      ]
     },
     "execution_count": 3,
     "metadata": {},
     "output_type": "execute_result"
    }
   ],
   "source": [
    "evaluation_results = pd.read_csv(output_dir+'/evaluation_results.csv', index_col='index') # get results from default output path\n",
    "evaluation_results.head(2)"
   ]
  },
  {
   "cell_type": "code",
   "execution_count": 4,
   "metadata": {},
   "outputs": [
    {
     "name": "stdout",
     "output_type": "stream",
     "text": [
      "Average Pearson's r per run\n"
     ]
    },
    {
     "data": {
      "text/html": [
       "<div>\n",
       "<style scoped>\n",
       "    .dataframe tbody tr th:only-of-type {\n",
       "        vertical-align: middle;\n",
       "    }\n",
       "\n",
       "    .dataframe tbody tr th {\n",
       "        vertical-align: top;\n",
       "    }\n",
       "\n",
       "    .dataframe thead th {\n",
       "        text-align: right;\n",
       "    }\n",
       "</style>\n",
       "<table border=\"1\" class=\"dataframe\">\n",
       "  <thead>\n",
       "    <tr style=\"text-align: right;\">\n",
       "      <th></th>\n",
       "      <th>mse</th>\n",
       "      <th>js_per_seq</th>\n",
       "      <th>js_conc</th>\n",
       "      <th>poiss</th>\n",
       "      <th>pr_corr</th>\n",
       "      <th>sp_corr</th>\n",
       "      <th>alpha</th>\n",
       "      <th>batch_size</th>\n",
       "      <th>bin_size</th>\n",
       "      <th>crop</th>\n",
       "      <th>...</th>\n",
       "      <th>log_wandb</th>\n",
       "      <th>lr_decay</th>\n",
       "      <th>lr_patience</th>\n",
       "      <th>num_epochs</th>\n",
       "      <th>record_test</th>\n",
       "      <th>rev_comp</th>\n",
       "      <th>shuffle</th>\n",
       "      <th>sigma</th>\n",
       "      <th>verbose</th>\n",
       "      <th>scaling_factors</th>\n",
       "    </tr>\n",
       "    <tr>\n",
       "      <th>run_dir</th>\n",
       "      <th></th>\n",
       "      <th></th>\n",
       "      <th></th>\n",
       "      <th></th>\n",
       "      <th></th>\n",
       "      <th></th>\n",
       "      <th></th>\n",
       "      <th></th>\n",
       "      <th></th>\n",
       "      <th></th>\n",
       "      <th></th>\n",
       "      <th></th>\n",
       "      <th></th>\n",
       "      <th></th>\n",
       "      <th></th>\n",
       "      <th></th>\n",
       "      <th></th>\n",
       "      <th></th>\n",
       "      <th></th>\n",
       "      <th></th>\n",
       "      <th></th>\n",
       "    </tr>\n",
       "  </thead>\n",
       "  <tbody>\n",
       "    <tr>\n",
       "      <th>../tutorial_outputs</th>\n",
       "      <td>0.463665</td>\n",
       "      <td>0.499606</td>\n",
       "      <td>0.558016</td>\n",
       "      <td>0.968194</td>\n",
       "      <td>0.364269</td>\n",
       "      <td>0.247787</td>\n",
       "      <td>0.0</td>\n",
       "      <td>64.0</td>\n",
       "      <td>32.0</td>\n",
       "      <td>1.0</td>\n",
       "      <td>...</td>\n",
       "      <td>0.0</td>\n",
       "      <td>0.3</td>\n",
       "      <td>10.0</td>\n",
       "      <td>2.0</td>\n",
       "      <td>0.0</td>\n",
       "      <td>1.0</td>\n",
       "      <td>1.0</td>\n",
       "      <td>20.0</td>\n",
       "      <td>1.0</td>\n",
       "      <td>NaN</td>\n",
       "    </tr>\n",
       "  </tbody>\n",
       "</table>\n",
       "<p>1 rows × 24 columns</p>\n",
       "</div>"
      ],
      "text/plain": [
       "                          mse  js_per_seq   js_conc     poiss   pr_corr  \\\n",
       "run_dir                                                                   \n",
       "../tutorial_outputs  0.463665    0.499606  0.558016  0.968194  0.364269   \n",
       "\n",
       "                      sp_corr  alpha  batch_size  bin_size  crop  ...  \\\n",
       "run_dir                                                           ...   \n",
       "../tutorial_outputs  0.247787    0.0        64.0      32.0   1.0  ...   \n",
       "\n",
       "                     log_wandb  lr_decay  lr_patience  num_epochs  \\\n",
       "run_dir                                                             \n",
       "../tutorial_outputs        0.0       0.3         10.0         2.0   \n",
       "\n",
       "                     record_test  rev_comp  shuffle  sigma  verbose  \\\n",
       "run_dir                                                               \n",
       "../tutorial_outputs          0.0       1.0      1.0   20.0      1.0   \n",
       "\n",
       "                     scaling_factors  \n",
       "run_dir                               \n",
       "../tutorial_outputs              NaN  \n",
       "\n",
       "[1 rows x 24 columns]"
      ]
     },
     "execution_count": 4,
     "metadata": {},
     "output_type": "execute_result"
    }
   ],
   "source": [
    "eval_type = 'whole'\n",
    "pred_type = 'raw'\n",
    "\n",
    "raw_whole_results = evaluation_results[(evaluation_results['pred type']==pred_type)&\n",
    "                                      (evaluation_results['eval type']==eval_type)]\n",
    "print('Average Pearson\\'s r per run')\n",
    "raw_whole_results.groupby('run_dir').mean()"
   ]
  },
  {
   "cell_type": "code",
   "execution_count": 5,
   "metadata": {},
   "outputs": [
    {
     "data": {
      "text/html": [
       "<div>\n",
       "<style scoped>\n",
       "    .dataframe tbody tr th:only-of-type {\n",
       "        vertical-align: middle;\n",
       "    }\n",
       "\n",
       "    .dataframe tbody tr th {\n",
       "        vertical-align: top;\n",
       "    }\n",
       "\n",
       "    .dataframe thead th {\n",
       "        text-align: right;\n",
       "    }\n",
       "</style>\n",
       "<table border=\"1\" class=\"dataframe\">\n",
       "  <thead>\n",
       "    <tr style=\"text-align: right;\">\n",
       "      <th></th>\n",
       "      <th>targets</th>\n",
       "      <th>pr_corr</th>\n",
       "    </tr>\n",
       "    <tr>\n",
       "      <th>index</th>\n",
       "      <th></th>\n",
       "      <th></th>\n",
       "    </tr>\n",
       "  </thead>\n",
       "  <tbody>\n",
       "    <tr>\n",
       "      <th>0</th>\n",
       "      <td>PC-3_replicate_1</td>\n",
       "      <td>0.298980</td>\n",
       "    </tr>\n",
       "    <tr>\n",
       "      <th>1</th>\n",
       "      <td>Panc1_replicate_1</td>\n",
       "      <td>0.429559</td>\n",
       "    </tr>\n",
       "  </tbody>\n",
       "</table>\n",
       "</div>"
      ],
      "text/plain": [
       "                 targets   pr_corr\n",
       "index                             \n",
       "0       PC-3_replicate_1  0.298980\n",
       "1      Panc1_replicate_1  0.429559"
      ]
     },
     "execution_count": 5,
     "metadata": {},
     "output_type": "execute_result"
    }
   ],
   "source": [
    "# per cell line pearson r results\n",
    "raw_whole_results.sort_values('pr_corr')[['targets', 'pr_corr']]"
   ]
  },
  {
   "cell_type": "markdown",
   "metadata": {},
   "source": [
    "# A faster way to calculate Pearson's r and MSE"
   ]
  },
  {
   "cell_type": "code",
   "execution_count": 6,
   "metadata": {},
   "outputs": [
    {
     "name": "stdout",
     "output_type": "stream",
     "text": [
      "USING PREDEFINED LIST OF RUNS\n",
      "../tutorial_outputs\n",
      "WARNING:tensorflow:No training configuration found in the save file, so the model was *not* compiled. Compile it manually.\n"
     ]
    },
    {
     "name": "stderr",
     "output_type": "stream",
     "text": [
      "13it [00:01,  8.23it/s]\n",
      "13it [00:00, 324.21it/s]"
     ]
    },
    {
     "name": "stdout",
     "output_type": "stream",
     "text": [
      "CPU times: user 3.4 s, sys: 624 ms, total: 4.03 s\n",
      "Wall time: 1.89 s\n"
     ]
    },
    {
     "name": "stderr",
     "output_type": "stream",
     "text": [
      "\n"
     ]
    }
   ],
   "source": [
    "%%time\n",
    "# use list of run directories\n",
    "output_dir = '../tutorial_outputs/'\n",
    "evaluate.evaluate_project(data_dir='../data/tfr_datasets/i_2048_w_1/',\n",
    "                          run_dir_list=['../tutorial_outputs'], output_dir=output_dir,\n",
    "                         batch_size=512, fast=True)"
   ]
  },
  {
   "cell_type": "code",
   "execution_count": null,
   "metadata": {},
   "outputs": [],
   "source": []
  }
 ],
 "metadata": {
  "kernelspec": {
   "display_name": "Python 3 (ipykernel)",
   "language": "python",
   "name": "python3"
  },
  "language_info": {
   "codemirror_mode": {
    "name": "ipython",
    "version": 3
   },
   "file_extension": ".py",
   "mimetype": "text/x-python",
   "name": "python",
   "nbconvert_exporter": "python",
   "pygments_lexer": "ipython3",
   "version": "3.9.7"
  }
 },
 "nbformat": 4,
 "nbformat_minor": 4
}

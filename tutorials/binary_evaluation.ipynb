{
 "cells": [
  {
   "cell_type": "markdown",
   "id": "bf9509c5",
   "metadata": {},
   "source": [
    "# This notebook shows an example of evaluating binary and quantiative models in using evaluations metrics AUROC/AUPR and Person's R"
   ]
  },
  {
   "cell_type": "code",
   "execution_count": 1,
   "id": "2907f5c1",
   "metadata": {},
   "outputs": [],
   "source": [
    "%load_ext autoreload\n",
    "%autoreload 2\n",
    "import sys\n",
    "sys.path.append('../scripts')\n",
    "import binary_comparison\n",
    "import pandas as pd\n",
    "import numpy as np"
   ]
  },
  {
   "cell_type": "code",
   "execution_count": 2,
   "id": "6e5d4cd2",
   "metadata": {},
   "outputs": [],
   "source": [
    "binary_model = '../tutorial_binary/'\n",
    "binary_dataset = '../data/tfr_datasets/i_2048_binary/i_2048_binary.h5'\n",
    "quantitative_model = '../tutorial_outputs/'\n",
    "quantitative_dataset = '../data/tfr_datasets/i_2048_w_1'"
   ]
  },
  {
   "cell_type": "markdown",
   "id": "69af07c5",
   "metadata": {},
   "source": [
    "## Evaluation using AUPR/AUROC"
   ]
  },
  {
   "cell_type": "code",
   "execution_count": 3,
   "id": "87b46411",
   "metadata": {},
   "outputs": [
    {
     "name": "stderr",
     "output_type": "stream",
     "text": [
      "2022-03-20 18:15:49.487302: I tensorflow/core/platform/cpu_feature_guard.cc:151] This TensorFlow binary is optimized with oneAPI Deep Neural Network Library (oneDNN) to use the following CPU instructions in performance-critical operations:  AVX2 FMA\n",
      "To enable them in other operations, rebuild TensorFlow with the appropriate compiler flags.\n",
      "2022-03-20 18:15:50.008504: I tensorflow/core/common_runtime/gpu/gpu_device.cc:1525] Created device /job:localhost/replica:0/task:0/device:GPU:0 with 14257 MB memory:  -> device: 0, name: NVIDIA RTX A4000, pci bus id: 0000:c2:00.0, compute capability: 8.6\n",
      "2022-03-20 18:15:51.655889: I tensorflow/stream_executor/cuda/cuda_dnn.cc:368] Loaded cuDNN version 8100\n",
      "2022-03-20 18:15:52.948678: I tensorflow/stream_executor/cuda/cuda_blas.cc:1786] TensorFloat-32 will be used for the matrix multiplication. This will only be logged once.\n"
     ]
    }
   ],
   "source": [
    "model_list = []\n",
    "aupr_list = []\n",
    "auroc_list = []\n",
    "for model in [binary_model,quantitative_model]:\n",
    "    aupr,auroc = binary_comparison.binary_metrics(model,binary_dataset)\n",
    "    aupr_list.append(aupr)\n",
    "    auroc_list.append(auroc)\n",
    "    model_list.append(model)\n",
    "    "
   ]
  },
  {
   "cell_type": "code",
   "execution_count": 4,
   "id": "b56042d5",
   "metadata": {},
   "outputs": [],
   "source": [
    "binary_metric_df = pd.DataFrame({'model':model_list,'aupr':aupr_list,'auroc':auroc_list})"
   ]
  },
  {
   "cell_type": "code",
   "execution_count": 5,
   "id": "76e76d4d",
   "metadata": {},
   "outputs": [
    {
     "data": {
      "text/html": [
       "<div>\n",
       "<style scoped>\n",
       "    .dataframe tbody tr th:only-of-type {\n",
       "        vertical-align: middle;\n",
       "    }\n",
       "\n",
       "    .dataframe tbody tr th {\n",
       "        vertical-align: top;\n",
       "    }\n",
       "\n",
       "    .dataframe thead th {\n",
       "        text-align: right;\n",
       "    }\n",
       "</style>\n",
       "<table border=\"1\" class=\"dataframe\">\n",
       "  <thead>\n",
       "    <tr style=\"text-align: right;\">\n",
       "      <th></th>\n",
       "      <th>model</th>\n",
       "      <th>aupr</th>\n",
       "      <th>auroc</th>\n",
       "    </tr>\n",
       "  </thead>\n",
       "  <tbody>\n",
       "    <tr>\n",
       "      <th>0</th>\n",
       "      <td>../tutorial_binary/</td>\n",
       "      <td>0.875625</td>\n",
       "      <td>0.812866</td>\n",
       "    </tr>\n",
       "    <tr>\n",
       "      <th>1</th>\n",
       "      <td>../tutorial_outputs/</td>\n",
       "      <td>0.835389</td>\n",
       "      <td>0.600894</td>\n",
       "    </tr>\n",
       "  </tbody>\n",
       "</table>\n",
       "</div>"
      ],
      "text/plain": [
       "                  model      aupr     auroc\n",
       "0   ../tutorial_binary/  0.875625  0.812866\n",
       "1  ../tutorial_outputs/  0.835389  0.600894"
      ]
     },
     "execution_count": 5,
     "metadata": {},
     "output_type": "execute_result"
    }
   ],
   "source": [
    "binary_metric_df"
   ]
  },
  {
   "cell_type": "markdown",
   "id": "94296467",
   "metadata": {},
   "source": [
    "## Evaluation using Pearson's r"
   ]
  },
  {
   "cell_type": "code",
   "execution_count": 6,
   "id": "79bee9c9",
   "metadata": {},
   "outputs": [],
   "source": [
    "model_list = []\n",
    "p_r_list = []\n",
    "\n",
    "#Quantitative model evaluation\n",
    "p_r= binary_comparison.cov_pearson(quantitative_model,quantitative_dataset)\n",
    "p_r_list.append(np.mean(p_r))\n",
    "model_list.append(quantitative_model)\n",
    "\n",
    "#Binary model evaluation\n",
    "p_r= binary_comparison.binary_to_profile(binary_model,quantitative_dataset)\n",
    "p_r_list.append(np.mean(p_r))\n",
    "model_list.append(binary_model)"
   ]
  },
  {
   "cell_type": "code",
   "execution_count": 7,
   "id": "dfa3d0a9",
   "metadata": {},
   "outputs": [],
   "source": [
    "pr_df = pd.DataFrame({'model':model_list,'pearson r' :p_r_list})"
   ]
  },
  {
   "cell_type": "code",
   "execution_count": 8,
   "id": "776f02b8",
   "metadata": {},
   "outputs": [
    {
     "data": {
      "text/html": [
       "<div>\n",
       "<style scoped>\n",
       "    .dataframe tbody tr th:only-of-type {\n",
       "        vertical-align: middle;\n",
       "    }\n",
       "\n",
       "    .dataframe tbody tr th {\n",
       "        vertical-align: top;\n",
       "    }\n",
       "\n",
       "    .dataframe thead th {\n",
       "        text-align: right;\n",
       "    }\n",
       "</style>\n",
       "<table border=\"1\" class=\"dataframe\">\n",
       "  <thead>\n",
       "    <tr style=\"text-align: right;\">\n",
       "      <th></th>\n",
       "      <th>model</th>\n",
       "      <th>pearson r</th>\n",
       "    </tr>\n",
       "  </thead>\n",
       "  <tbody>\n",
       "    <tr>\n",
       "      <th>0</th>\n",
       "      <td>../tutorial_outputs/</td>\n",
       "      <td>0.467948</td>\n",
       "    </tr>\n",
       "    <tr>\n",
       "      <th>1</th>\n",
       "      <td>../tutorial_binary/</td>\n",
       "      <td>0.467948</td>\n",
       "    </tr>\n",
       "  </tbody>\n",
       "</table>\n",
       "</div>"
      ],
      "text/plain": [
       "                  model  pearson r\n",
       "0  ../tutorial_outputs/   0.467948\n",
       "1   ../tutorial_binary/   0.467948"
      ]
     },
     "execution_count": 8,
     "metadata": {},
     "output_type": "execute_result"
    }
   ],
   "source": [
    "pr_df"
   ]
  },
  {
   "cell_type": "code",
   "execution_count": null,
   "id": "9833e913",
   "metadata": {},
   "outputs": [],
   "source": []
  }
 ],
 "metadata": {
  "kernelspec": {
   "display_name": "Python 3 (ipykernel)",
   "language": "python",
   "name": "python3"
  },
  "language_info": {
   "codemirror_mode": {
    "name": "ipython",
    "version": 3
   },
   "file_extension": ".py",
   "mimetype": "text/x-python",
   "name": "python",
   "nbconvert_exporter": "python",
   "pygments_lexer": "ipython3",
   "version": "3.8.10"
  }
 },
 "nbformat": 4,
 "nbformat_minor": 5
}

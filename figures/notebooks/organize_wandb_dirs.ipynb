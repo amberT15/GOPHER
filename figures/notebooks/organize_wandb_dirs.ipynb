{
 "cells": [
  {
   "cell_type": "code",
   "execution_count": 35,
   "id": "71751703",
   "metadata": {},
   "outputs": [],
   "source": [
    "import sys\n",
    "sys.path.append('../../scripts/')\n",
    "import evaluate\n",
    "import wandb\n",
    "import shutil, os\n",
    "import glob"
   ]
  },
  {
   "cell_type": "code",
   "execution_count": 56,
   "id": "8be76da0",
   "metadata": {},
   "outputs": [],
   "source": [
    "wandb.login()\n",
    "api = wandb.Api()\n",
    "runs = api.runs('NEW_MODELS_32')"
   ]
  },
  {
   "cell_type": "code",
   "execution_count": 57,
   "id": "c7468fd9",
   "metadata": {},
   "outputs": [],
   "source": [
    "label_dict = {'conv':'CNN', 'residual':'Residual', 'relu':'ReLU', 'exponential':'Exp'}"
   ]
  },
  {
   "cell_type": "code",
   "execution_count": 58,
   "id": "9e9f8ce7",
   "metadata": {},
   "outputs": [],
   "source": [
    "for run in runs:\n",
    "    if run.config.get('lr_patience') == 3:\n",
    "        \n",
    "        head_type = run.config['model_fn'].split('_')[2]\n",
    "        model_type = run.config['model_fn'].split('_')[0]\n",
    "        bin_size = run.config['bin_size']\n",
    "        act = run.config['activation']\n",
    "        if run.config['model_fn'] in ['residual_profile_task_conv_32', 'residual_profile_all_dense_32', 'conv_profile_all_base', 'conv_profile_task_base']:\n",
    "            source = glob.glob('/home/shush/wandb/wandb_runs/*'+run.id)[0]\n",
    "            run_name = source.split('/')[-1]\n",
    "            dest = '/home/shush/wandb/new_models/{}/{}/{}/{}/{}'.format(label_dict[model_type], bin_size, head_type, label_dict[act], run_name)\n",
    "            shutil.copytree(source, dest)"
   ]
  },
  {
   "cell_type": "code",
   "execution_count": 18,
   "id": "3a08cd77",
   "metadata": {},
   "outputs": [
    {
     "data": {
      "text/plain": [
       "dict_keys(['crop', 'l_rate', 'loss_fn', 'bin_size', 'data_dir', 'lr_decay', 'model_fn', 'rev_comp', 'task_type', 'activation', 'num_epochs', 'es_patience', 'lr_patience', 'window_size'])"
      ]
     },
     "execution_count": 18,
     "metadata": {},
     "output_type": "execute_result"
    }
   ],
   "source": [
    "runs[0].config.keys()"
   ]
  },
  {
   "cell_type": "code",
   "execution_count": 31,
   "id": "a2294d7e",
   "metadata": {},
   "outputs": [],
   "source": []
  },
  {
   "cell_type": "code",
   "execution_count": 32,
   "id": "6333fb52",
   "metadata": {},
   "outputs": [],
   "source": []
  },
  {
   "cell_type": "code",
   "execution_count": 34,
   "id": "f7987fe9",
   "metadata": {},
   "outputs": [
    {
     "data": {
      "text/plain": [
       "'CNN/1/task/Exp'"
      ]
     },
     "execution_count": 34,
     "metadata": {},
     "output_type": "execute_result"
    }
   ],
   "source": []
  },
  {
   "cell_type": "code",
   "execution_count": 27,
   "id": "56ab3f8a",
   "metadata": {},
   "outputs": [
    {
     "data": {
      "text/plain": [
       "'conv_profile_task_base'"
      ]
     },
     "execution_count": 27,
     "metadata": {},
     "output_type": "execute_result"
    }
   ],
   "source": [
    "run.config['model_fn']"
   ]
  },
  {
   "cell_type": "code",
   "execution_count": null,
   "id": "028c3dc6",
   "metadata": {},
   "outputs": [],
   "source": []
  }
 ],
 "metadata": {
  "kernelspec": {
   "display_name": "Python 3 (ipykernel)",
   "language": "python",
   "name": "python3"
  },
  "language_info": {
   "codemirror_mode": {
    "name": "ipython",
    "version": 3
   },
   "file_extension": ".py",
   "mimetype": "text/x-python",
   "name": "python",
   "nbconvert_exporter": "python",
   "pygments_lexer": "ipython3",
   "version": "3.9.7"
  }
 },
 "nbformat": 4,
 "nbformat_minor": 5
}
